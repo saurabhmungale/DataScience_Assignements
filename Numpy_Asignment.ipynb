{
  "nbformat": 4,
  "nbformat_minor": 0,
  "metadata": {
    "colab": {
      "provenance": [],
      "authorship_tag": "ABX9TyNg4kT0ccyHEoKAFB4UFPZo",
      "include_colab_link": true
    },
    "kernelspec": {
      "name": "python3",
      "display_name": "Python 3"
    },
    "language_info": {
      "name": "python"
    }
  },
  "cells": [
    {
      "cell_type": "markdown",
      "metadata": {
        "id": "view-in-github",
        "colab_type": "text"
      },
      "source": [
        "<a href=\"https://colab.research.google.com/github/saurabhmungale/DataScience_Assignements/blob/main/Numpy_Asignment.ipynb\" target=\"_parent\"><img src=\"https://colab.research.google.com/assets/colab-badge.svg\" alt=\"Open In Colab\"/></a>"
      ]
    },
    {
      "cell_type": "markdown",
      "source": [
        "Que.1)1. Create a NumPy array 'arr' of integers from 0 to 5 and print its data type.\n"
      ],
      "metadata": {
        "id": "vXIZZ94M2XFj"
      }
    },
    {
      "cell_type": "code",
      "source": [
        "import numpy as np\n",
        "\n",
        "# Create a NumPy array of integers from 0 to 5\n",
        "arr = np.arange(6)\n",
        "\n",
        "# Print the array and its data type\n",
        "print(\"Array:\", arr)\n",
        "print(\"Data type:\", arr.dtype)\n"
      ],
      "metadata": {
        "colab": {
          "base_uri": "https://localhost:8080/"
        },
        "id": "spelFV8c2dwp",
        "outputId": "f277525a-9bb8-43e8-80e6-037dfc060ac3"
      },
      "execution_count": 1,
      "outputs": [
        {
          "output_type": "stream",
          "name": "stdout",
          "text": [
            "Array: [0 1 2 3 4 5]\n",
            "Data type: int64\n"
          ]
        }
      ]
    },
    {
      "cell_type": "markdown",
      "source": [
        "Que.2) Given a NumPy array 'arr', check if its data type is float64.arr = np.array([1.5, 2.6, 3.7])\n"
      ],
      "metadata": {
        "id": "PZTvhOf82tP7"
      }
    },
    {
      "cell_type": "code",
      "source": [
        "import numpy as np\n",
        "\n",
        "# Given NumPy array\n",
        "arr = np.array([1.5, 2.6, 3.7])\n",
        "\n",
        "# Check if the data type is float64\n",
        "if arr.dtype == np.float64:\n",
        "    print(\"The data type of the array is float64.\")\n",
        "else:\n",
        "    print(f\"The data type of the array is {arr.dtype}.\")\n"
      ],
      "metadata": {
        "colab": {
          "base_uri": "https://localhost:8080/"
        },
        "id": "zW7xplI42tcw",
        "outputId": "78a93f58-96da-439d-e66f-0ad2f543ada1"
      },
      "execution_count": 2,
      "outputs": [
        {
          "output_type": "stream",
          "name": "stdout",
          "text": [
            "The data type of the array is float64.\n"
          ]
        }
      ]
    },
    {
      "cell_type": "markdown",
      "source": [
        "Que.3) Create a NumPy array 'arr' with a data type of complex128 containing three complex number"
      ],
      "metadata": {
        "id": "PrMKTV6p2_HU"
      }
    },
    {
      "cell_type": "code",
      "source": [
        "import numpy as np\n",
        "\n",
        "# Given NumPy array\n",
        "arr = np.array([1.5, 2.6, 3.7])\n",
        "\n",
        "# Check if the data type is float64\n",
        "if arr.dtype == np.float64:\n",
        "    print(\"The data type of the array is float64.\")\n",
        "else:\n",
        "    print(f\"The data type of the array is {arr.dtype}.\")\n"
      ],
      "metadata": {
        "colab": {
          "base_uri": "https://localhost:8080/"
        },
        "id": "Nd6PI5F_3DaG",
        "outputId": "1f834490-74c0-4cf5-a1d1-2c0fb1a0f698"
      },
      "execution_count": 3,
      "outputs": [
        {
          "output_type": "stream",
          "name": "stdout",
          "text": [
            "The data type of the array is float64.\n"
          ]
        }
      ]
    },
    {
      "cell_type": "markdown",
      "source": [
        "QUe.4)Convert an existing NumPy array 'arr' of integers to float32 data type."
      ],
      "metadata": {
        "id": "1ax9qSTH3H_W"
      }
    },
    {
      "cell_type": "code",
      "source": [
        "import numpy as np\n",
        "\n",
        "# Existing NumPy array of integers\n",
        "arr = np.array([1, 2, 3, 4, 5])\n",
        "\n",
        "# Convert the array to float32 data type\n",
        "arr_float32 = arr.astype(np.float32)\n",
        "\n",
        "# Print the original and converted arrays\n",
        "print(\"Original array:\", arr)\n",
        "print(\"Original array data type:\", arr.dtype)\n",
        "print(\"Converted array:\", arr_float32)\n",
        "print(\"Converted array data type:\", arr_float32.dtype)\n"
      ],
      "metadata": {
        "colab": {
          "base_uri": "https://localhost:8080/"
        },
        "id": "LRVRNwn33OZ3",
        "outputId": "c53e8fc9-4572-4a32-b049-d996780648fe"
      },
      "execution_count": 4,
      "outputs": [
        {
          "output_type": "stream",
          "name": "stdout",
          "text": [
            "Original array: [1 2 3 4 5]\n",
            "Original array data type: int64\n",
            "Converted array: [1. 2. 3. 4. 5.]\n",
            "Converted array data type: float32\n"
          ]
        }
      ]
    },
    {
      "cell_type": "markdown",
      "source": [
        "Que.5)Given a NumPy array 'arr' with float64 data type, convert it to float32 to reduce decimal precision."
      ],
      "metadata": {
        "id": "aew7F7cW3Ros"
      }
    },
    {
      "cell_type": "code",
      "source": [
        "import numpy as np\n",
        "\n",
        "# Given NumPy array with float64 data type\n",
        "arr = np.array([1.123456789, 2.987654321, 3.141592653], dtype=np.float64)\n",
        "\n",
        "# Convert the array to float32 data type\n",
        "arr_float32 = arr.astype(np.float32)\n",
        "\n",
        "# Print the original and converted arrays\n",
        "print(\"Original array:\", arr)\n",
        "print(\"Original array data type:\", arr.dtype)\n",
        "print(\"Converted array:\", arr_float32)\n",
        "print(\"Converted array data type:\", arr_float32.dtype)\n"
      ],
      "metadata": {
        "colab": {
          "base_uri": "https://localhost:8080/"
        },
        "id": "jOxbGfWG3Tjt",
        "outputId": "cb7a1a8e-570e-4580-c981-076ddff5b0a1"
      },
      "execution_count": 5,
      "outputs": [
        {
          "output_type": "stream",
          "name": "stdout",
          "text": [
            "Original array: [1.12345679 2.98765432 3.14159265]\n",
            "Original array data type: float64\n",
            "Converted array: [1.1234568 2.9876542 3.1415927]\n",
            "Converted array data type: float32\n"
          ]
        }
      ]
    },
    {
      "cell_type": "markdown",
      "source": [
        "Que.6)Write a function array_attributes that takes a NumPy array as input and returns its shape, size, and data\n",
        "type."
      ],
      "metadata": {
        "id": "uWxlBx4i3ePt"
      }
    },
    {
      "cell_type": "code",
      "source": [
        "import numpy as np\n",
        "\n",
        "def array_attributes(arr):\n",
        "    \"\"\"\n",
        "    Returns the shape, size, and data type of a NumPy array.\n",
        "\n",
        "    Parameters:\n",
        "        arr (numpy.ndarray): Input NumPy array.\n",
        "\n",
        "    Returns:\n",
        "        tuple: A tuple containing the shape, size, and data type of the array.\n",
        "    \"\"\"\n",
        "    return arr.shape, arr.size, arr.dtype\n",
        "\n",
        "# Example usage:\n",
        "arr = np.array([[1, 2, 3], [4, 5, 6]])\n",
        "shape, size, dtype = array_attributes(arr)\n",
        "\n",
        "print(f\"Array: \\n{arr}\")\n",
        "print(f\"Shape: {shape}\")\n",
        "print(f\"Size: {size}\")\n",
        "print(f\"Data Type: {dtype}\")\n"
      ],
      "metadata": {
        "colab": {
          "base_uri": "https://localhost:8080/"
        },
        "id": "m49nYpYj3jdT",
        "outputId": "1de8e031-ad40-4400-cc92-4696b141874d"
      },
      "execution_count": 6,
      "outputs": [
        {
          "output_type": "stream",
          "name": "stdout",
          "text": [
            "Array: \n",
            "[[1 2 3]\n",
            " [4 5 6]]\n",
            "Shape: (2, 3)\n",
            "Size: 6\n",
            "Data Type: int64\n"
          ]
        }
      ]
    },
    {
      "cell_type": "markdown",
      "source": [
        "Que.7)Create a function array_dimension that takes a NumPy array as input and returns its dimensionality."
      ],
      "metadata": {
        "id": "A2uGY1P03ngF"
      }
    },
    {
      "cell_type": "code",
      "source": [
        "import numpy as np\n",
        "\n",
        "def array_dimension(arr):\n",
        "    \"\"\"\n",
        "    Returns the dimensionality of a NumPy array.\n",
        "\n",
        "    Parameters:\n",
        "        arr (numpy.ndarray): Input NumPy array.\n",
        "\n",
        "    Returns:\n",
        "        int: Dimensionality of the array.\n",
        "    \"\"\"\n",
        "    return arr.ndim\n",
        "\n",
        "# Example usage:\n",
        "arr_1d = np.array([1, 2, 3])\n",
        "arr_2d = np.array([[1, 2, 3], [4, 5, 6]])\n",
        "arr_3d = np.array([[[1], [2]], [[3], [4]]])\n",
        "\n",
        "print(f\"Dimensionality of arr_1d: {array_dimension(arr_1d)}\")\n",
        "print(f\"Dimensionality of arr_2d: {array_dimension(arr_2d)}\")\n",
        "print(f\"Dimensionality of arr_3d: {array_dimension(arr_3d)}\")\n"
      ],
      "metadata": {
        "colab": {
          "base_uri": "https://localhost:8080/"
        },
        "id": "jdEwj7o63szf",
        "outputId": "9d979eff-4fd6-43f5-95af-924db8f81cb3"
      },
      "execution_count": 7,
      "outputs": [
        {
          "output_type": "stream",
          "name": "stdout",
          "text": [
            "Dimensionality of arr_1d: 1\n",
            "Dimensionality of arr_2d: 2\n",
            "Dimensionality of arr_3d: 3\n"
          ]
        }
      ]
    },
    {
      "cell_type": "markdown",
      "source": [
        "Que.8)Design a function item_size_info that takes a NumPy array as input and returns the item size and the total\n",
        "size in bytes."
      ],
      "metadata": {
        "id": "zD_-EtuR3y7c"
      }
    },
    {
      "cell_type": "code",
      "source": [
        "import numpy as np\n",
        "\n",
        "def item_size_info(arr):\n",
        "    \"\"\"\n",
        "    Returns the item size and total size in bytes of a NumPy array.\n",
        "\n",
        "    Parameters:\n",
        "        arr (numpy.ndarray): Input NumPy array.\n",
        "\n",
        "    Returns:\n",
        "        tuple: A tuple containing the item size (in bytes) and total size (in bytes).\n",
        "    \"\"\"\n",
        "    item_size = arr.itemsize  # Size of one element in bytes\n",
        "    total_size = arr.nbytes   # Total size of the array in bytes\n",
        "    return item_size, total_size\n",
        "\n",
        "# Example usage:\n",
        "arr = np.array([[1, 2, 3], [4, 5, 6]], dtype=np.int32)\n",
        "\n",
        "item_size, total_size = item_size_info(arr)\n",
        "print(f\"Array: \\n{arr}\")\n",
        "print(f\"Item size (in bytes): {item_size}\")\n",
        "print(f\"Total size (in bytes): {total_size}\")\n"
      ],
      "metadata": {
        "colab": {
          "base_uri": "https://localhost:8080/"
        },
        "id": "PFpNk0SC37mZ",
        "outputId": "f2b626dd-5fb5-4d47-f603-b6f14cf54f95"
      },
      "execution_count": 8,
      "outputs": [
        {
          "output_type": "stream",
          "name": "stdout",
          "text": [
            "Array: \n",
            "[[1 2 3]\n",
            " [4 5 6]]\n",
            "Item size (in bytes): 4\n",
            "Total size (in bytes): 24\n"
          ]
        }
      ]
    },
    {
      "cell_type": "markdown",
      "source": [
        "Que.9)Create a function array_strides that takes a NumPy array as input and returns the strides of the array"
      ],
      "metadata": {
        "id": "1njzaub94C3p"
      }
    },
    {
      "cell_type": "code",
      "source": [
        "import numpy as np\n",
        "\n",
        "def array_strides(arr):\n",
        "    \"\"\"\n",
        "    Returns the strides of a NumPy array.\n",
        "\n",
        "    Parameters:\n",
        "        arr (numpy.ndarray): Input NumPy array.\n",
        "\n",
        "    Returns:\n",
        "        tuple: A tuple containing the strides of the array.\n",
        "    \"\"\"\n",
        "    return arr.strides\n",
        "\n",
        "# Example usage:\n",
        "arr_2d = np.array([[1, 2, 3], [4, 5, 6]], dtype=np.int32)\n",
        "arr_3d = np.array([[[1, 2], [3, 4]], [[5, 6], [7, 8]]], dtype=np.float64)\n",
        "\n",
        "print(f\"Strides of arr_2d: {array_strides(arr_2d)}\")\n",
        "print(f\"Strides of arr_3d: {array_strides(arr_3d)}\")\n",
        "\n"
      ],
      "metadata": {
        "colab": {
          "base_uri": "https://localhost:8080/"
        },
        "id": "cmiNedMk4HW6",
        "outputId": "e115b40c-f6ee-4134-d87c-3930b0598358"
      },
      "execution_count": 9,
      "outputs": [
        {
          "output_type": "stream",
          "name": "stdout",
          "text": [
            "Strides of arr_2d: (12, 4)\n",
            "Strides of arr_3d: (32, 16, 8)\n"
          ]
        }
      ]
    },
    {
      "cell_type": "markdown",
      "source": [
        "Que.10) Design a function shape_stride_relationship that takes a NumPy array as input and returns the shape\n",
        "and strides of the array."
      ],
      "metadata": {
        "id": "ty8oQmTS4M5R"
      }
    },
    {
      "cell_type": "code",
      "source": [
        "import numpy as np\n",
        "\n",
        "def shape_stride_relationship(arr):\n",
        "    \"\"\"\n",
        "    Returns the shape and strides of a NumPy array.\n",
        "\n",
        "    Parameters:\n",
        "        arr (numpy.ndarray): Input NumPy array.\n",
        "\n",
        "    Returns:\n",
        "        tuple: A tuple containing the shape and strides of the array.\n",
        "    \"\"\"\n",
        "    return arr.shape, arr.strides\n",
        "\n",
        "# Example usage:\n",
        "arr_2d = np.array([[1, 2, 3], [4, 5, 6]], dtype=np.int32)\n",
        "arr_3d = np.array([[[1, 2], [3, 4]], [[5, 6], [7, 8]]], dtype=np.float64)\n",
        "\n",
        "shape_2d, strides_2d = shape_stride_relationship(arr_2d)\n",
        "shape_3d, strides_3d = shape_stride_relationship(arr_3d)\n",
        "\n",
        "print(f\"Shape of arr_2d: {shape_2d}, Strides: {strides_2d}\")\n",
        "print(f\"Shape of arr_3d: {shape_3d}, Strides: {strides_3d}\")\n"
      ],
      "metadata": {
        "colab": {
          "base_uri": "https://localhost:8080/"
        },
        "id": "0G13XyjU4RqI",
        "outputId": "12a4f8ea-1aef-4d74-f74b-fa9b657c31b8"
      },
      "execution_count": 10,
      "outputs": [
        {
          "output_type": "stream",
          "name": "stdout",
          "text": [
            "Shape of arr_2d: (2, 3), Strides: (12, 4)\n",
            "Shape of arr_3d: (2, 2, 2), Strides: (32, 16, 8)\n"
          ]
        }
      ]
    },
    {
      "cell_type": "markdown",
      "source": [
        "QUe.11)Create a function `create_zeros_array` that takes an integer `n` as input and returns a NumPy array of\n",
        "zeros with `n` elements."
      ],
      "metadata": {
        "id": "D2J0LmUM4ci_"
      }
    },
    {
      "cell_type": "code",
      "source": [
        "import numpy as np\n",
        "\n",
        "def create_zeros_array(n):\n",
        "    \"\"\"\n",
        "    Creates a NumPy array of zeros with n elements.\n",
        "\n",
        "    Parameters:\n",
        "        n (int): Number of elements in the array.\n",
        "\n",
        "    Returns:\n",
        "        numpy.ndarray: A NumPy array filled with zeros.\n",
        "    \"\"\"\n",
        "    return np.zeros(n)\n",
        "\n",
        "# Example usage:\n",
        "array_of_zeros = create_zeros_array(5)\n",
        "print(\"Array of zeros:\", array_of_zeros)\n",
        "print(\"Shape:\", array_of_zeros.shape)\n",
        "print(\"Data type:\", array_of_zeros.dtype)\n"
      ],
      "metadata": {
        "colab": {
          "base_uri": "https://localhost:8080/"
        },
        "id": "_KLZWUdW4guq",
        "outputId": "b2ea52a9-db29-4a16-f2c0-c266548ae284"
      },
      "execution_count": 11,
      "outputs": [
        {
          "output_type": "stream",
          "name": "stdout",
          "text": [
            "Array of zeros: [0. 0. 0. 0. 0.]\n",
            "Shape: (5,)\n",
            "Data type: float64\n"
          ]
        }
      ]
    },
    {
      "cell_type": "markdown",
      "source": [
        "Que.12) Write a function `create_ones_matrix` that takes integers `rows` and `cols` as inputs and generates a 2D\n",
        "NumPy array filled with ones of size `rows x cols`."
      ],
      "metadata": {
        "id": "wSErmYVi4pul"
      }
    },
    {
      "cell_type": "code",
      "source": [
        "import numpy as np\n",
        "\n",
        "def create_ones_matrix(rows, cols):\n",
        "    \"\"\"\n",
        "    Creates a 2D NumPy array filled with ones of size rows x cols.\n",
        "\n",
        "    Parameters:\n",
        "        rows (int): Number of rows in the matrix.\n",
        "        cols (int): Number of columns in the matrix.\n",
        "\n",
        "    Returns:\n",
        "        numpy.ndarray: A 2D NumPy array filled with ones.\n",
        "    \"\"\"\n",
        "    return np.ones((rows, cols))\n",
        "\n",
        "# Example usage:\n",
        "ones_matrix = create_ones_matrix(3, 4)\n",
        "print(\"Matrix filled with ones:\")\n",
        "print(ones_matrix)\n",
        "print(\"Shape:\", ones_matrix.shape)\n",
        "print(\"Data type:\", ones_matrix.dtype)\n"
      ],
      "metadata": {
        "colab": {
          "base_uri": "https://localhost:8080/"
        },
        "id": "uf7bUBjK4tyT",
        "outputId": "9ed07e36-8c1d-4b20-e6e6-55a18c3dfa9c"
      },
      "execution_count": 12,
      "outputs": [
        {
          "output_type": "stream",
          "name": "stdout",
          "text": [
            "Matrix filled with ones:\n",
            "[[1. 1. 1. 1.]\n",
            " [1. 1. 1. 1.]\n",
            " [1. 1. 1. 1.]]\n",
            "Shape: (3, 4)\n",
            "Data type: float64\n"
          ]
        }
      ]
    },
    {
      "cell_type": "markdown",
      "source": [
        "QUe.13) Write a function `generate_range_array` that takes three integers start, stop, and step as arguments and\n",
        "creates a NumPy array with a range starting from `start`, ending at stop (exclusive), and with the specified\n",
        "`step`."
      ],
      "metadata": {
        "id": "npuMXK_n4xFg"
      }
    },
    {
      "cell_type": "code",
      "source": [
        "import numpy as np\n",
        "\n",
        "def generate_range_array(start, stop, step):\n",
        "    \"\"\"\n",
        "    Generates a NumPy array with values from start to stop (exclusive),\n",
        "    with the specified step size.\n",
        "\n",
        "    Parameters:\n",
        "        start (int): The starting value of the range.\n",
        "        stop (int): The end value of the range (exclusive).\n",
        "        step (int): The step size between values in the range.\n",
        "\n",
        "    Returns:\n",
        "        numpy.ndarray: A NumPy array containing the generated range of values.\n",
        "    \"\"\"\n",
        "    return np.arange(start, stop, step)\n",
        "\n",
        "# Example usage:\n",
        "range_array = generate_range_array(2, 10, 2)\n",
        "print(\"Generated range array:\", range_array)\n"
      ],
      "metadata": {
        "colab": {
          "base_uri": "https://localhost:8080/"
        },
        "id": "jOY2iBkK42wQ",
        "outputId": "f4384be4-7351-4253-e2f5-133df3bfe48d"
      },
      "execution_count": 13,
      "outputs": [
        {
          "output_type": "stream",
          "name": "stdout",
          "text": [
            "Generated range array: [2 4 6 8]\n"
          ]
        }
      ]
    },
    {
      "cell_type": "markdown",
      "source": [
        "Que.13) Write a function `generate_range_array` that takes three integers start, stop, and step as arguments and\n",
        "creates a NumPy array with a range starting from `start`, ending at stop (exclusive), and with the specified\n",
        "`step`."
      ],
      "metadata": {
        "id": "etRZ6GjU5KL3"
      }
    },
    {
      "cell_type": "code",
      "source": [
        "import numpy as np\n",
        "\n",
        "def generate_range_array(start, stop, step):\n",
        "    \"\"\"\n",
        "    Generates a NumPy array with values from start to stop (exclusive),\n",
        "    with the specified step size.\n",
        "\n",
        "    Parameters:\n",
        "        start (int): The starting value of the range.\n",
        "        stop (int): The end value of the range (exclusive).\n",
        "        step (int): The step size between values in the range.\n",
        "\n",
        "    Returns:\n",
        "        numpy.ndarray: A NumPy array containing the generated range of values.\n",
        "    \"\"\"\n",
        "    return np.arange(start, stop, step)\n",
        "\n",
        "# Example usage:\n",
        "range_array = generate_range_array(2, 10, 2)\n",
        "print(\"Generated range array:\", range_array)\n"
      ],
      "metadata": {
        "colab": {
          "base_uri": "https://localhost:8080/"
        },
        "id": "vgemumJr5OqC",
        "outputId": "ce18acab-cb65-4e1c-f967-98d792674766"
      },
      "execution_count": 14,
      "outputs": [
        {
          "output_type": "stream",
          "name": "stdout",
          "text": [
            "Generated range array: [2 4 6 8]\n"
          ]
        }
      ]
    },
    {
      "cell_type": "markdown",
      "source": [
        "Que.14)Design a function `generate_linear_space` that takes two floats `start`, `stop`, and an integer `num` as\n",
        "arguments and generates a NumPy array with num equally spaced values between `start` and `stop`\n",
        "(inclusive)."
      ],
      "metadata": {
        "id": "B1gp7ma35ThA"
      }
    },
    {
      "cell_type": "code",
      "source": [
        "import numpy as np\n",
        "\n",
        "def generate_linear_space(start, stop, num):\n",
        "    \"\"\"\n",
        "    Generates a NumPy array with num equally spaced values between start and stop (inclusive).\n",
        "\n",
        "    Parameters:\n",
        "        start (float): The starting value of the range.\n",
        "        stop (float): The ending value of the range (inclusive).\n",
        "        num (int): The number of equally spaced values to generate.\n",
        "\n",
        "    Returns:\n",
        "        numpy.ndarray: A NumPy array containing the equally spaced values.\n",
        "    \"\"\"\n",
        "    return np.linspace(start, stop, num)\n",
        "\n",
        "# Example usage:\n",
        "linear_space_array = generate_linear_space(1.0, 5.0, 5)\n",
        "print(\"Generated linear space array:\", linear_space_array)\n"
      ],
      "metadata": {
        "colab": {
          "base_uri": "https://localhost:8080/"
        },
        "id": "SKRrthT65Xic",
        "outputId": "24312ab6-b9ed-4290-ef3b-1a10d155648b"
      },
      "execution_count": 15,
      "outputs": [
        {
          "output_type": "stream",
          "name": "stdout",
          "text": [
            "Generated linear space array: [1. 2. 3. 4. 5.]\n"
          ]
        }
      ]
    },
    {
      "cell_type": "markdown",
      "source": [
        "Que.15) Create a function `create_identity_matrix` that takes an integer `n` as input and generates a square\n",
        "identity matrix of size `n x n` using `numpy.eye`."
      ],
      "metadata": {
        "id": "NwZEX4Jw5eGD"
      }
    },
    {
      "cell_type": "code",
      "source": [
        "import numpy as np\n",
        "\n",
        "def create_identity_matrix(n):\n",
        "    \"\"\"\n",
        "    Creates an identity matrix of size n x n.\n",
        "\n",
        "    Parameters:\n",
        "        n (int): The size of the identity matrix.\n",
        "\n",
        "    Returns:\n",
        "        numpy.ndarray: A square identity matrix of size n x n.\n",
        "    \"\"\"\n",
        "    return np.eye(n)\n",
        "\n",
        "# Example usage:\n",
        "identity_matrix = create_identity_matrix(4)\n",
        "print(\"Generated identity matrix:\")\n",
        "print(identity_matrix)\n"
      ],
      "metadata": {
        "colab": {
          "base_uri": "https://localhost:8080/"
        },
        "id": "yMDwvoKa5jEe",
        "outputId": "cb4f3851-e3c2-4834-94da-67d6983eb9f3"
      },
      "execution_count": 16,
      "outputs": [
        {
          "output_type": "stream",
          "name": "stdout",
          "text": [
            "Generated identity matrix:\n",
            "[[1. 0. 0. 0.]\n",
            " [0. 1. 0. 0.]\n",
            " [0. 0. 1. 0.]\n",
            " [0. 0. 0. 1.]]\n"
          ]
        }
      ]
    },
    {
      "cell_type": "markdown",
      "source": [
        "Que.16) Write a function that takes a Python list and converts it into a NumPy array"
      ],
      "metadata": {
        "id": "0D4zhizu59R3"
      }
    },
    {
      "cell_type": "code",
      "source": [
        "import numpy as np\n",
        "\n",
        "def list_to_numpy_array(py_list):\n",
        "    \"\"\"\n",
        "    Converts a Python list to a NumPy array.\n",
        "\n",
        "    Parameters:\n",
        "        py_list (list): A Python list to be converted.\n",
        "\n",
        "    Returns:\n",
        "        numpy.ndarray: The converted NumPy array.\n",
        "    \"\"\"\n",
        "    return np.array(py_list)\n",
        "\n",
        "# Example usage:\n",
        "python_list = [1, 2, 3, 4, 5]\n",
        "numpy_array = list_to_numpy_array(python_list)\n",
        "\n",
        "print(\"Python list:\", python_list)\n",
        "print(\"Converted NumPy array:\", numpy_array)\n"
      ],
      "metadata": {
        "colab": {
          "base_uri": "https://localhost:8080/"
        },
        "id": "UZ-NRkAF6BcC",
        "outputId": "aa9b5b63-0545-4ad5-d8b1-27b250d03cd4"
      },
      "execution_count": 17,
      "outputs": [
        {
          "output_type": "stream",
          "name": "stdout",
          "text": [
            "Python list: [1, 2, 3, 4, 5]\n",
            "Converted NumPy array: [1 2 3 4 5]\n"
          ]
        }
      ]
    },
    {
      "cell_type": "markdown",
      "source": [
        "Que.17)Create a NumPy array and demonstrate the use of `numpy.view` to create a new array object with the\n",
        "same data"
      ],
      "metadata": {
        "id": "_YUePHTU6NKP"
      }
    },
    {
      "cell_type": "code",
      "source": [
        "import numpy as np\n",
        "\n",
        "# Create a NumPy array\n",
        "original_array = np.array([1, 2, 3, 4, 5])\n",
        "\n",
        "# Use numpy.view to create a new array object sharing the same data\n",
        "view_array = original_array.view()\n",
        "\n",
        "# Modify the original array to show that the view_array reflects the changes\n",
        "original_array[0] = 10\n",
        "\n",
        "# Print both arrays to show they share the same data\n",
        "print(\"Original array:\", original_array)\n",
        "print(\"View array:\", view_array)\n"
      ],
      "metadata": {
        "colab": {
          "base_uri": "https://localhost:8080/"
        },
        "id": "dfiI3RUI6O2I",
        "outputId": "0afd6d02-5c2e-4168-c0c9-186c702532e9"
      },
      "execution_count": 18,
      "outputs": [
        {
          "output_type": "stream",
          "name": "stdout",
          "text": [
            "Original array: [10  2  3  4  5]\n",
            "View array: [10  2  3  4  5]\n"
          ]
        }
      ]
    },
    {
      "cell_type": "markdown",
      "source": [
        "Que.18)Write a function that takes two NumPy arrays and concatenates them along a specified axis."
      ],
      "metadata": {
        "id": "A0WhHt3c6Typ"
      }
    },
    {
      "cell_type": "code",
      "source": [
        "import numpy as np\n",
        "\n",
        "def concatenate_arrays(arr1, arr2, axis=0):\n",
        "    \"\"\"\n",
        "    Concatenates two NumPy arrays along the specified axis.\n",
        "\n",
        "    Parameters:\n",
        "        arr1 (numpy.ndarray): The first array.\n",
        "        arr2 (numpy.ndarray): The second array.\n",
        "        axis (int, optional): The axis along which the arrays will be concatenated. Default is 0 (vertical).\n",
        "\n",
        "    Returns:\n",
        "        numpy.ndarray: The concatenated NumPy array.\n",
        "    \"\"\"\n",
        "    return np.concatenate((arr1, arr2), axis=axis)\n",
        "\n",
        "# Example usage:\n",
        "arr1 = np.array([[1, 2], [3, 4]])\n",
        "arr2 = np.array([[5, 6], [7, 8]])\n",
        "\n",
        "# Concatenate along axis 0 (rows)\n",
        "result_axis_0 = concatenate_arrays(arr1, arr2, axis=0)\n",
        "print(\"Concatenated along axis 0 (rows):\")\n",
        "print(result_axis_0)\n",
        "\n",
        "# Concatenate along axis 1 (columns)\n",
        "result_axis_1 = concatenate_arrays(arr1, arr2, axis=1)\n",
        "print(\"Concatenated along axis 1:\")"
      ],
      "metadata": {
        "colab": {
          "base_uri": "https://localhost:8080/"
        },
        "id": "FRhwUnJ06VOG",
        "outputId": "8ef09465-91ac-4e8c-bd81-388e7693d760"
      },
      "execution_count": 20,
      "outputs": [
        {
          "output_type": "stream",
          "name": "stdout",
          "text": [
            "Concatenated along axis 0 (rows):\n",
            "[[1 2]\n",
            " [3 4]\n",
            " [5 6]\n",
            " [7 8]]\n",
            "Concatenated along axis 1:\n"
          ]
        }
      ]
    },
    {
      "cell_type": "markdown",
      "source": [
        "Que.19) Create two NumPy arrays with different shapes and concatenate them horizontally using `numpy.\n",
        "\n",
        "concatenate"
      ],
      "metadata": {
        "id": "YtcY83Pm6is-"
      }
    },
    {
      "cell_type": "code",
      "source": [
        "import numpy as np\n",
        "\n",
        "# Create two NumPy arrays with different shapes\n",
        "arr1 = np.array([[1, 2], [3, 4]])\n",
        "arr2 = np.array([[5, 6, 7], [8, 9, 10]])\n",
        "\n",
        "# Concatenate them horizontally (along axis 1)\n",
        "result = np.concatenate((arr1, arr2), axis=1)\n",
        "\n",
        "print(\"Array 1:\")\n",
        "print(arr1)\n",
        "print(\"\\nArray 2:\")\n",
        "print(arr2)\n",
        "print(\"\\nConcatenated array (horizontally):\")\n",
        "print(result)\n"
      ],
      "metadata": {
        "colab": {
          "base_uri": "https://localhost:8080/"
        },
        "id": "2ein4ncG61Ly",
        "outputId": "b95afe41-2f17-4b83-bd42-5b17918b0cb7"
      },
      "execution_count": 21,
      "outputs": [
        {
          "output_type": "stream",
          "name": "stdout",
          "text": [
            "Array 1:\n",
            "[[1 2]\n",
            " [3 4]]\n",
            "\n",
            "Array 2:\n",
            "[[ 5  6  7]\n",
            " [ 8  9 10]]\n",
            "\n",
            "Concatenated array (horizontally):\n",
            "[[ 1  2  5  6  7]\n",
            " [ 3  4  8  9 10]]\n"
          ]
        }
      ]
    },
    {
      "cell_type": "markdown",
      "source": [
        "QUe20)Write a function that vertically stacks multiple NumPy arrays given as a list."
      ],
      "metadata": {
        "id": "03oEImOy65zG"
      }
    },
    {
      "cell_type": "code",
      "source": [
        "import numpy as np\n",
        "\n",
        "def vertical_stack(arrays):\n",
        "    \"\"\"\n",
        "    Vertically stacks multiple NumPy arrays provided in a list.\n",
        "\n",
        "    Parameters:\n",
        "        arrays (list of numpy.ndarray): A list of NumPy arrays to be vertically stacked.\n",
        "\n",
        "    Returns:\n",
        "        numpy.ndarray: The vertically stacked NumPy array.\n",
        "    \"\"\"\n",
        "    return np.vstack(arrays)\n",
        "\n",
        "# Example usage:\n",
        "arr1 = np.array([[1, 2], [3, 4]])\n",
        "arr2 = np.array([[5, 6], [7, 8]])\n",
        "arr3 = np.array([[9, 10], [11, 12]])\n",
        "\n",
        "# Stack the arrays vertically\n",
        "result = vertical_stack([arr1, arr2, arr3])\n",
        "\n",
        "print(\"Vertically stacked array:\")\n",
        "print(result)\n"
      ],
      "metadata": {
        "colab": {
          "base_uri": "https://localhost:8080/"
        },
        "id": "MtVWJYLm6_w3",
        "outputId": "d1efdabb-bbd9-4800-f792-44c1415ecb90"
      },
      "execution_count": 22,
      "outputs": [
        {
          "output_type": "stream",
          "name": "stdout",
          "text": [
            "Vertically stacked array:\n",
            "[[ 1  2]\n",
            " [ 3  4]\n",
            " [ 5  6]\n",
            " [ 7  8]\n",
            " [ 9 10]\n",
            " [11 12]]\n"
          ]
        }
      ]
    },
    {
      "cell_type": "markdown",
      "source": [
        "QUe.21)Write a Python function using NumPy to create an array of integers within a specified range (inclusive)\n",
        "with a given step size"
      ],
      "metadata": {
        "id": "tCXKf_UI7Ifv"
      }
    },
    {
      "cell_type": "code",
      "source": [
        "import numpy as np\n",
        "\n",
        "def create_range_array(start, stop, step):\n",
        "    \"\"\"\n",
        "    Creates a NumPy array of integers within a specified range (inclusive) with a given step size.\n",
        "\n",
        "    Parameters:\n",
        "        start (int): The starting integer of the range.\n",
        "        stop (int): The ending integer of the range (inclusive).\n",
        "        step (int): The step size between integers.\n",
        "\n",
        "    Returns:\n",
        "        numpy.ndarray: A NumPy array with integers in the specified range and step size.\n",
        "    \"\"\"\n",
        "    return np.arange(start, stop + 1, step)\n",
        "\n",
        "# Example usage:\n",
        "range_array = create_range_array(1, 10, 2)\n",
        "\n",
        "print(\"Generated range array:\", range_array)\n"
      ],
      "metadata": {
        "colab": {
          "base_uri": "https://localhost:8080/"
        },
        "id": "s5ffIRJd7NkU",
        "outputId": "95c9e4ea-6181-4d67-ad6c-62b6fc1c0edb"
      },
      "execution_count": 23,
      "outputs": [
        {
          "output_type": "stream",
          "name": "stdout",
          "text": [
            "Generated range array: [1 3 5 7 9]\n"
          ]
        }
      ]
    },
    {
      "cell_type": "markdown",
      "source": [
        "Que.22) Write a Python function using NumPy to generate an array of 10 equally spaced values between 0 and 1"
      ],
      "metadata": {
        "id": "a3nyy01q7R9E"
      }
    },
    {
      "cell_type": "code",
      "source": [
        "import numpy as np\n",
        "\n",
        "def create_range_array(start, stop, step):\n",
        "    \"\"\"\n",
        "    Creates a NumPy array of integers within a specified range (inclusive) with a given step size.\n",
        "\n",
        "    Parameters:\n",
        "        start (int): The starting integer of the range.\n",
        "        stop (int): The ending integer of the range (inclusive).\n",
        "        step (int): The step size between integers.\n",
        "\n",
        "    Returns:\n",
        "        numpy.ndarray: A NumPy array with integers in the specified range and step size.\n",
        "    \"\"\"\n",
        "    return np.arange(start, stop + 1, step)\n",
        "\n",
        "# Example usage:\n",
        "range_array = create_range_array(1, 10, 2)\n",
        "\n",
        "print(\"Generated range array:\", range_array)\n"
      ],
      "metadata": {
        "colab": {
          "base_uri": "https://localhost:8080/"
        },
        "id": "OYQMvxJU7Uxi",
        "outputId": "c9e13f18-826a-4f05-859b-def7b38d96ce"
      },
      "execution_count": 24,
      "outputs": [
        {
          "output_type": "stream",
          "name": "stdout",
          "text": [
            "Generated range array: [1 3 5 7 9]\n"
          ]
        }
      ]
    },
    {
      "cell_type": "markdown",
      "source": [
        "Que.23 Write a Python function using NumPy to create an array of 5 logarithmically spaced values between 1 and\n",
        "1000 (inclusive))"
      ],
      "metadata": {
        "id": "q4C411Di7Y9X"
      }
    },
    {
      "cell_type": "code",
      "source": [
        "import numpy as np\n",
        "\n",
        "def generate_log_spaced_values(start, stop, num_values):\n",
        "    \"\"\"\n",
        "    Generates an array of logarithmically spaced values between start and stop.\n",
        "\n",
        "    Parameters:\n",
        "        start (float): The starting value of the range.\n",
        "        stop (float): The ending value of the range.\n",
        "        num_values (int): The number of logarithmically spaced values to generate.\n",
        "\n",
        "    Returns:\n",
        "        numpy.ndarray: An array of logarithmically spaced values.\n",
        "    \"\"\"\n",
        "    return np.logspace(np.log10(start), np.log10(stop), num_values)\n",
        "\n",
        "# Example usage:\n",
        "log_values = generate_log_spaced_values(1, 1000, 5)\n",
        "\n",
        "print(\"Generated array of logarithmically spaced values:\", log_values)\n"
      ],
      "metadata": {
        "colab": {
          "base_uri": "https://localhost:8080/"
        },
        "id": "YlmCz0qk73QX",
        "outputId": "26c51e68-659d-4118-f31b-546f58a86cb7"
      },
      "execution_count": 25,
      "outputs": [
        {
          "output_type": "stream",
          "name": "stdout",
          "text": [
            "Generated array of logarithmically spaced values: [   1.            5.62341325   31.6227766   177.827941   1000.        ]\n"
          ]
        }
      ]
    },
    {
      "cell_type": "markdown",
      "source": [
        "Que.24) Create a Pandas DataFrame using a NumPy array that contains 5 rows and 3 columns, where the values\n",
        "are random integers between 1 and 100."
      ],
      "metadata": {
        "id": "I0vQ_wg67663"
      }
    },
    {
      "cell_type": "code",
      "source": [
        "import numpy as np\n",
        "import pandas as pd\n",
        "\n",
        "def create_dataframe():\n",
        "    # Generate a NumPy array with 5 rows and 3 columns of random integers between 1 and 100\n",
        "    data = np.random.randint(1, 101, size=(5, 3))\n",
        "\n",
        "    # Create a Pandas DataFrame using the NumPy array\n",
        "    df = pd.DataFrame(data, columns=['A', 'B', 'C'])\n",
        "\n",
        "    return df\n",
        "\n",
        "# Example usage:\n",
        "df = create_dataframe()\n",
        "\n",
        "print(\"Pandas DataFrame with random integers:\")\n",
        "print(df)\n"
      ],
      "metadata": {
        "colab": {
          "base_uri": "https://localhost:8080/"
        },
        "id": "uW1VDQvh8B6B",
        "outputId": "d6345e12-86dc-4143-f1c4-7311f5001d62"
      },
      "execution_count": 26,
      "outputs": [
        {
          "output_type": "stream",
          "name": "stdout",
          "text": [
            "Pandas DataFrame with random integers:\n",
            "    A   B   C\n",
            "0   6  75  84\n",
            "1  31   1  86\n",
            "2  82  32  18\n",
            "3   3  93  55\n",
            "4  98  79  93\n"
          ]
        }
      ]
    },
    {
      "cell_type": "markdown",
      "source": [
        "Que.25) Write a function that takes a Pandas DataFrame and replaces all negative values in a specific column\n",
        "with zeros. Use NumPy operations within the Pandas DataFrame."
      ],
      "metadata": {
        "id": "YleXV7I68FL3"
      }
    },
    {
      "cell_type": "code",
      "source": [
        "import pandas as pd\n",
        "import numpy as np\n",
        "\n",
        "def replace_negative_with_zero(df, column_name):\n",
        "    \"\"\"\n",
        "    Replaces all negative values in the specified column of a DataFrame with zeros.\n",
        "\n",
        "    Parameters:\n",
        "        df (pandas.DataFrame): The input DataFrame.\n",
        "        column_name (str): The column in which to replace negative values with zeros.\n",
        "\n",
        "    Returns:\n",
        "        pandas.DataFrame: The modified DataFrame with negative values replaced by zeros.\n",
        "    \"\"\"\n",
        "    # Use NumPy to replace negative values in the specified column with zeros\n",
        "    df[column_name] = np.where(df[column_name] < 0, 0, df[column_name])\n",
        "\n",
        "    return df\n",
        "\n",
        "# Example usage:\n",
        "data = {\n",
        "    'A': [1, -2, 3, -4, 5],\n",
        "    'B': [-10, 20, -30, 40, -50],\n",
        "    'C': [100, -200, 300, -400, 500]\n",
        "}\n",
        "\n",
        "# Create a Pandas DataFrame\n",
        "df = pd.DataFrame(data)\n",
        "\n",
        "print(\"Original DataFrame:\")\n",
        "print(df)\n",
        "\n",
        "# Replace negative values in column 'B' with zeros\n",
        "df_modified = replace_negative_with_zero(df, 'B')\n",
        "\n",
        "print(\"\\nModified DataFrame (negative values in column 'B' replaced with zeros):\")\n",
        "print(df_modified)\n",
        "\n"
      ],
      "metadata": {
        "colab": {
          "base_uri": "https://localhost:8080/"
        },
        "id": "gJg-SlrI8PEw",
        "outputId": "15ed6811-af11-4c4b-8e00-a497b0022c1f"
      },
      "execution_count": 27,
      "outputs": [
        {
          "output_type": "stream",
          "name": "stdout",
          "text": [
            "Original DataFrame:\n",
            "   A   B    C\n",
            "0  1 -10  100\n",
            "1 -2  20 -200\n",
            "2  3 -30  300\n",
            "3 -4  40 -400\n",
            "4  5 -50  500\n",
            "\n",
            "Modified DataFrame (negative values in column 'B' replaced with zeros):\n",
            "   A   B    C\n",
            "0  1   0  100\n",
            "1 -2  20 -200\n",
            "2  3   0  300\n",
            "3 -4  40 -400\n",
            "4  5   0  500\n"
          ]
        }
      ]
    },
    {
      "cell_type": "markdown",
      "source": [
        "Que.26)Access the 3rd element from the given NumPy array.arr = np.array([10, 20, 30, 40, 50])\n",
        "\n"
      ],
      "metadata": {
        "id": "0Wg1nx138q3D"
      }
    },
    {
      "cell_type": "code",
      "source": [
        "import numpy as np\n",
        "\n",
        "arr = np.array([10, 20, 30, 40, 50])\n",
        "\n",
        "# Accessing the 3rd element (index 2)\n",
        "third_element = arr[2]\n",
        "\n",
        "print(\"The 3rd element is:\", third_element)\n"
      ],
      "metadata": {
        "colab": {
          "base_uri": "https://localhost:8080/"
        },
        "id": "jMnomjdP8vU8",
        "outputId": "9e4c0221-e1ed-4085-c349-139851dc0ed5"
      },
      "execution_count": 28,
      "outputs": [
        {
          "output_type": "stream",
          "name": "stdout",
          "text": [
            "The 3rd element is: 30\n"
          ]
        }
      ]
    },
    {
      "cell_type": "markdown",
      "source": [
        "Que.27) Retrieve the element at index (1, 2) from the 2D NumPy array.arr_2d = np.array([[1, 2, 3],\n",
        "                   [4, 5, 6],\n",
        "                   [7, 8, 9]])"
      ],
      "metadata": {
        "id": "nERZprA989bH"
      }
    },
    {
      "cell_type": "code",
      "source": [
        "import numpy as np\n",
        "\n",
        "# Creating the 2D NumPy array\n",
        "arr_2d = np.array([[1, 2, 3],\n",
        "                   [4, 5, 6],\n",
        "                   [7, 8, 9]])\n",
        "\n",
        "# Retrieving the element at index (1, 2)\n",
        "element = arr_2d[1, 2]\n",
        "\n",
        "print(\"The element at index (1, 2) is:\", element)\n"
      ],
      "metadata": {
        "colab": {
          "base_uri": "https://localhost:8080/"
        },
        "id": "4CmjSow99Bne",
        "outputId": "fa4c0653-037d-46d7-be56-89a1edec783d"
      },
      "execution_count": 29,
      "outputs": [
        {
          "output_type": "stream",
          "name": "stdout",
          "text": [
            "The element at index (1, 2) is: 6\n"
          ]
        }
      ]
    },
    {
      "cell_type": "markdown",
      "source": [
        "Que.28)Using boolean indexing, extract elements greater than 5 from the given NumPy array.arr = np.array([3, 8, 2, 10, 5, 7])\n"
      ],
      "metadata": {
        "id": "893j-knI9HLX"
      }
    },
    {
      "cell_type": "code",
      "source": [
        "import numpy as np\n",
        "\n",
        "# Creating the NumPy array\n",
        "arr = np.array([3, 8, 2, 10, 5, 7])\n",
        "\n",
        "# Using boolean indexing to extract elements greater than 5\n",
        "filtered_elements = arr[arr > 5]\n",
        "\n",
        "print(\"Elements greater than 5:\", filtered_elements)\n"
      ],
      "metadata": {
        "colab": {
          "base_uri": "https://localhost:8080/"
        },
        "id": "uvD0Ggq49Yes",
        "outputId": "15bb505f-77b4-423a-8407-fb9f2f03fa6b"
      },
      "execution_count": 30,
      "outputs": [
        {
          "output_type": "stream",
          "name": "stdout",
          "text": [
            "Elements greater than 5: [ 8 10  7]\n"
          ]
        }
      ]
    },
    {
      "cell_type": "markdown",
      "source": [
        "QUe.29)Perform basic slicing to extract elements from index 2 to 5 (inclusive) from the given NumPy array.arr = np.array([1, 2, 3, 4, 5, 6, 7, 8, 9])\n"
      ],
      "metadata": {
        "id": "sGK_ANLy9uol"
      }
    },
    {
      "cell_type": "code",
      "source": [
        "import numpy as np\n",
        "\n",
        "# Creating the NumPy array\n",
        "arr = np.array([1, 2, 3, 4, 5, 6, 7, 8, 9])\n",
        "\n",
        "# Slicing to extract elements from index 2 to 5 (inclusive)\n",
        "sliced_elements = arr[2:6]\n",
        "\n",
        "print(\"Extracted elements from index 2 to 5:\", sliced_elements)\n"
      ],
      "metadata": {
        "colab": {
          "base_uri": "https://localhost:8080/"
        },
        "id": "U3V6gRnY9wcs",
        "outputId": "70732918-d60a-44ac-8616-963afb026e49"
      },
      "execution_count": 31,
      "outputs": [
        {
          "output_type": "stream",
          "name": "stdout",
          "text": [
            "Extracted elements from index 2 to 5: [3 4 5 6]\n"
          ]
        }
      ]
    },
    {
      "cell_type": "markdown",
      "source": [
        "Que,30. Slice the 2D NumPy array to extract the sub-array `[[2, 3], [5, 6]]` from the given array.\n",
        "arr_2d = np.array([[1, 2, 3],\n",
        "                   [4, 5, 6],\n",
        "                   [7, 8, 9]])"
      ],
      "metadata": {
        "id": "nIjdRYvx95IU"
      }
    },
    {
      "cell_type": "code",
      "source": [
        "import numpy as np\n",
        "\n",
        "# Creating the 2D NumPy array\n",
        "arr_2d = np.array([[1, 2, 3],\n",
        "                   [4, 5, 6],\n",
        "                   [7, 8, 9]])\n",
        "\n",
        "# Slicing to extract the sub-array [[2, 3], [5, 6]]\n",
        "sub_array = arr_2d[1:3, 0:2]\n",
        "\n",
        "print(\"Extracted sub-array:\")\n",
        "print(sub_array)\n"
      ],
      "metadata": {
        "colab": {
          "base_uri": "https://localhost:8080/"
        },
        "id": "-Qn2TnlI99ra",
        "outputId": "0c32c0ef-2fd7-45c7-92f5-1b01757f8355"
      },
      "execution_count": 32,
      "outputs": [
        {
          "output_type": "stream",
          "name": "stdout",
          "text": [
            "Extracted sub-array:\n",
            "[[4 5]\n",
            " [7 8]]\n"
          ]
        }
      ]
    },
    {
      "cell_type": "markdown",
      "source": [
        "QUe.31.Write a NumPy function to extract elements in specific order from a given 2D array based on indices\n",
        "provided in another array"
      ],
      "metadata": {
        "id": "H3o8hUV9-BlO"
      }
    },
    {
      "cell_type": "code",
      "source": [
        "import numpy as np\n",
        "\n",
        "def extract_elements_by_indices(arr_2d, indices):\n",
        "    \"\"\"\n",
        "    Extract elements from a 2D array based on given row and column indices.\n",
        "\n",
        "    Parameters:\n",
        "        arr_2d (numpy.ndarray): The 2D input NumPy array.\n",
        "        indices (numpy.ndarray): An array of tuples, where each tuple is (row_index, column_index).\n",
        "\n",
        "    Returns:\n",
        "        numpy.ndarray: Array of extracted elements based on the provided indices.\n",
        "    \"\"\"\n",
        "    # Unzip the indices into row and column arrays\n",
        "    row_indices, col_indices = zip(*indices)\n",
        "\n",
        "    # Convert row and column indices to numpy arrays for indexing\n",
        "    row_indices = np.array(row_indices)\n",
        "    col_indices = np.array(col_indices)\n",
        "\n",
        "    # Use advanced indexing to extract elements from the 2D array\n",
        "    extracted_elements = arr_2d[row_indices, col_indices]\n",
        "\n",
        "    return extracted_elements\n",
        "\n",
        "# Example usage:\n",
        "arr_2d = np.array([[1, 2, 3],\n",
        "                   [4, 5, 6],\n",
        "                   [7, 8, 9]])\n",
        "\n",
        "# Indices (row, column) where we want to extract elements\n",
        "indices = [(0, 2), (1, 1), (2, 0)]  # Extract elements at (0, 2), (1, 1), (2, 0)\n",
        "\n",
        "# Extract elements based on indices\n",
        "result = extract_elements_by_indices(arr_2d, indices)\n",
        "\n",
        "print(\"Extracted elements:\", result)\n"
      ],
      "metadata": {
        "colab": {
          "base_uri": "https://localhost:8080/"
        },
        "id": "9sQM1MXP-G6j",
        "outputId": "c9e6e8fb-a5a8-4f9d-9b58-84f87264201b"
      },
      "execution_count": 33,
      "outputs": [
        {
          "output_type": "stream",
          "name": "stdout",
          "text": [
            "Extracted elements: [3 5 7]\n"
          ]
        }
      ]
    },
    {
      "cell_type": "markdown",
      "source": [
        "Que.32) Create a NumPy function that filters elements greater than a threshold from a given 1D array using\n",
        "boolean indexing."
      ],
      "metadata": {
        "id": "D09R16zj-LW3"
      }
    },
    {
      "cell_type": "code",
      "source": [
        "import numpy as np\n",
        "\n",
        "def filter_elements_by_threshold(arr, threshold):\n",
        "    \"\"\"\n",
        "    Filters elements from the 1D array that are greater than the given threshold.\n",
        "\n",
        "    Parameters:\n",
        "        arr (numpy.ndarray): The input 1D NumPy array.\n",
        "        threshold (float or int): The threshold value to compare elements.\n",
        "\n",
        "    Returns:\n",
        "        numpy.ndarray: A 1D array containing elements greater than the threshold.\n",
        "    \"\"\"\n",
        "    # Apply boolean indexing to filter elements greater than the threshold\n",
        "    filtered_elements = arr[arr > threshold]\n",
        "\n",
        "    return filtered_elements\n",
        "\n",
        "# Example usage:\n",
        "arr = np.array([1, 5, 8, 3, 10, 12, 4])\n",
        "threshold = 5\n",
        "\n",
        "# Filter elements greater than the threshold\n",
        "result = filter_elements_by_threshold(arr, threshold)\n",
        "\n",
        "print(\"Filtered elements greater than threshold:\", result)\n"
      ],
      "metadata": {
        "colab": {
          "base_uri": "https://localhost:8080/"
        },
        "id": "6PecMJsk-RUa",
        "outputId": "0df47b68-69f1-4914-f68d-2d021c843e09"
      },
      "execution_count": 34,
      "outputs": [
        {
          "output_type": "stream",
          "name": "stdout",
          "text": [
            "Filtered elements greater than threshold: [ 8 10 12]\n"
          ]
        }
      ]
    },
    {
      "cell_type": "markdown",
      "source": [
        "Que.33)Develop a NumPy function that extracts specific elements from a 3D array using indices provided in three\n",
        "separate arrays for each dimension."
      ],
      "metadata": {
        "id": "LOCrIuCG-Usu"
      }
    },
    {
      "cell_type": "code",
      "source": [
        "import numpy as np\n",
        "\n",
        "def extract_elements_from_3d_array(arr_3d, row_indices, col_indices, depth_indices):\n",
        "    \"\"\"\n",
        "    Extracts specific elements from a 3D array using indices provided for each dimension.\n",
        "\n",
        "    Parameters:\n",
        "        arr_3d (numpy.ndarray): The input 3D NumPy array.\n",
        "        row_indices (numpy.ndarray or list): Array or list of row indices.\n",
        "        col_indices (numpy.ndarray or list): Array or list of column indices.\n",
        "        depth_indices (numpy.ndarray or list): Array or list of depth indices.\n",
        "\n",
        "    Returns:\n",
        "        numpy.ndarray: Array of extracted elements.\n",
        "    \"\"\"\n",
        "    # Using advanced indexing to extract elements from the 3D array\n",
        "    extracted_elements = arr_3d[row_indices, col_indices, depth_indices]\n",
        "\n",
        "    return extracted_elements\n",
        "\n",
        "# Example usage:\n",
        "arr_3d = np.array([[[1, 2, 3], [4, 5, 6], [7, 8, 9]],\n",
        "                   [[10, 11, 12], [13, 14, 15], [16, 17, 18]],\n",
        "                   [[19, 20, 21], [22, 23, 24], [25, 26, 27]]])\n",
        "\n",
        "# Indices for the 3 dimensions (row, column, depth)\n",
        "row_indices = np.array([0, 1, 2])\n",
        "col_indices = np.array([1, 2, 0])\n",
        "depth_indices = np.array([2, 0, 1])\n",
        "\n",
        "# Extract elements from the 3D array based on the indices\n",
        "result = extract_elements_from_3d_array(arr_3d, row_indices, col_indices, depth_indices)\n",
        "\n",
        "print(\"Extracted elements:\", result)\n"
      ],
      "metadata": {
        "colab": {
          "base_uri": "https://localhost:8080/"
        },
        "id": "NNaQRqUZ-al6",
        "outputId": "fceb5b87-bfb4-4d6f-e233-94e4fc5f25f9"
      },
      "execution_count": 36,
      "outputs": [
        {
          "output_type": "stream",
          "name": "stdout",
          "text": [
            "Extracted elements: [ 6 16 20]\n"
          ]
        }
      ]
    },
    {
      "cell_type": "markdown",
      "source": [
        "QUe.34)Write a NumPy function that returns elements from an array where both two conditions are satisfied\n",
        "using boolean indexing"
      ],
      "metadata": {
        "id": "J26K4Nlr-n9S"
      }
    },
    {
      "cell_type": "code",
      "source": [
        "import numpy as np\n",
        "\n",
        "def filter_elements_with_conditions(arr, condition1, condition2):\n",
        "    \"\"\"\n",
        "    Filters elements from the array where both conditions are satisfied using boolean indexing.\n",
        "\n",
        "    Parameters:\n",
        "        arr (numpy.ndarray): The input NumPy array.\n",
        "        condition1 (numpy.ndarray): The first condition to filter the elements.\n",
        "        condition2 (numpy.ndarray): The second condition to filter the elements.\n",
        "\n",
        "    Returns:\n",
        "        numpy.ndarray: Array containing elements where both conditions are satisfied.\n",
        "    \"\"\"\n",
        "    # Applying both conditions using logical AND (&)\n",
        "    filtered_elements = arr[condition1 & condition2]\n",
        "\n",
        "    return filtered_elements\n",
        "\n",
        "# Example usage:\n",
        "arr = np.array([1, 5, 8, 3, 10, 12, 4])\n",
        "\n",
        "# Define the two conditions\n",
        "condition1 = arr > 5  # Elements greater than 5\n",
        "condition2 = arr % 2 == 0  # Elements that are even\n",
        "\n",
        "# Filter elements where both conditions are satisfied\n",
        "result = filter_elements_with_conditions(arr, condition1, condition2)\n",
        "\n",
        "print(\"Filtered elements where both conditions are satisfied:\", result)\n"
      ],
      "metadata": {
        "colab": {
          "base_uri": "https://localhost:8080/"
        },
        "id": "3PoQL2y--rUB",
        "outputId": "28c59045-d290-4816-8a51-b4c31c1c21be"
      },
      "execution_count": 37,
      "outputs": [
        {
          "output_type": "stream",
          "name": "stdout",
          "text": [
            "Filtered elements where both conditions are satisfied: [ 8 10 12]\n"
          ]
        }
      ]
    },
    {
      "cell_type": "markdown",
      "source": [
        "Que.35)Create a NumPy function that extracts elements from a 2D array using row and column indices provided\n",
        "in separate arrays."
      ],
      "metadata": {
        "id": "D5dv63oU-v1l"
      }
    },
    {
      "cell_type": "code",
      "source": [
        "import numpy as np\n",
        "\n",
        "def extract_elements_from_2d_array(arr_2d, row_indices, col_indices):\n",
        "    \"\"\"\n",
        "    Extracts elements from a 2D array using row and column indices provided in separate arrays.\n",
        "\n",
        "    Parameters:\n",
        "        arr_2d (numpy.ndarray): The input 2D NumPy array.\n",
        "        row_indices (numpy.ndarray or list): Array or list of row indices.\n",
        "        col_indices (numpy.ndarray or list): Array or list of column indices.\n",
        "\n",
        "    Returns:\n",
        "        numpy.ndarray: Array of extracted elements based on the provided indices.\n",
        "    \"\"\"\n",
        "    # Use advanced indexing to extract elements using row and column indices\n",
        "    extracted_elements = arr_2d[row_indices, col_indices]\n",
        "\n",
        "    return extracted_elements\n",
        "\n",
        "# Example usage:\n",
        "arr_2d = np.array([[1, 2, 3],\n",
        "                   [4, 5, 6],\n",
        "                   [7, 8, 9]])\n",
        "\n",
        "# Row and column indices for extraction\n",
        "row_indices = np.array([0, 1, 2])  # Row indices\n",
        "col_indices = np.array([2, 1, 0])  # Column indices\n",
        "\n",
        "# Extract elements from the 2D array based on the indices\n",
        "result = extract_elements_from_2d_array(arr_2d, row_indices, col_indices)\n",
        "\n",
        "print(\"Extracted elements:\", result)\n"
      ],
      "metadata": {
        "colab": {
          "base_uri": "https://localhost:8080/"
        },
        "id": "0Fv5xu4V-3SM",
        "outputId": "15f29ba0-820b-4636-bdf9-dbc5ababc35c"
      },
      "execution_count": 38,
      "outputs": [
        {
          "output_type": "stream",
          "name": "stdout",
          "text": [
            "Extracted elements: [3 5 7]\n"
          ]
        }
      ]
    },
    {
      "cell_type": "markdown",
      "source": [
        "QUe.36)Given an array arr of shape (3, 3), add a scalar value of 5 to each element using NumPy broadcasting.\n"
      ],
      "metadata": {
        "id": "UbJNp_NV_Aqa"
      }
    },
    {
      "cell_type": "code",
      "source": [
        "import numpy as np\n",
        "\n",
        "# Create a 3x3 array\n",
        "arr = np.array([[1, 2, 3],\n",
        "                [4, 5, 6],\n",
        "                [7, 8, 9]])\n",
        "\n",
        "# Scalar value to add\n",
        "scalar = 5\n",
        "\n",
        "# Add the scalar to each element using broadcasting\n",
        "result = arr + scalar\n",
        "\n",
        "print(\"Resulting array after adding scalar:\")\n",
        "print(result)\n"
      ],
      "metadata": {
        "colab": {
          "base_uri": "https://localhost:8080/"
        },
        "id": "v0LKN4oB_LdV",
        "outputId": "3a10b8bc-bc02-49e2-8961-27860e22446d"
      },
      "execution_count": 39,
      "outputs": [
        {
          "output_type": "stream",
          "name": "stdout",
          "text": [
            "Resulting array after adding scalar:\n",
            "[[ 6  7  8]\n",
            " [ 9 10 11]\n",
            " [12 13 14]]\n"
          ]
        }
      ]
    },
    {
      "cell_type": "markdown",
      "source": [
        "QUe.37. Consider two arrays arr1 of shape (1, 3) and arr2 of shape (3, 4). Multiply each row of arr2 by the\n",
        "corresponding element in arr1 using NumPy broadcasting"
      ],
      "metadata": {
        "id": "ENjQfyv__mfi"
      }
    },
    {
      "source": [
        "import numpy as np\n",
        "\n",
        "# Define arr1 and arr2\n",
        "arr1 = np.array([[1, 2, 3]])  # Shape (1, 3)\n",
        "arr2 = np.array([[4, 5, 6, 7],\n",
        "                 [8, 9, 10, 11],\n",
        "                 [12, 13, 14, 15]])  # Shape (3, 4)\n",
        "\n",
        "# Transpose arr1 to make its shape (3, 1) for broadcasting compatibility\n",
        "arr1_transposed = arr1.T\n",
        "\n",
        "# Multiply each row of arr2 by the corresponding element in arr1 using broadcasting\n",
        "result = arr2 * arr1_transposed # Now the shapes are compatible for broadcasting: (3, 4) * (3, 1)\n",
        "\n",
        "print(\"Resulting array after broadcasting multiplication:\")\n",
        "print(result)"
      ],
      "cell_type": "code",
      "metadata": {
        "colab": {
          "base_uri": "https://localhost:8080/"
        },
        "id": "s1KyXVd2_3pR",
        "outputId": "065f70b8-9a95-4b20-ef8f-0997e993a169"
      },
      "execution_count": 41,
      "outputs": [
        {
          "output_type": "stream",
          "name": "stdout",
          "text": [
            "Resulting array after broadcasting multiplication:\n",
            "[[ 4  5  6  7]\n",
            " [16 18 20 22]\n",
            " [36 39 42 45]]\n"
          ]
        }
      ]
    },
    {
      "cell_type": "markdown",
      "source": [
        "QUe.38) Given a 1D array arr1 of shape (1, 4) and a 2D array arr2 of shape (4, 3), add arr1 to each row of arr2 using\n",
        "NumPy broadcasting"
      ],
      "metadata": {
        "id": "UwOwH420ACaW"
      }
    },
    {
      "cell_type": "code",
      "source": [
        "import numpy as np\n",
        "\n",
        "# Define arr1 and arr2\n",
        "arr1 = np.array([[1, 2, 3, 4]])  # Shape (1, 4)\n",
        "arr2 = np.array([[5, 6, 7],\n",
        "                 [8, 9, 10],\n",
        "                 [11, 12, 13],\n",
        "                 [14, 15, 16]])  # Shape (4, 3)\n",
        "\n",
        "# Reshape arr1 to be a (4, 1) array and add it to arr2 using broadcasting\n",
        "arr1_reshaped = arr1.T  # Transpose arr1 to shape (4, 1)\n",
        "result = arr2 + arr1_reshaped\n",
        "\n",
        "print(\"Resulting array after broadcasting addition:\")\n",
        "print(result)\n"
      ],
      "metadata": {
        "colab": {
          "base_uri": "https://localhost:8080/"
        },
        "id": "g2Mf2sD0AC04",
        "outputId": "e841a084-1d1d-4329-e64c-3dc750cc0cc7"
      },
      "execution_count": 42,
      "outputs": [
        {
          "output_type": "stream",
          "name": "stdout",
          "text": [
            "Resulting array after broadcasting addition:\n",
            "[[ 6  7  8]\n",
            " [10 11 12]\n",
            " [14 15 16]\n",
            " [18 19 20]]\n"
          ]
        }
      ]
    },
    {
      "cell_type": "markdown",
      "source": [
        "Que.39). Consider two arrays arr1 of shape (3, 1) and arr2 of shape (1, 3). Add these arrays using NumPy\n",
        "broadcasting."
      ],
      "metadata": {
        "id": "cr1S1kQwAMy1"
      }
    },
    {
      "cell_type": "code",
      "source": [
        "import numpy as np\n",
        "\n",
        "# Define arr1 and arr2\n",
        "arr1 = np.array([[1], [2], [3]])  # Shape (3, 1)\n",
        "arr2 = np.array([[4, 5, 6]])  # Shape (1, 3)\n",
        "\n",
        "# Add arr1 and arr2 using broadcasting\n",
        "result = arr1 + arr2\n",
        "\n",
        "print(\"Resulting array after broadcasting addition:\")\n",
        "print(result)\n"
      ],
      "metadata": {
        "colab": {
          "base_uri": "https://localhost:8080/"
        },
        "id": "kQr1Osi1AQDh",
        "outputId": "7983fcfb-4419-4092-8964-7ae5ee030000"
      },
      "execution_count": 43,
      "outputs": [
        {
          "output_type": "stream",
          "name": "stdout",
          "text": [
            "Resulting array after broadcasting addition:\n",
            "[[5 6 7]\n",
            " [6 7 8]\n",
            " [7 8 9]]\n"
          ]
        }
      ]
    },
    {
      "cell_type": "markdown",
      "source": [
        "Que,.40. Given arrays arr1 of shape (2, 3) and arr2 of shape (2, 2), perform multiplication using NumPy\n",
        "broadcasting. Handle the shape incompatibility."
      ],
      "metadata": {
        "id": "0iGrt5JtAW-k"
      }
    },
    {
      "cell_type": "code",
      "source": [
        "import numpy as np\n",
        "\n",
        "# Define arr1 and arr2\n",
        "arr1 = np.array([[1, 2, 3], [4, 5, 6]])  # Shape (2, 3)\n",
        "arr2 = np.array([[7, 8], [9, 10]])  # Shape (2, 2)\n",
        "\n",
        "# Reshape arr2 to make it compatible for broadcasting\n",
        "arr2_reshaped = arr2[:, :, np.newaxis]  # Shape (2, 2, 1)\n",
        "\n",
        "# Now we can multiply using broadcasting\n",
        "result = arr1 * arr2_reshaped\n",
        "\n",
        "print(\"Resulting array after broadcasting multiplication:\")\n",
        "print(result)\n",
        "\n"
      ],
      "metadata": {
        "colab": {
          "base_uri": "https://localhost:8080/"
        },
        "id": "6069XzUGAf_P",
        "outputId": "4bf5fdf1-3e43-4f76-9e2a-754f12cb61db"
      },
      "execution_count": 44,
      "outputs": [
        {
          "output_type": "stream",
          "name": "stdout",
          "text": [
            "Resulting array after broadcasting multiplication:\n",
            "[[[ 7 14 21]\n",
            "  [32 40 48]]\n",
            "\n",
            " [[ 9 18 27]\n",
            "  [40 50 60]]]\n"
          ]
        }
      ]
    },
    {
      "cell_type": "markdown",
      "source": [
        "Que.41)Calculate column wise mean for the given arrayarr = np.array([[1, 2, 3], [4, 5, 6]])\n"
      ],
      "metadata": {
        "id": "Rs00R7jFAmj_"
      }
    },
    {
      "cell_type": "code",
      "source": [
        "import numpy as np\n",
        "\n",
        "# Define the array\n",
        "arr = np.array([[1, 2, 3], [4, 5, 6]])\n",
        "\n",
        "# Calculate the column-wise mean (mean along axis 0)\n",
        "column_wise_mean = np.mean(arr, axis=0)\n",
        "\n",
        "print(\"Column-wise mean:\")\n",
        "print(column_wise_mean)\n"
      ],
      "metadata": {
        "colab": {
          "base_uri": "https://localhost:8080/"
        },
        "id": "1roOW7C-Ar5p",
        "outputId": "b021bfb5-cb17-41c7-cffc-0f2a09f1ee76"
      },
      "execution_count": 45,
      "outputs": [
        {
          "output_type": "stream",
          "name": "stdout",
          "text": [
            "Column-wise mean:\n",
            "[2.5 3.5 4.5]\n"
          ]
        }
      ]
    },
    {
      "cell_type": "markdown",
      "source": [
        "Que.42. Find maximum value in each row of the given array:arr = np.array([[1, 2, 3], [4, 5, 6]])\n"
      ],
      "metadata": {
        "id": "-md2OwB-A0bm"
      }
    },
    {
      "cell_type": "code",
      "source": [
        "import numpy as np\n",
        "\n",
        "# Define the array\n",
        "arr = np.array([[1, 2, 3], [4, 5, 6]])\n",
        "\n",
        "# Calculate the column-wise mean (mean along axis 0)\n",
        "column_wise_mean = np.mean(arr, axis=0)\n",
        "\n",
        "print(\"Column-wise mean:\")\n",
        "print(column_wise_mean)\n"
      ],
      "metadata": {
        "colab": {
          "base_uri": "https://localhost:8080/"
        },
        "id": "mQQqBYm9A35I",
        "outputId": "32fe507b-5ac3-45cf-8d8a-23bb186285d3"
      },
      "execution_count": 46,
      "outputs": [
        {
          "output_type": "stream",
          "name": "stdout",
          "text": [
            "Column-wise mean:\n",
            "[2.5 3.5 4.5]\n"
          ]
        }
      ]
    },
    {
      "cell_type": "markdown",
      "source": [
        "Que.43. For the given array, find indices of maximum value in each column.arr = np.array([[1, 2, 3], [4, 5, 6]])\n"
      ],
      "metadata": {
        "id": "ID_rHBJpBEle"
      }
    },
    {
      "cell_type": "code",
      "source": [
        "import numpy as np\n",
        "\n",
        "# Define the array\n",
        "arr = np.array([[1, 2, 3], [4, 5, 6]])\n",
        "\n",
        "# Find indices of the maximum value in each column\n",
        "max_indices = np.argmax(arr, axis=0)\n",
        "\n",
        "print(\"Indices of maximum value in each column:\")\n",
        "print(max_indices)\n"
      ],
      "metadata": {
        "colab": {
          "base_uri": "https://localhost:8080/"
        },
        "id": "AIWYooa7BHPz",
        "outputId": "b2d41b9b-6a41-4b4e-ab40-287e90d53715"
      },
      "execution_count": 47,
      "outputs": [
        {
          "output_type": "stream",
          "name": "stdout",
          "text": [
            "Indices of maximum value in each column:\n",
            "[1 1 1]\n"
          ]
        }
      ]
    },
    {
      "cell_type": "markdown",
      "source": [
        "Que.44) For the given array, apply custom function to calculate moving sum along rows.arr = np.array([[1, 2, 3], [4, 5, 6]])\n",
        "\n"
      ],
      "metadata": {
        "id": "NtKDeT8OBOtN"
      }
    },
    {
      "cell_type": "code",
      "source": [
        "import numpy as np\n",
        "\n",
        "# Define the array\n",
        "arr = np.array([[1, 2, 3], [4, 5, 6]])\n",
        "\n",
        "# Define the custom moving sum function (with window size 2 as an example)\n",
        "def moving_sum(arr, window_size=2):\n",
        "    # Apply convolve with 'valid' mode to avoid boundary issues\n",
        "    return np.convolve(arr, np.ones(window_size), mode='valid')\n",
        "\n",
        "# Apply the moving sum along each row\n",
        "result = np.apply_along_axis(moving_sum, axis=1, arr=arr)\n",
        "\n",
        "print(\"Moving sum along rows:\")\n",
        "print(result)\n"
      ],
      "metadata": {
        "colab": {
          "base_uri": "https://localhost:8080/"
        },
        "id": "OdeNx5QsBU-h",
        "outputId": "b1d8ebbc-fe58-4b8b-8437-89ec3a60b550"
      },
      "execution_count": 48,
      "outputs": [
        {
          "output_type": "stream",
          "name": "stdout",
          "text": [
            "Moving sum along rows:\n",
            "[[ 3.  5.]\n",
            " [ 9. 11.]]\n"
          ]
        }
      ]
    },
    {
      "cell_type": "markdown",
      "source": [
        "Que.45. In the given array, check if all elements in each column are even.arr = np.array([[2, 4, 6], [3, 5, 7]])"
      ],
      "metadata": {
        "id": "2D4_hFDABgIv"
      }
    },
    {
      "cell_type": "code",
      "source": [
        "import numpy as np\n",
        "\n",
        "# Define the array\n",
        "arr = np.array([[1, 2, 3], [4, 5, 6]])\n",
        "\n",
        "# Define the custom moving sum function (with window size 2 as an example)\n",
        "def moving_sum(arr, window_size=2):\n",
        "    # Apply convolve with 'valid' mode to avoid boundary issues\n",
        "    return np.convolve(arr, np.ones(window_size), mode='valid')\n",
        "\n",
        "# Apply the moving sum along each row\n",
        "result = np.apply_along_axis(moving_sum, axis=1, arr=arr)\n",
        "\n",
        "print(\"Moving sum along rows:\")\n",
        "print(result)\n"
      ],
      "metadata": {
        "colab": {
          "base_uri": "https://localhost:8080/"
        },
        "id": "MoYnaj0_BkDr",
        "outputId": "29e5cd9d-de75-4e5b-8045-2283727cd4f5"
      },
      "execution_count": 49,
      "outputs": [
        {
          "output_type": "stream",
          "name": "stdout",
          "text": [
            "Moving sum along rows:\n",
            "[[ 3.  5.]\n",
            " [ 9. 11.]]\n"
          ]
        }
      ]
    },
    {
      "cell_type": "markdown",
      "source": [
        "QUe.46. Given a NumPy array arr, reshape it into a matrix of dimensions m rows and n columns. Return the\n",
        "reshaped matrix.original_array = np.array([1, 2, 3, 4, 5, 6])"
      ],
      "metadata": {
        "id": "Q7IuGt7aB11Y"
      }
    },
    {
      "cell_type": "code",
      "source": [
        "import numpy as np\n",
        "\n",
        "# Define the original array\n",
        "original_array = np.array([1, 2, 3, 4, 5, 6])\n",
        "\n",
        "# Reshape the array into a matrix with m rows and n columns\n",
        "m, n = 2, 3  # Example: 2 rows and 3 columns\n",
        "reshaped_matrix = original_array.reshape(m, n)\n",
        "\n",
        "print(\"Reshaped Matrix:\")\n",
        "print(reshaped_matrix)\n"
      ],
      "metadata": {
        "colab": {
          "base_uri": "https://localhost:8080/"
        },
        "id": "qF80qsUsB45t",
        "outputId": "c7d206e6-cb04-4bb6-9b10-233ec8f15fdf"
      },
      "execution_count": 50,
      "outputs": [
        {
          "output_type": "stream",
          "name": "stdout",
          "text": [
            "Reshaped Matrix:\n",
            "[[1 2 3]\n",
            " [4 5 6]]\n"
          ]
        }
      ]
    },
    {
      "cell_type": "markdown",
      "source": [
        "Que.47. Create a function that takes a matrix as input and returns the flattened array.input_matrix = np.array([[1, 2, 3], [4, 5, 6]])\n"
      ],
      "metadata": {
        "id": "ruL-t7NxCDdt"
      }
    },
    {
      "cell_type": "code",
      "source": [
        "import numpy as np\n",
        "\n",
        "# Define the function to flatten the matrix\n",
        "def flatten_matrix(matrix):\n",
        "    return matrix.flatten()\n",
        "\n",
        "# Define the input matrix\n",
        "input_matrix = np.array([[1, 2, 3], [4, 5, 6]])\n",
        "\n",
        "# Call the function to flatten the matrix\n",
        "flattened_array = flatten_matrix(input_matrix)\n",
        "\n",
        "print(\"Flattened Array:\")\n",
        "print(flattened_array)\n"
      ],
      "metadata": {
        "colab": {
          "base_uri": "https://localhost:8080/"
        },
        "id": "uOrzJX9KCHff",
        "outputId": "28af1fbb-1c53-406b-da40-febf1da3d159"
      },
      "execution_count": 51,
      "outputs": [
        {
          "output_type": "stream",
          "name": "stdout",
          "text": [
            "Flattened Array:\n",
            "[1 2 3 4 5 6]\n"
          ]
        }
      ]
    },
    {
      "cell_type": "markdown",
      "source": [
        "Que.48. Write a function that concatenates two given arrays along a specified axis.array1 = np.array([[1, 2], [3, 4]])\n",
        "array2 = np.array([[5, 6], [7, 8]])\n"
      ],
      "metadata": {
        "id": "0f8qfCKiCQky"
      }
    },
    {
      "cell_type": "code",
      "source": [
        "import numpy as np\n",
        "\n",
        "# Define the function to concatenate arrays along a specified axis\n",
        "def concatenate_arrays(array1, array2, axis):\n",
        "    return np.concatenate((array1, array2), axis=axis)\n",
        "\n",
        "# Define the input arrays\n",
        "array1 = np.array([[1, 2], [3, 4]])\n",
        "array2 = np.array([[5, 6], [7, 8]])\n",
        "\n",
        "# Call the function to concatenate along axis 0 (vertically)\n",
        "result_axis0 = concatenate_arrays(array1, array2, axis=0)\n",
        "\n",
        "# Call the function to concatenate along axis 1 (horizontally)\n",
        "result_axis1 = concatenate_arrays(array1, array2, axis=1)\n",
        "\n",
        "print(\"Concatenated along axis 0 (vertical):\")\n",
        "print(result_axis0)\n",
        "\n",
        "print(\"Concatenated along axis 1 (horizontal):\")\n",
        "print(result_axis1)\n"
      ],
      "metadata": {
        "colab": {
          "base_uri": "https://localhost:8080/"
        },
        "id": "EKQ6cfSiCVNm",
        "outputId": "6d2dd134-fcb7-4993-f687-9c314a679833"
      },
      "execution_count": 52,
      "outputs": [
        {
          "output_type": "stream",
          "name": "stdout",
          "text": [
            "Concatenated along axis 0 (vertical):\n",
            "[[1 2]\n",
            " [3 4]\n",
            " [5 6]\n",
            " [7 8]]\n",
            "Concatenated along axis 1 (horizontal):\n",
            "[[1 2 5 6]\n",
            " [3 4 7 8]]\n"
          ]
        }
      ]
    },
    {
      "cell_type": "markdown",
      "source": [
        "QUe.49. Create a function that splits an array into multiple sub-arrays along a specified axis.original_array = np.array([[1, 2, 3], [4, 5, 6], [7, 8, 9]])\n",
        "\n"
      ],
      "metadata": {
        "id": "ijextoR6CtMt"
      }
    },
    {
      "cell_type": "code",
      "source": [
        "import numpy as np\n",
        "\n",
        "# Define the function to split an array along a specified axis\n",
        "def split_array(array, axis, num_splits):\n",
        "    return np.split(array, num_splits, axis=axis)\n",
        "\n",
        "# Define the original array\n",
        "original_array = np.array([[1, 2, 3], [4, 5, 6], [7, 8, 9]])\n",
        "\n",
        "# Call the function to split the array along axis 0 (vertical split)\n",
        "result_axis0 = split_array(original_array, axis=0, num_splits=3)\n",
        "\n",
        "# Call the function to split the array along axis 1 (horizontal split)\n",
        "result_axis1 = split_array(original_array, axis=1, num_splits=3)\n",
        "\n",
        "print(\"Splitted along axis 0:\")\n",
        "for sub_array in result_axis0:\n",
        "    print(sub_array)\n",
        "\n",
        "print(\"\\nSplitted along axis 1:\")\n",
        "for sub_array in result_axis1:\n",
        "    print(sub_array)\n"
      ],
      "metadata": {
        "colab": {
          "base_uri": "https://localhost:8080/"
        },
        "id": "mgP6fSaJCx1V",
        "outputId": "3c8cb2ff-f2c0-486f-84eb-8080d0331cac"
      },
      "execution_count": 53,
      "outputs": [
        {
          "output_type": "stream",
          "name": "stdout",
          "text": [
            "Splitted along axis 0:\n",
            "[[1 2 3]]\n",
            "[[4 5 6]]\n",
            "[[7 8 9]]\n",
            "\n",
            "Splitted along axis 1:\n",
            "[[1]\n",
            " [4]\n",
            " [7]]\n",
            "[[2]\n",
            " [5]\n",
            " [8]]\n",
            "[[3]\n",
            " [6]\n",
            " [9]]\n"
          ]
        }
      ]
    },
    {
      "cell_type": "markdown",
      "source": [
        "QUE.50. Write a function that inserts and then deletes elements from a given array at specified indices.original_array = np.array([1, 2, 3, 4, 5])\n",
        "indices_to_insert = [2, 4]\n",
        "values_to_insert = [10, 11]\n",
        "indices_to_delete = [1, 3]"
      ],
      "metadata": {
        "id": "mbVH33G-C4o9"
      }
    },
    {
      "cell_type": "code",
      "source": [
        "import numpy as np\n",
        "\n",
        "# Define the function to insert and delete elements in the array\n",
        "def insert_and_delete_elements(array, indices_to_insert, values_to_insert, indices_to_delete):\n",
        "    # Insert elements at the specified indices\n",
        "    array_after_insert = np.insert(array, indices_to_insert, values_to_insert)\n",
        "\n",
        "    # Delete elements at the specified indices\n",
        "    array_after_delete = np.delete(array_after_insert, indices_to_delete)\n",
        "\n",
        "    return array_after_insert, array_after_delete\n",
        "\n",
        "# Define the original array, indices, and values\n",
        "original_array = np.array([1, 2, 3, 4, 5])\n",
        "indices_to_insert = [2, 4]\n",
        "values_to_insert = [10, 11]\n",
        "indices_to_delete = [1, 3]\n",
        "\n",
        "# Call the function\n",
        "array_after_insert, array_after_delete = insert_and_delete_elements(original_array, indices_to_insert, values_to_insert, indices_to_delete)\n",
        "\n",
        "# Print the results\n",
        "print(\"Array after insertion:\")\n",
        "print(array_after_insert)\n",
        "\n",
        "print(\"\\nArray after deletion:\")\n",
        "print(array_after_delete)\n"
      ],
      "metadata": {
        "colab": {
          "base_uri": "https://localhost:8080/"
        },
        "id": "Kwo8TLO0C9jn",
        "outputId": "213b14d9-d1fd-4938-9e9e-ce9518cff22a"
      },
      "execution_count": 54,
      "outputs": [
        {
          "output_type": "stream",
          "name": "stdout",
          "text": [
            "Array after insertion:\n",
            "[ 1  2 10  3  4 11  5]\n",
            "\n",
            "Array after deletion:\n",
            "[ 1 10  4 11  5]\n"
          ]
        }
      ]
    },
    {
      "cell_type": "markdown",
      "source": [
        "Que.51)Create a NumPy array `arr1` with random integers and another array `arr2` with integers from 1 to 10.\n",
        "Perform element-wise addition between `arr1` and `arr2`."
      ],
      "metadata": {
        "id": "SN5GI6oJDDZw"
      }
    },
    {
      "cell_type": "code",
      "source": [
        "import numpy as np\n",
        "\n",
        "# Create arr1 with random integers (size 5 for example)\n",
        "arr1 = np.random.randint(1, 10, size=5)\n",
        "\n",
        "# Create arr2 with integers from 1 to 10 (size 5)\n",
        "arr2 = np.arange(1, 6)\n",
        "\n",
        "# Perform element-wise addition\n",
        "result = arr1 + arr2\n",
        "\n",
        "# Print the arrays and the result\n",
        "print(\"arr1:\", arr1)\n",
        "print(\"arr2:\", arr2)\n",
        "print(\"Element-wise addition result:\", result)\n"
      ],
      "metadata": {
        "colab": {
          "base_uri": "https://localhost:8080/"
        },
        "id": "BjUN1VpeDKJV",
        "outputId": "ee4f3949-335e-4897-85ec-65158d9d7d58"
      },
      "execution_count": 55,
      "outputs": [
        {
          "output_type": "stream",
          "name": "stdout",
          "text": [
            "arr1: [4 8 3 2 1]\n",
            "arr2: [1 2 3 4 5]\n",
            "Element-wise addition result: [ 5 10  6  6  6]\n"
          ]
        }
      ]
    },
    {
      "cell_type": "markdown",
      "source": [
        "QUe.52. Generate a NumPy array `arr1` with sequential integers from 10 to 1 and another array `arr2` with integers\n",
        "from 1 to 10. Subtract `arr2` from `arr1` element-wise"
      ],
      "metadata": {
        "id": "VcO3ICEWDO3x"
      }
    },
    {
      "cell_type": "code",
      "source": [
        "import numpy as np\n",
        "\n",
        "# Create arr1 with sequential integers from 10 to 1\n",
        "arr1 = np.arange(10, 0, -1)\n",
        "\n",
        "# Create arr2 with integers from 1 to 10\n",
        "arr2 = np.arange(1, 11)\n",
        "\n",
        "# Perform element-wise subtraction (arr1 - arr2)\n",
        "result = arr1 - arr2\n",
        "\n",
        "# Print the arrays and the result\n",
        "print(\"arr1:\", arr1)\n",
        "print(\"arr2:\", arr2)\n",
        "print(\"Element-wise subtraction result:\", result)\n"
      ],
      "metadata": {
        "colab": {
          "base_uri": "https://localhost:8080/"
        },
        "id": "7U2HCBWADWMF",
        "outputId": "d91b8e3e-92a2-432a-c3d2-4f734f36e63b"
      },
      "execution_count": 56,
      "outputs": [
        {
          "output_type": "stream",
          "name": "stdout",
          "text": [
            "arr1: [10  9  8  7  6  5  4  3  2  1]\n",
            "arr2: [ 1  2  3  4  5  6  7  8  9 10]\n",
            "Element-wise subtraction result: [ 9  7  5  3  1 -1 -3 -5 -7 -9]\n"
          ]
        }
      ]
    },
    {
      "cell_type": "markdown",
      "source": [
        "Que.53) Create a NumPy array `arr1` with random integers and another array `arr2` with integers from 1 to 5.\n",
        "Perform element-wise multiplication between `arr1` and `arr2`."
      ],
      "metadata": {
        "id": "6XbsiBbrEBaL"
      }
    },
    {
      "cell_type": "code",
      "source": [
        "import numpy as np\n",
        "\n",
        "# Create arr1 with random integers (size 5 for example)\n",
        "arr1 = np.random.randint(1, 10, size=5)\n",
        "\n",
        "# Create arr2 with integers from 1 to 5\n",
        "arr2 = np.arange(1, 6)\n",
        "\n",
        "# Perform element-wise multiplication\n",
        "result = arr1 * arr2\n",
        "\n",
        "# Print the arrays and the result\n",
        "print(\"arr1:\", arr1)\n",
        "print(\"arr2:\", arr2)\n",
        "print(\"Element-wise multiplication result:\", result)\n"
      ],
      "metadata": {
        "colab": {
          "base_uri": "https://localhost:8080/"
        },
        "id": "ockyXkxKEGWb",
        "outputId": "5a18694a-c310-4350-e20d-c64bd8442952"
      },
      "execution_count": 58,
      "outputs": [
        {
          "output_type": "stream",
          "name": "stdout",
          "text": [
            "arr1: [2 5 8 1 1]\n",
            "arr2: [1 2 3 4 5]\n",
            "Element-wise multiplication result: [ 2 10 24  4  5]\n"
          ]
        }
      ]
    },
    {
      "cell_type": "markdown",
      "source": [
        "QUe.54)Generate a NumPy array `arr1` with even integers from 2 to 10 and another array `arr2` with integers from 1\n",
        "to 5. Perform element-wise division of `arr1` by `arr2`."
      ],
      "metadata": {
        "id": "bsivXTI4EQCm"
      }
    },
    {
      "cell_type": "code",
      "source": [
        "import numpy as np\n",
        "\n",
        "# Create arr1 with even integers from 2 to 10\n",
        "arr1 = np.arange(2, 11, 2)\n",
        "\n",
        "# Create arr2 with integers from 1 to 5\n",
        "arr2 = np.arange(1, 6)\n",
        "\n",
        "# Perform element-wise division\n",
        "result = arr1 / arr2\n",
        "\n",
        "# Print the arrays and the result\n",
        "print(\"arr1:\", arr1)\n",
        "print(\"arr2:\", arr2)\n",
        "print(\"Element-wise division result:\", result)\n"
      ],
      "metadata": {
        "colab": {
          "base_uri": "https://localhost:8080/"
        },
        "id": "4W-YEVn9ET05",
        "outputId": "a881318e-bb05-481a-9a3c-b5077f34334f"
      },
      "execution_count": 59,
      "outputs": [
        {
          "output_type": "stream",
          "name": "stdout",
          "text": [
            "arr1: [ 2  4  6  8 10]\n",
            "arr2: [1 2 3 4 5]\n",
            "Element-wise division result: [2. 2. 2. 2. 2.]\n"
          ]
        }
      ]
    },
    {
      "cell_type": "markdown",
      "source": [
        "QUe.55)Create a NumPy array `arr1` with integers from 1 to 5 and another array `arr2` with the same numbers\n",
        "reversed. Calculate the exponentiation of `arr1` raised to the power of `arr2` element-wise."
      ],
      "metadata": {
        "id": "hEGAl18OEYwi"
      }
    },
    {
      "cell_type": "code",
      "source": [
        "import numpy as np\n",
        "\n",
        "# Create arr1 with integers from 1 to 5\n",
        "arr1 = np.arange(1, 6)\n",
        "\n",
        "# Create arr2 with the same numbers reversed\n",
        "arr2 = arr1[::-1]\n",
        "\n",
        "# Perform element-wise exponentiation (arr1 raised to the power of arr2)\n",
        "result = arr1 ** arr2\n",
        "\n",
        "# Print the arrays and the result\n",
        "print(\"arr1:\", arr1)\n",
        "print(\"arr2:\", arr2)\n",
        "print(\"Element-wise exponentiation result:\", result)\n"
      ],
      "metadata": {
        "colab": {
          "base_uri": "https://localhost:8080/"
        },
        "id": "TrSUZpzvEdWo",
        "outputId": "cdda1fd2-f99c-4902-d63e-ca623088f74a"
      },
      "execution_count": 60,
      "outputs": [
        {
          "output_type": "stream",
          "name": "stdout",
          "text": [
            "arr1: [1 2 3 4 5]\n",
            "arr2: [5 4 3 2 1]\n",
            "Element-wise exponentiation result: [ 1 16 27 16  5]\n"
          ]
        }
      ]
    },
    {
      "cell_type": "markdown",
      "source": [
        "QUe.56. Write a function that counts the occurrences of a specific substring within a NumPy array of strings.arr = np.array(['hello', 'world', 'hello', 'numpy', 'hello'])\n"
      ],
      "metadata": {
        "id": "OsBoVB9ZEtfv"
      }
    },
    {
      "cell_type": "code",
      "source": [
        "import numpy as np\n",
        "\n",
        "# Function to count occurrences of a substring in a NumPy array of strings\n",
        "def count_substring_occurrences(arr, substring):\n",
        "    # Use np.char.count() to count occurrences of the substring in each element\n",
        "    count_array = np.char.count(arr, substring)\n",
        "\n",
        "    # Return the total count by summing up the count array\n",
        "    return np.sum(count_array)\n",
        "\n",
        "# Example array of strings\n",
        "arr = np.array(['hello', 'world', 'hello', 'numpy', 'hello'])\n",
        "\n",
        "# Substring to search for\n",
        "substring = 'hello'\n",
        "\n",
        "# Get the count of occurrences\n",
        "count = count_substring_occurrences(arr, substring)\n",
        "\n",
        "# Print the result\n",
        "print(f\"The substring '{substring}' occurs {count} times in the array.\")\n"
      ],
      "metadata": {
        "colab": {
          "base_uri": "https://localhost:8080/"
        },
        "id": "GreAi8KVEzpC",
        "outputId": "bfaf9668-fad5-4371-8803-d7e3fbfec5ea"
      },
      "execution_count": 61,
      "outputs": [
        {
          "output_type": "stream",
          "name": "stdout",
          "text": [
            "The substring 'hello' occurs 3 times in the array.\n"
          ]
        }
      ]
    },
    {
      "cell_type": "markdown",
      "source": [
        "QUe.57. Write a function that extracts uppercase characters from a NumPy array of strings.\n",
        "\n",
        "arr = np.array(['Hello', 'World', 'OpenAI', 'GPT'])\n",
        "\n",
        "\n"
      ],
      "metadata": {
        "id": "uTzT3JUUFPSj"
      }
    },
    {
      "cell_type": "code",
      "source": [
        "import numpy as np\n",
        "\n",
        "# Function to extract uppercase characters from a NumPy array of strings\n",
        "def extract_uppercase_chars(arr):\n",
        "    # Initialize an empty list to store the uppercase characters\n",
        "    uppercase_chars = []\n",
        "\n",
        "    # Iterate over each string in the array\n",
        "    for string in arr:\n",
        "        # Use list comprehension to filter out uppercase characters from each string\n",
        "        uppercase_chars.append(''.join([char for char in string if char.isupper()]))\n",
        "\n",
        "    # Convert the list of uppercase characters into a NumPy array\n",
        "    return np.array(uppercase_chars)\n",
        "\n",
        "# Example array of strings\n",
        "arr = np.array(['Hello', 'World', 'OpenAI', 'GPT'])\n",
        "\n",
        "# Extract uppercase characters\n",
        "result = extract_uppercase_chars(arr)\n",
        "\n",
        "# Print the result\n",
        "print(\"Extracted uppercase characters:\", result)\n"
      ],
      "metadata": {
        "colab": {
          "base_uri": "https://localhost:8080/"
        },
        "id": "4C2Q_Y6bFRmz",
        "outputId": "6cade62f-1aab-4604-83ce-5099e2a45598"
      },
      "execution_count": 62,
      "outputs": [
        {
          "output_type": "stream",
          "name": "stdout",
          "text": [
            "Extracted uppercase characters: ['H' 'W' 'OAI' 'GPT']\n"
          ]
        }
      ]
    },
    {
      "cell_type": "markdown",
      "source": [
        "Que.58. Write a function that replaces occurrences of a substring in a NumPy array of strings with a new string.arr = np.array(['apple', 'banana', 'grape', 'pineapple'])"
      ],
      "metadata": {
        "id": "F5xua7tgFdeP"
      }
    },
    {
      "cell_type": "code",
      "source": [
        "import numpy as np\n",
        "\n",
        "# Function to replace occurrences of a substring with a new string in a NumPy array of strings\n",
        "def replace_substring(arr, old_substring, new_substring):\n",
        "    # Use np.char.replace() to replace the old substring with the new substring\n",
        "    return np.char.replace(arr, old_substring, new_substring)\n",
        "\n",
        "# Example array of strings\n",
        "arr = np.array(['apple', 'banana', 'grape', 'pineapple'])\n",
        "\n",
        "# Substring to replace and the new string\n",
        "old_substring = 'apple'\n",
        "new_substring = 'orange'\n",
        "\n",
        "# Replace occurrences of old_substring with new_substring\n",
        "result = replace_substring(arr, old_substring, new_substring)\n",
        "\n",
        "# Print the result\n",
        "print(\"Array after replacement:\", result)\n"
      ],
      "metadata": {
        "colab": {
          "base_uri": "https://localhost:8080/"
        },
        "id": "khfzH5btFmNK",
        "outputId": "cdd7968d-675f-4c27-966b-149d0f846846"
      },
      "execution_count": 63,
      "outputs": [
        {
          "output_type": "stream",
          "name": "stdout",
          "text": [
            "Array after replacement: ['orange' 'banana' 'grape' 'pineorange']\n"
          ]
        }
      ]
    },
    {
      "cell_type": "markdown",
      "source": [
        "Que.59. Write a function that concatenates strings in a NumPy array element-wise.arr1 = np.array(['Hello', 'World'])\n",
        "arr2 = np.array(['Open', 'AI'])"
      ],
      "metadata": {
        "id": "v5VidhMiFrbI"
      }
    },
    {
      "cell_type": "code",
      "source": [
        "import numpy as np\n",
        "\n",
        "# Function to concatenate strings in two NumPy arrays element-wise\n",
        "def concatenate_strings(arr1, arr2):\n",
        "    # Use np.char.add() to concatenate corresponding elements of the two arrays\n",
        "    return np.char.add(arr1, arr2)\n",
        "\n",
        "# Example arrays of strings\n",
        "arr1 = np.array(['Hello', 'World'])\n",
        "arr2 = np.array(['Open', 'AI'])\n",
        "\n",
        "# Concatenate the strings element-wise\n",
        "result = concatenate_strings(arr1, arr2)\n",
        "\n",
        "# Print the result\n",
        "print(\"Concatenated array:\", result)\n"
      ],
      "metadata": {
        "colab": {
          "base_uri": "https://localhost:8080/"
        },
        "id": "VDheFYtZGH9_",
        "outputId": "f50a065f-adb1-4ac1-a03a-29d5b10e1595"
      },
      "execution_count": 64,
      "outputs": [
        {
          "output_type": "stream",
          "name": "stdout",
          "text": [
            "Concatenated array: ['HelloOpen' 'WorldAI']\n"
          ]
        }
      ]
    },
    {
      "cell_type": "markdown",
      "source": [
        "Que.60. Write a function that finds the length of the longest string in a NumPy array.arr = np.array(['apple', 'banana', 'grape', 'pineapple'])"
      ],
      "metadata": {
        "id": "GgJNdlJrGf8q"
      }
    },
    {
      "cell_type": "code",
      "source": [
        "import numpy as np\n",
        "\n",
        "# Function to find the length of the longest string in a NumPy array\n",
        "def longest_string_length(arr):\n",
        "    # Use np.char.str_len() to find the length of each string\n",
        "    string_lengths = np.char.str_len(arr)\n",
        "\n",
        "    # Use np.max() to find the maximum length\n",
        "    return np.max(string_lengths)\n",
        "\n",
        "# Example array of strings\n",
        "arr = np.array(['apple', 'banana', 'grape', 'pineapple'])\n",
        "\n",
        "# Find the length of the longest string\n",
        "result = longest_string_length(arr)\n",
        "\n",
        "# Print the result\n",
        "print(\"Length of the longest string:\", result)\n"
      ],
      "metadata": {
        "colab": {
          "base_uri": "https://localhost:8080/"
        },
        "id": "LUWk6mHVGjJ1",
        "outputId": "e59e6efe-a07f-460b-f644-5abe0c836d87"
      },
      "execution_count": 65,
      "outputs": [
        {
          "output_type": "stream",
          "name": "stdout",
          "text": [
            "Length of the longest string: 9\n"
          ]
        }
      ]
    },
    {
      "cell_type": "markdown",
      "source": [
        "Que,61,. Create a dataset of 100 random integers between 1 and 1000. Compute the mean, median, variance, and\n",
        "standard deviation of the dataset using NumPy's functions"
      ],
      "metadata": {
        "id": "QyVSVD43Gpa5"
      }
    },
    {
      "cell_type": "code",
      "source": [
        "import numpy as np\n",
        "\n",
        "# Create a dataset of 100 random integers between 1 and 1000\n",
        "dataset = np.random.randint(1, 1001, 100)\n",
        "\n",
        "# Compute the mean, median, variance, and standard deviation\n",
        "mean = np.mean(dataset)\n",
        "median = np.median(dataset)\n",
        "variance = np.var(dataset)\n",
        "std_deviation = np.std(dataset)\n",
        "\n",
        "# Print the results\n",
        "print(f\"Mean: {mean}\")\n",
        "print(f\"Median: {median}\")\n",
        "print(f\"Variance: {variance}\")\n",
        "print(f\"Standard Deviation: {std_deviation}\")\n"
      ],
      "metadata": {
        "colab": {
          "base_uri": "https://localhost:8080/"
        },
        "id": "LTsnQ1lGGtu4",
        "outputId": "41f27c01-60d8-4053-a990-05ed03b571df"
      },
      "execution_count": 66,
      "outputs": [
        {
          "output_type": "stream",
          "name": "stdout",
          "text": [
            "Mean: 456.56\n",
            "Median: 431.0\n",
            "Variance: 76364.32639999999\n",
            "Standard Deviation: 276.3409604094188\n"
          ]
        }
      ]
    },
    {
      "cell_type": "markdown",
      "source": [
        "Que.62. Generate an array of 50 random numbers between 1 and 100. Find the 25th and 75th percentiles of the\n",
        "dataset."
      ],
      "metadata": {
        "id": "a0zIfz28GzTr"
      }
    },
    {
      "cell_type": "code",
      "source": [
        "import numpy as np\n",
        "\n",
        "# Generate an array of 50 random numbers between 1 and 100\n",
        "dataset = np.random.randint(1, 101, 50)\n",
        "\n",
        "# Find the 25th and 75th percentiles\n",
        "percentile_25 = np.percentile(dataset, 25)\n",
        "percentile_75 = np.percentile(dataset, 75)\n",
        "\n",
        "# Print the results\n",
        "print(f\"25th Percentile: {percentile_25}\")\n",
        "print(f\"75th Percentile: {percentile_75}\")\n"
      ],
      "metadata": {
        "colab": {
          "base_uri": "https://localhost:8080/"
        },
        "id": "bXmt2WWgG3BZ",
        "outputId": "bbbba207-f56c-4e44-b757-3cb094a15249"
      },
      "execution_count": 67,
      "outputs": [
        {
          "output_type": "stream",
          "name": "stdout",
          "text": [
            "25th Percentile: 18.5\n",
            "75th Percentile: 70.5\n"
          ]
        }
      ]
    },
    {
      "cell_type": "markdown",
      "source": [
        "QUe.63. Create two arrays representing two sets of variables. Compute the correlation coefficient between these\n",
        "arrays using NumPy's `corrcoef` function."
      ],
      "metadata": {
        "id": "9vn3iCPaG6e8"
      }
    },
    {
      "cell_type": "code",
      "source": [
        "import numpy as np\n",
        "\n",
        "# Create two arrays representing two sets of variables\n",
        "array1 = np.array([10, 20, 30, 40, 50])\n",
        "array2 = np.array([5, 15, 25, 35, 45])\n",
        "\n",
        "# Compute the correlation coefficient matrix\n",
        "correlation_matrix = np.corrcoef(array1, array2)\n",
        "\n",
        "# Extract the correlation coefficient from the matrix\n",
        "correlation_coefficient = correlation_matrix[0, 1]\n",
        "\n",
        "# Print the result\n",
        "print(f\"Correlation Coefficient: {correlation_coefficient}\")\n",
        "\n"
      ],
      "metadata": {
        "colab": {
          "base_uri": "https://localhost:8080/"
        },
        "id": "WE-jppgJG-RF",
        "outputId": "4aa30fcd-96bd-4279-a3d2-cd39ad441e98"
      },
      "execution_count": 68,
      "outputs": [
        {
          "output_type": "stream",
          "name": "stdout",
          "text": [
            "Correlation Coefficient: 1.0\n"
          ]
        }
      ]
    },
    {
      "cell_type": "markdown",
      "source": [
        "Que.64. Create two matrices and perform matrix multiplication using NumPy's `dot` function."
      ],
      "metadata": {
        "id": "eVYRxAnbHDsi"
      }
    },
    {
      "cell_type": "code",
      "source": [
        "import numpy as np\n",
        "\n",
        "# Create two matrices\n",
        "matrix1 = np.array([[1, 2], [3, 4]])\n",
        "matrix2 = np.array([[5, 6], [7, 8]])\n",
        "\n",
        "# Perform matrix multiplication using np.dot\n",
        "result = np.dot(matrix1, matrix2)\n",
        "\n",
        "# Print the result\n",
        "print(\"Matrix Multiplication Result:\")\n",
        "print(result)\n"
      ],
      "metadata": {
        "colab": {
          "base_uri": "https://localhost:8080/"
        },
        "id": "JTKZ3sOLHJhh",
        "outputId": "6012907b-1106-40b2-debe-a5c4c7176def"
      },
      "execution_count": 69,
      "outputs": [
        {
          "output_type": "stream",
          "name": "stdout",
          "text": [
            "Matrix Multiplication Result:\n",
            "[[19 22]\n",
            " [43 50]]\n"
          ]
        }
      ]
    },
    {
      "cell_type": "markdown",
      "source": [
        "Que.65. Create an array of 50 integers between 10 and 1000. Calculate the 10th, 50th (median), and 90th\n",
        "percentiles along with the first and third quartiles."
      ],
      "metadata": {
        "id": "h36kYRvBHPqi"
      }
    },
    {
      "cell_type": "code",
      "source": [
        "import numpy as np\n",
        "\n",
        "# Create an array of 50 integers between 10 and 1000\n",
        "array = np.random.randint(10, 1001, 50)\n",
        "\n",
        "# Calculate the required percentiles and quartiles\n",
        "percentile_10 = np.percentile(array, 10)\n",
        "percentile_50 = np.percentile(array, 50)  # This is the median\n",
        "percentile_90 = np.percentile(array, 90)\n",
        "quartile_25 = np.percentile(array, 25)\n",
        "quartile_75 = np.percentile(array, 75)\n",
        "\n",
        "# Print the results\n",
        "print(f\"10th Percentile: {percentile_10}\")\n",
        "print(f\"50th Percentile (Median): {percentile_50}\")\n",
        "print(f\"90th Percentile: {percentile_90}\")\n",
        "print(f\"1st Quartile (25th Percentile): {quartile_25}\")\n",
        "print(f\"3rd Quartile (75th Percentile): {quartile_75}\")\n"
      ],
      "metadata": {
        "colab": {
          "base_uri": "https://localhost:8080/"
        },
        "id": "7LdPdQORHToA",
        "outputId": "d521b46c-1e01-4189-8364-d9ee8339f441"
      },
      "execution_count": 70,
      "outputs": [
        {
          "output_type": "stream",
          "name": "stdout",
          "text": [
            "10th Percentile: 99.80000000000001\n",
            "50th Percentile (Median): 459.5\n",
            "90th Percentile: 779.0000000000001\n",
            "1st Quartile (25th Percentile): 234.75\n",
            "3rd Quartile (75th Percentile): 678.75\n"
          ]
        }
      ]
    },
    {
      "cell_type": "markdown",
      "source": [
        "Que.66. Create a NumPy array of integers and find the index of a specific element."
      ],
      "metadata": {
        "id": "YVqURXdCHYH9"
      }
    },
    {
      "cell_type": "code",
      "source": [
        "import numpy as np\n",
        "\n",
        "# Create a NumPy array of integers\n",
        "arr = np.array([10, 20, 30, 40, 50, 60])\n",
        "\n",
        "# Specify the element whose index you want to find\n",
        "element = 40\n",
        "\n",
        "# Use np.where() to find the index of the element\n",
        "index = np.where(arr == element)[0]\n",
        "\n",
        "# Print the result\n",
        "print(f\"Index of element {element}: {index}\")\n"
      ],
      "metadata": {
        "colab": {
          "base_uri": "https://localhost:8080/"
        },
        "id": "RkeKgyHPHdcH",
        "outputId": "8838cb17-d79e-4ae5-a23d-c892b05e4adb"
      },
      "execution_count": 71,
      "outputs": [
        {
          "output_type": "stream",
          "name": "stdout",
          "text": [
            "Index of element 40: [3]\n"
          ]
        }
      ]
    },
    {
      "cell_type": "markdown",
      "source": [
        "Que.67. Generate a random NumPy array and sort it in ascending orde"
      ],
      "metadata": {
        "id": "cDl_brYTHknN"
      }
    },
    {
      "cell_type": "code",
      "source": [
        "import numpy as np\n",
        "\n",
        "# Generate a random NumPy array with integers between 1 and 100\n",
        "arr = np.random.randint(1, 101, 10)  # 10 random integers between 1 and 100\n",
        "\n",
        "# Sort the array in ascending order\n",
        "sorted_arr = np.sort(arr)\n",
        "\n",
        "# Print the original and sorted arrays\n",
        "print(f\"Original Array: {arr}\")\n",
        "print(f\"Sorted Array (Ascending): {sorted_arr}\")\n"
      ],
      "metadata": {
        "colab": {
          "base_uri": "https://localhost:8080/"
        },
        "id": "HdfUt3dQHown",
        "outputId": "c86df3f5-78d5-4f3a-f1f2-7b1c1da27476"
      },
      "execution_count": 72,
      "outputs": [
        {
          "output_type": "stream",
          "name": "stdout",
          "text": [
            "Original Array: [75 34 35 12 19 77 51 10 27 48]\n",
            "Sorted Array (Ascending): [10 12 19 27 34 35 48 51 75 77]\n"
          ]
        }
      ]
    },
    {
      "cell_type": "markdown",
      "source": [
        "Qyue.68. Filter elements >20  in the given NumPy array  arr = np.array([12, 25, 6, 42, 8, 30])\n"
      ],
      "metadata": {
        "id": "_dSOzX4nII54"
      }
    },
    {
      "cell_type": "code",
      "source": [
        "import numpy as np\n",
        "\n",
        "# Given NumPy array\n",
        "arr = np.array([12, 25, 6, 42, 8, 30])\n",
        "\n",
        "# Filter elements greater than 20\n",
        "filtered_arr = arr[arr > 20]\n",
        "\n",
        "# Print the filtered array\n",
        "print(f\"Filtered Array (elements > 20): {filtered_arr}\")\n"
      ],
      "metadata": {
        "colab": {
          "base_uri": "https://localhost:8080/"
        },
        "id": "_qSvZwHsIE25",
        "outputId": "b5eda9cc-b56d-4d5b-b528-de7392b81de8"
      },
      "execution_count": 73,
      "outputs": [
        {
          "output_type": "stream",
          "name": "stdout",
          "text": [
            "Filtered Array (elements > 20): [25 42 30]\n"
          ]
        }
      ]
    },
    {
      "cell_type": "markdown",
      "source": [
        "Que.69. Filter elements which are divisible by 3 from a given NumPy array.arr = np.array([1, 5, 8, 12, 15])\n"
      ],
      "metadata": {
        "id": "6GQnWKmMIR0Q"
      }
    },
    {
      "cell_type": "code",
      "source": [
        "import numpy as np\n",
        "\n",
        "# Given NumPy array\n",
        "arr = np.array([1, 5, 8, 12, 15])\n",
        "\n",
        "# Filter elements divisible by 3\n",
        "filtered_arr = arr[arr % 3 == 0]\n",
        "\n",
        "# Print the filtered array\n",
        "print(f\"Filtered Array (divisible by 3): {filtered_arr}\")\n"
      ],
      "metadata": {
        "colab": {
          "base_uri": "https://localhost:8080/"
        },
        "id": "_WLoKlE5IcxD",
        "outputId": "ecad79c3-9753-47b7-ac21-e8e0eb23e5b9"
      },
      "execution_count": 74,
      "outputs": [
        {
          "output_type": "stream",
          "name": "stdout",
          "text": [
            "Filtered Array (divisible by 3): [12 15]\n"
          ]
        }
      ]
    },
    {
      "cell_type": "markdown",
      "source": [
        "QUe.70. Filter elements which are ≥ 20 and ≤ 40 from a given NumPy array.arr = np.array([10, 20, 30, 40, 50])\n"
      ],
      "metadata": {
        "id": "DDnMMjcpInNH"
      }
    },
    {
      "cell_type": "code",
      "source": [
        "import numpy as np\n",
        "\n",
        "# Given NumPy array\n",
        "arr = np.array([10, 20, 30, 40, 50])\n",
        "\n",
        "# Filter elements ≥ 20 and ≤ 40\n",
        "filtered_arr = arr[(arr >= 20) & (arr <= 40)]\n",
        "\n",
        "# Print the filtered array\n",
        "print(f\"Filtered Array (elements ≥ 20 and ≤ 40): {filtered_arr}\")\n"
      ],
      "metadata": {
        "colab": {
          "base_uri": "https://localhost:8080/"
        },
        "id": "a_cCXInHIqzi",
        "outputId": "1c3f9a4e-51e1-444b-d706-4f5850b949df"
      },
      "execution_count": 75,
      "outputs": [
        {
          "output_type": "stream",
          "name": "stdout",
          "text": [
            "Filtered Array (elements ≥ 20 and ≤ 40): [20 30 40]\n"
          ]
        }
      ]
    },
    {
      "cell_type": "markdown",
      "source": [
        "Que.71. For the given NumPy array, check its byte order using the `dtype` attribute byteorder.arr = np.array([1, 2, 3])\n"
      ],
      "metadata": {
        "id": "tlsSYnVpIxPz"
      }
    },
    {
      "cell_type": "code",
      "source": [
        "import numpy as np\n",
        "\n",
        "# Given NumPy array\n",
        "arr = np.array([1, 2, 3])\n",
        "\n",
        "# Check byte order\n",
        "byte_order = arr.dtype.byteorder\n",
        "\n",
        "# Print the byte order\n",
        "print(f\"Byte order of the array: {byte_order}\")\n"
      ],
      "metadata": {
        "colab": {
          "base_uri": "https://localhost:8080/"
        },
        "id": "WrIJl5UvI0yI",
        "outputId": "1f5f239e-5321-4b5b-8369-66dc1d21795d"
      },
      "execution_count": 76,
      "outputs": [
        {
          "output_type": "stream",
          "name": "stdout",
          "text": [
            "Byte order of the array: =\n"
          ]
        }
      ]
    },
    {
      "cell_type": "markdown",
      "source": [
        "Que.72. For the given NumPy array, perform byte swapping in place using `byteswap()`.arr = np.array([1, 2, 3], dtype=np.int32)\n"
      ],
      "metadata": {
        "id": "eRMPE2YcI7Yt"
      }
    },
    {
      "cell_type": "code",
      "source": [
        "import numpy as np\n",
        "\n",
        "# Given NumPy array with dtype as np.int32\n",
        "arr = np.array([1, 2, 3], dtype=np.int32)\n",
        "\n",
        "# Perform byte swapping in place\n",
        "arr.byteswap(True)\n",
        "\n",
        "# Print the modified array\n",
        "print(f\"Array after byte swapping: {arr}\")\n"
      ],
      "metadata": {
        "colab": {
          "base_uri": "https://localhost:8080/"
        },
        "id": "ElGZOXKOI__F",
        "outputId": "22bd3995-590e-4042-b4e1-c3ffccc2c4ef"
      },
      "execution_count": 77,
      "outputs": [
        {
          "output_type": "stream",
          "name": "stdout",
          "text": [
            "Array after byte swapping: [16777216 33554432 50331648]\n"
          ]
        }
      ]
    },
    {
      "cell_type": "markdown",
      "source": [
        "QUe."
      ],
      "metadata": {
        "id": "S_OHJ88LJN-g"
      }
    },
    {
      "cell_type": "markdown",
      "source": [
        "73. For the given NumPy array, swap its byte order without modifying the original array using\n",
        "newbyteorder().arr = np.array([1, 2, 3], dtype=np.int32)\n",
        "\n"
      ],
      "metadata": {
        "id": "AXFgcV5jJO30"
      }
    },
    {
      "cell_type": "code",
      "source": [
        "import numpy as np\n",
        "\n",
        "# Given NumPy array with dtype as np.int32\n",
        "arr = np.array([1, 2, 3], dtype=np.int32)\n",
        "\n",
        "# Swap byte order without modifying the original array\n",
        "swapped_arr = arr.newbyteorder()\n",
        "\n",
        "# Print the original and swapped arrays\n",
        "print(f\"Original array: {arr}\")\n",
        "print(f\"Array with swapped byte order: {swapped_arr}\")\n"
      ],
      "metadata": {
        "colab": {
          "base_uri": "https://localhost:8080/"
        },
        "id": "qhIn1zCeJSm6",
        "outputId": "00a495f6-9d36-42a6-a842-c585c3747bb3"
      },
      "execution_count": 78,
      "outputs": [
        {
          "output_type": "stream",
          "name": "stdout",
          "text": [
            "Original array: [1 2 3]\n",
            "Array with swapped byte order: [16777216 33554432 50331648]\n"
          ]
        }
      ]
    },
    {
      "cell_type": "markdown",
      "source": [
        "QUe. 74. For the given NumPy array and swap its byte order conditionally based on system endianness using newbyteorder().arr = np.array([1, 2, 3], dtype=np.int32)"
      ],
      "metadata": {
        "id": "yWwVxBy_JkwL"
      }
    },
    {
      "cell_type": "code",
      "source": [
        "import numpy as np\n",
        "import sys\n",
        "\n",
        "# Given NumPy array with dtype as np.int32\n",
        "arr = np.array([1, 2, 3], dtype=np.int32)\n",
        "\n",
        "# Check the system's byte order\n",
        "if sys.byteorder == 'little':\n",
        "    # If the system is little-endian, swap to big-endian\n",
        "    swapped_arr = arr.newbyteorder('>')\n",
        "else:\n",
        "    # If the system is big-endian, swap to little-endian\n",
        "    swapped_arr = arr.newbyteorder('<')\n",
        "\n",
        "# Print the original and swapped arrays\n",
        "print(f\"Original array: {arr}\")\n",
        "print(f\"Array with swapped byte order: {swapped_arr}\")\n"
      ],
      "metadata": {
        "colab": {
          "base_uri": "https://localhost:8080/"
        },
        "id": "cu7xHICKJpAC",
        "outputId": "e7398645-2a4c-41a6-ebfe-47433b78e3dc"
      },
      "execution_count": 79,
      "outputs": [
        {
          "output_type": "stream",
          "name": "stdout",
          "text": [
            "Original array: [1 2 3]\n",
            "Array with swapped byte order: [16777216 33554432 50331648]\n"
          ]
        }
      ]
    },
    {
      "cell_type": "markdown",
      "source": [
        "Que.75)For the given NumPy array, check if byte swapping is necessary for the current system using dtype\n",
        "attribute byteorder.arr = np.array([1, 2, 3], dtype=np.int32)\n",
        "\n"
      ],
      "metadata": {
        "id": "O-vwoGhMJ2q6"
      }
    },
    {
      "cell_type": "code",
      "source": [
        "import numpy as np\n",
        "import sys\n",
        "\n",
        "# Given NumPy array with dtype as np.int32\n",
        "arr = np.array([1, 2, 3], dtype=np.int32)\n",
        "\n",
        "# Check the byte order of the array and the system's native byte order\n",
        "if arr.dtype.byteorder != sys.byteorder:\n",
        "    print(\"Byte swapping is necessary.\")\n",
        "else:\n",
        "    print(\"Byte swapping is not necessary.\")\n"
      ],
      "metadata": {
        "colab": {
          "base_uri": "https://localhost:8080/"
        },
        "id": "9OXhz2mCJ7Js",
        "outputId": "ca668468-3e59-4115-d07d-e7a46bfb8417"
      },
      "execution_count": 80,
      "outputs": [
        {
          "output_type": "stream",
          "name": "stdout",
          "text": [
            "Byte swapping is necessary.\n"
          ]
        }
      ]
    },
    {
      "cell_type": "markdown",
      "source": [],
      "metadata": {
        "id": "9GKdwk0xKVAX"
      }
    },
    {
      "cell_type": "markdown",
      "source": [
        "Que.76. Create a NumPy array `arr1` with values from 1 to 10. Create a copy of `arr1` named `copy_arr` and modify\n",
        "an element in `copy_arr`. Check if modifying `copy_arr` affects `arr1`."
      ],
      "metadata": {
        "id": "Mg5awUTIKVIc"
      }
    },
    {
      "cell_type": "code",
      "source": [
        "import numpy as np\n",
        "\n",
        "# Create a NumPy array arr1 with values from 1 to 10\n",
        "arr1 = np.arange(1, 11)\n",
        "\n",
        "# Create a copy of arr1\n",
        "arr2 = np.copy(arr1)\n",
        "\n",
        "# Display both arrays\n",
        "print(\"arr1:\", arr1)\n",
        "print(\"arr2 (copy of arr1):\", arr2)\n"
      ],
      "metadata": {
        "colab": {
          "base_uri": "https://localhost:8080/"
        },
        "id": "pxLsfWjhKDX9",
        "outputId": "3c4c077a-abd6-4f03-ece6-4b06bbc2104e"
      },
      "execution_count": 81,
      "outputs": [
        {
          "output_type": "stream",
          "name": "stdout",
          "text": [
            "arr1: [ 1  2  3  4  5  6  7  8  9 10]\n",
            "arr2 (copy of arr1): [ 1  2  3  4  5  6  7  8  9 10]\n"
          ]
        }
      ]
    },
    {
      "cell_type": "markdown",
      "source": [
        "Que.77. Create a 2D NumPy array `matrix` of shape (3, 3) with random integers. Extract a slice `view_slice` from\n",
        "the matrix. Modify an element in `view_slice` and observe if it changes the original `matrix`."
      ],
      "metadata": {
        "id": "tZaJ0ufoKijM"
      }
    },
    {
      "cell_type": "code",
      "source": [
        "import numpy as np\n",
        "\n",
        "# Create a 2D NumPy array 'matrix' of shape (3, 3) with random integers\n",
        "matrix = np.random.randint(1, 10, size=(3, 3))\n",
        "\n",
        "# Extract a slice (view) from the matrix\n",
        "view_slice = matrix[1:, 1:]  # Extracting the bottom-right 2x2 slice\n",
        "\n",
        "# Display the original matrix and the view slice\n",
        "print(\"Original matrix:\\n\", matrix)\n",
        "print(\"View slice:\\n\", view_slice)\n",
        "\n",
        "# Modify an element in the view_slice\n",
        "view_slice[0, 0] = 999\n",
        "\n",
        "# Display the modified view_slice and the original matrix to observe the effect\n",
        "print(\"\\nModified view slice:\\n\", view_slice)\n",
        "print(\"Original matrix after modification:\\n\", matrix)\n"
      ],
      "metadata": {
        "colab": {
          "base_uri": "https://localhost:8080/"
        },
        "id": "u8NHoXcuLHZM",
        "outputId": "2b1c11f6-2dd1-43db-dcf0-81501330ee82"
      },
      "execution_count": 82,
      "outputs": [
        {
          "output_type": "stream",
          "name": "stdout",
          "text": [
            "Original matrix:\n",
            " [[3 5 8]\n",
            " [2 6 8]\n",
            " [4 2 9]]\n",
            "View slice:\n",
            " [[6 8]\n",
            " [2 9]]\n",
            "\n",
            "Modified view slice:\n",
            " [[999   8]\n",
            " [  2   9]]\n",
            "Original matrix after modification:\n",
            " [[  3   5   8]\n",
            " [  2 999   8]\n",
            " [  4   2   9]]\n"
          ]
        }
      ]
    },
    {
      "cell_type": "markdown",
      "source": [
        "Que.78. Create a NumPy array `array_a` of shape (4, 3) with sequential integers from 1 to 12. Extract a slice\n",
        "`view_b` from `array_a` and broadcast the addition of 5 to view_b. Check if it alters the original `array_a`."
      ],
      "metadata": {
        "id": "PcFl3HxwLMGm"
      }
    },
    {
      "cell_type": "code",
      "source": [
        "import numpy as np\n",
        "\n",
        "# Create a 4x3 NumPy array 'array_a' with sequential integers from 1 to 12\n",
        "array_a = np.arange(1, 13).reshape(4, 3)\n",
        "\n",
        "# Extract a slice (view) 'view_b' from 'array_a'\n",
        "view_b = array_a[1:, 1:]  # Extracting a 3x2 slice from array_a\n",
        "\n",
        "# Display the original array and the view slice before modification\n",
        "print(\"Original array_a:\\n\", array_a)\n",
        "print(\"View b:\\n\", view_b)\n",
        "\n",
        "# Broadcast addition of 5 to view_b\n",
        "view_b += 5\n",
        "\n",
        "# Display the modified view_b and the original array_a to observe the effect\n",
        "print(\"\\nModified view b:\\n\", view_b)\n",
        "print(\"Original array_a after modification:\\n\", array_a)\n"
      ],
      "metadata": {
        "colab": {
          "base_uri": "https://localhost:8080/"
        },
        "id": "8_DfFrIBLP8x",
        "outputId": "e5864b01-2a8c-4a17-8afb-b42004840c6e"
      },
      "execution_count": 83,
      "outputs": [
        {
          "output_type": "stream",
          "name": "stdout",
          "text": [
            "Original array_a:\n",
            " [[ 1  2  3]\n",
            " [ 4  5  6]\n",
            " [ 7  8  9]\n",
            " [10 11 12]]\n",
            "View b:\n",
            " [[ 5  6]\n",
            " [ 8  9]\n",
            " [11 12]]\n",
            "\n",
            "Modified view b:\n",
            " [[10 11]\n",
            " [13 14]\n",
            " [16 17]]\n",
            "Original array_a after modification:\n",
            " [[ 1  2  3]\n",
            " [ 4 10 11]\n",
            " [ 7 13 14]\n",
            " [10 16 17]]\n"
          ]
        }
      ]
    },
    {
      "cell_type": "markdown",
      "source": [
        "QUe.79. Create a NumPy array `orig_array` of shape (2, 4) with values from 1 to 8. Create a reshaped view\n",
        "`reshaped_view` of shape (4, 2) from orig_array. Modify an element in `reshaped_view` and check if it\n",
        "reflects changes in the original `orig_array`.\n",
        "\n",
        "\n"
      ],
      "metadata": {
        "id": "vc8JaUu-LXO6"
      }
    },
    {
      "cell_type": "code",
      "source": [
        "import numpy as np\n",
        "\n",
        "# Create a NumPy array 'orig_array' of shape (2, 4) with values from 1 to 8\n",
        "orig_array = np.arange(1, 9).reshape(2, 4)\n",
        "\n",
        "# Create a reshaped view 'reshaped_view' of shape (4, 2)\n",
        "reshaped_view = orig_array.reshape(4, 2)\n",
        "\n",
        "# Display the original array and reshaped view before modification\n",
        "print(\"Original array (orig_array):\\n\", orig_array)\n",
        "print(\"Reshaped view (reshaped_view):\\n\", reshaped_view)\n",
        "\n",
        "# Modify an element in 'reshaped_view'\n",
        "reshaped_view[2, 1] = 99\n",
        "\n",
        "# Display the modified reshaped view and the original array to observe changes\n",
        "print(\"\\nModified reshaped view (reshaped_view):\\n\", reshaped_view)\n",
        "print(\"Original array (orig_array) after modification:\\n\", orig_array)\n"
      ],
      "metadata": {
        "colab": {
          "base_uri": "https://localhost:8080/"
        },
        "id": "SldbVzqYLbKK",
        "outputId": "aff0269e-a7e0-4fc7-94ac-a1a38a2cdda4"
      },
      "execution_count": 84,
      "outputs": [
        {
          "output_type": "stream",
          "name": "stdout",
          "text": [
            "Original array (orig_array):\n",
            " [[1 2 3 4]\n",
            " [5 6 7 8]]\n",
            "Reshaped view (reshaped_view):\n",
            " [[1 2]\n",
            " [3 4]\n",
            " [5 6]\n",
            " [7 8]]\n",
            "\n",
            "Modified reshaped view (reshaped_view):\n",
            " [[ 1  2]\n",
            " [ 3  4]\n",
            " [ 5 99]\n",
            " [ 7  8]]\n",
            "Original array (orig_array) after modification:\n",
            " [[ 1  2  3  4]\n",
            " [ 5 99  7  8]]\n"
          ]
        }
      ]
    },
    {
      "cell_type": "markdown",
      "source": [
        "Que.80) Create a NumPy array `data` of shape (3, 4) with random integers. Extract a copy `data_copy` of\n",
        "elements greater than 5. Modify an element in `data_copy` and verify if it affects the original `data`."
      ],
      "metadata": {
        "id": "90owMMoSLfzP"
      }
    },
    {
      "cell_type": "code",
      "source": [
        "import numpy as np\n",
        "\n",
        "# Create a NumPy array 'data' of shape (3, 4) with random integers between 1 and 10\n",
        "data = np.random.randint(1, 11, size=(3, 4))\n",
        "\n",
        "# Extract a copy of elements greater than 5\n",
        "data_copy = data[data > 5].copy()\n",
        "\n",
        "# Display the original data and data_copy before modification\n",
        "print(\"Original data:\\n\", data)\n",
        "print(\"Data copy (elements > 5):\\n\", data_copy)\n",
        "\n",
        "# Modify an element in 'data_copy'\n",
        "data_copy[0] = 99\n",
        "\n",
        "# Display the modified data_copy and the original data to check if the change is reflected\n",
        "print(\"\\nModified data_copy:\\n\", data_copy)\n",
        "print(\"Original data after modification:\\n\", data)\n"
      ],
      "metadata": {
        "colab": {
          "base_uri": "https://localhost:8080/"
        },
        "id": "mYGdeB4JLlxp",
        "outputId": "5d9ad8a2-64de-4a6e-f714-240609bb81ba"
      },
      "execution_count": 85,
      "outputs": [
        {
          "output_type": "stream",
          "name": "stdout",
          "text": [
            "Original data:\n",
            " [[ 7  5 10  6]\n",
            " [10  6 10  7]\n",
            " [ 6  9  2  4]]\n",
            "Data copy (elements > 5):\n",
            " [ 7 10  6 10  6 10  7  6  9]\n",
            "\n",
            "Modified data_copy:\n",
            " [99 10  6 10  6 10  7  6  9]\n",
            "Original data after modification:\n",
            " [[ 7  5 10  6]\n",
            " [10  6 10  7]\n",
            " [ 6  9  2  4]]\n"
          ]
        }
      ]
    },
    {
      "cell_type": "markdown",
      "source": [
        "Que.81)81. Create two matrices A and B of identical shape containing integers and perform addition and subtraction\n",
        "operations between them."
      ],
      "metadata": {
        "id": "k-dKiJSHLsSw"
      }
    },
    {
      "cell_type": "code",
      "source": [
        "import numpy as np\n",
        "\n",
        "# Create two matrices A and B with identical shapes containing integers\n",
        "A = np.array([[1, 2, 3], [4, 5, 6], [7, 8, 9]])\n",
        "B = np.array([[9, 8, 7], [6, 5, 4], [3, 2, 1]])\n",
        "\n",
        "# Perform addition and subtraction between matrices A and B\n",
        "addition_result = A + B\n",
        "subtraction_result = A - B\n",
        "\n",
        "# Display the results\n",
        "print(\"Matrix A:\\n\", A)\n",
        "print(\"Matrix B:\\n\", B)\n",
        "print(\"\\nAddition of A and B:\\n\", addition_result)\n",
        "print(\"\\nSubtraction of A and B:\\n\", subtraction_result)\n"
      ],
      "metadata": {
        "colab": {
          "base_uri": "https://localhost:8080/"
        },
        "id": "1mv6NeWkL3v_",
        "outputId": "5e805a00-2eab-49d3-9359-19ef358941c7"
      },
      "execution_count": 86,
      "outputs": [
        {
          "output_type": "stream",
          "name": "stdout",
          "text": [
            "Matrix A:\n",
            " [[1 2 3]\n",
            " [4 5 6]\n",
            " [7 8 9]]\n",
            "Matrix B:\n",
            " [[9 8 7]\n",
            " [6 5 4]\n",
            " [3 2 1]]\n",
            "\n",
            "Addition of A and B:\n",
            " [[10 10 10]\n",
            " [10 10 10]\n",
            " [10 10 10]]\n",
            "\n",
            "Subtraction of A and B:\n",
            " [[-8 -6 -4]\n",
            " [-2  0  2]\n",
            " [ 4  6  8]]\n"
          ]
        }
      ]
    },
    {
      "cell_type": "markdown",
      "source": [
        "Que.82.  Generate two matrices `C` (3x2) and `D` (2x4) and perform matrix multiplication."
      ],
      "metadata": {
        "id": "3uz2eCATL8VU"
      }
    },
    {
      "cell_type": "code",
      "source": [
        "import numpy as np\n",
        "\n",
        "# Create matrix C of shape (3x2)\n",
        "C = np.array([[1, 2], [3, 4], [5, 6]])\n",
        "\n",
        "# Create matrix D of shape (2x4)\n",
        "D = np.array([[7, 8, 9, 10], [11, 12, 13, 14]])\n",
        "\n",
        "# Perform matrix multiplication (C @ D or np.dot(C, D))\n",
        "result = np.dot(C, D)\n",
        "\n",
        "# Display the matrices and the result\n",
        "print(\"Matrix C (3x2):\\n\", C)\n",
        "print(\"Matrix D (2x4):\\n\", D)\n",
        "print(\"\\nMatrix multiplication result (3x4):\\n\", result)\n"
      ],
      "metadata": {
        "colab": {
          "base_uri": "https://localhost:8080/"
        },
        "id": "rl-3-SUkMBfZ",
        "outputId": "2d98f01f-2e16-4e7b-a8d3-1b1f897c8054"
      },
      "execution_count": 87,
      "outputs": [
        {
          "output_type": "stream",
          "name": "stdout",
          "text": [
            "Matrix C (3x2):\n",
            " [[1 2]\n",
            " [3 4]\n",
            " [5 6]]\n",
            "Matrix D (2x4):\n",
            " [[ 7  8  9 10]\n",
            " [11 12 13 14]]\n",
            "\n",
            "Matrix multiplication result (3x4):\n",
            " [[ 29  32  35  38]\n",
            " [ 65  72  79  86]\n",
            " [101 112 123 134]]\n"
          ]
        }
      ]
    },
    {
      "cell_type": "markdown",
      "source": [
        "que.83. Create a matrix `E` and find its transpose."
      ],
      "metadata": {
        "id": "C7WNIFd4MHuI"
      }
    },
    {
      "cell_type": "code",
      "source": [
        "import numpy as np\n",
        "\n",
        "# Create matrix E\n",
        "E = np.array([[1, 2, 3], [4, 5, 6], [7, 8, 9]])\n",
        "\n",
        "# Find the transpose of matrix E\n",
        "E_transpose = E.T\n",
        "\n",
        "# Display the original matrix and its transpose\n",
        "print(\"Matrix E:\\n\", E)\n",
        "print(\"\\nTranspose of Matrix E:\\n\", E_transpose)\n"
      ],
      "metadata": {
        "colab": {
          "base_uri": "https://localhost:8080/"
        },
        "id": "4u4EhkBJMLiX",
        "outputId": "4b68a7ae-955d-46af-e77c-b0a04cf3fa10"
      },
      "execution_count": 88,
      "outputs": [
        {
          "output_type": "stream",
          "name": "stdout",
          "text": [
            "Matrix E:\n",
            " [[1 2 3]\n",
            " [4 5 6]\n",
            " [7 8 9]]\n",
            "\n",
            "Transpose of Matrix E:\n",
            " [[1 4 7]\n",
            " [2 5 8]\n",
            " [3 6 9]]\n"
          ]
        }
      ]
    },
    {
      "cell_type": "markdown",
      "source": [
        "Que.84. Generate a square matrix `F` and compute its determinant."
      ],
      "metadata": {
        "id": "Af6qDBGNMQz6"
      }
    },
    {
      "cell_type": "code",
      "source": [
        "import numpy as np\n",
        "\n",
        "# Create a square matrix F (3x3 matrix for example)\n",
        "F = np.array([[1, 2, 3], [4, 5, 6], [7, 8, 9]])\n",
        "\n",
        "# Compute the determinant of matrix F\n",
        "det_F = np.linalg.det(F)\n",
        "\n",
        "# Display the matrix and its determinant\n",
        "print(\"Matrix F:\\n\", F)\n",
        "print(\"\\nDeterminant of Matrix F:\", det_F)\n"
      ],
      "metadata": {
        "colab": {
          "base_uri": "https://localhost:8080/"
        },
        "id": "lfO3bnlAMUbB",
        "outputId": "43ab7d8c-3354-40c7-9032-31024003b7d0"
      },
      "execution_count": 89,
      "outputs": [
        {
          "output_type": "stream",
          "name": "stdout",
          "text": [
            "Matrix F:\n",
            " [[1 2 3]\n",
            " [4 5 6]\n",
            " [7 8 9]]\n",
            "\n",
            "Determinant of Matrix F: 0.0\n"
          ]
        }
      ]
    },
    {
      "cell_type": "markdown",
      "source": [
        "Que.85. Create a square matrix `G` and find its inverse."
      ],
      "metadata": {
        "id": "t0iC4lFNMYWs"
      }
    },
    {
      "cell_type": "code",
      "source": [
        "import numpy as np\n",
        "\n",
        "# Create a square matrix G (3x3 matrix for example)\n",
        "G = np.array([[4, 7, 2], [3, 5, 1], [2, 6, 8]])\n",
        "\n",
        "# Compute the inverse of matrix G\n",
        "G_inv = np.linalg.inv(G)\n",
        "\n",
        "# Display the matrix and its inverse\n",
        "print(\"Matrix G:\\n\", G)\n",
        "print(\"\\nInverse of Matrix G:\\n\", G_inv)\n"
      ],
      "metadata": {
        "colab": {
          "base_uri": "https://localhost:8080/"
        },
        "id": "Xh2HvKi-Mc7L",
        "outputId": "51bf2e45-87dd-418c-e460-6c9355f2d307"
      },
      "execution_count": 90,
      "outputs": [
        {
          "output_type": "stream",
          "name": "stdout",
          "text": [
            "Matrix G:\n",
            " [[4 7 2]\n",
            " [3 5 1]\n",
            " [2 6 8]]\n",
            "\n",
            "Inverse of Matrix G:\n",
            " [[-17.   22.    1.5]\n",
            " [ 11.  -14.   -1. ]\n",
            " [ -4.    5.    0.5]]\n"
          ]
        }
      ]
    }
  ]
}