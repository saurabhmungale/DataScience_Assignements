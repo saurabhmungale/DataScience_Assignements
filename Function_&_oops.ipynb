{
  "nbformat": 4,
  "nbformat_minor": 0,
  "metadata": {
    "colab": {
      "provenance": [],
      "authorship_tag": "ABX9TyN8bfbrxUjW0I10HJ9S6WGg",
      "include_colab_link": true
    },
    "kernelspec": {
      "name": "python3",
      "display_name": "Python 3"
    },
    "language_info": {
      "name": "python"
    }
  },
  "cells": [
    {
      "cell_type": "markdown",
      "metadata": {
        "id": "view-in-github",
        "colab_type": "text"
      },
      "source": [
        "<a href=\"https://colab.research.google.com/github/saurabhmungale/DataScience_Assignements/blob/main/Function_%26_oops.ipynb\" target=\"_parent\"><img src=\"https://colab.research.google.com/assets/colab-badge.svg\" alt=\"Open In Colab\"/></a>"
      ]
    },
    {
      "cell_type": "markdown",
      "source": [
        "Que.1)Explain the importance of Functions0\n",
        "Solution- Functions are essential in programming because they allow us to organize, reuse, and simplify code. Here’s why functions are crucial:\n",
        "\n",
        "1. **Code Reusability**: Functions let us reuse code without rewriting it. Once a function is defined, it can be called multiple times in a program or even in different programs, making it efficient and reducing redundancy.\n",
        "\n",
        "2. **Modularity**: Functions help break a large problem into smaller, manageable parts. Each function handles a specific task, which makes the code easier to understand, maintain, and troubleshoot.\n",
        "\n",
        "3. **Readability and Organization**: Functions make code more readable by clearly showing what each part of the code does. Good function names can provide insight into the functionality, making it easier to read and understand the overall flow.\n",
        "\n",
        "4. **Abstraction**: With functions, we can hide complex code and expose only what’s necessary. This abstraction allows us to use functions without needing to understand their inner workings fully.\n",
        "\n",
        "5. **Debugging and Testing**: Functions make debugging easier since we can isolate issues to specific parts of code. Testing functions individually (unit testing) helps ensure each part of the code works as expected before integrating it into the main program.\n",
        "\n",
        "6. **Improves Collaboration**: In collaborative projects, functions allow multiple people to work on different parts of the same project. Each person can focus on specific functions, making teamwork more organized and efficient.\n",
        "\n",
        "Functions are foundational to all programming languages and are essential for writing clean, efficient, and organized code."
      ],
      "metadata": {
        "id": "B7OahAteoaQ-"
      }
    },
    {
      "cell_type": "markdown",
      "source": [
        "Que.2) Write a basic function to greet students0"
      ],
      "metadata": {
        "id": "pwzMemsRo3mn"
      }
    },
    {
      "cell_type": "code",
      "source": [
        "def greet_student(name):\n",
        "    \"\"\"Function to greet a student with their name.\"\"\"\n",
        "    print(f\"Hello, {name}! Welcome to the class.\")\n",
        "\n",
        "# Example usage\n",
        "greet_student(\"Alex\")\n",
        "\n"
      ],
      "metadata": {
        "colab": {
          "base_uri": "https://localhost:8080/"
        },
        "id": "p-7qJeb5pPP2",
        "outputId": "7a82d2cd-5ca6-4a13-bbeb-63a1fd583b6d"
      },
      "execution_count": null,
      "outputs": [
        {
          "output_type": "stream",
          "name": "stdout",
          "text": [
            "Hello, Alex! Welcome to the class.\n"
          ]
        }
      ]
    },
    {
      "cell_type": "markdown",
      "source": [
        "Que.3)What is the difference between print and return statements\n",
        "Solution- print Statement\n",
        "Purpose: print is used to display output to the console.\n",
        "Usage: Commonly used for debugging, showing progress in a script, or giving users information.\n",
        "Scope: The value displayed by print does not affect the program's internal state or provide a way to use that value further in the code.\n",
        "\n",
        "Example\n",
        "def greet(name):\n",
        "    print(f\"Hello, {name}!\")\n",
        "\n",
        "greet(\"Alice\")  # Output: Hello, Alice!\n",
        "\n",
        "\n",
        "return Statement\n",
        "Purpose: return is used to exit a function and provide a result that can be stored or used elsewhere in the program.\n",
        "Usage: It allows functions to send back data to the caller, which can then be saved in variables or passed to other functions.\n",
        "Scope: The value returned by return can be used in expressions and other parts of the program, providing flexibility.\n",
        "\n",
        "Example-\n",
        "def add(a, b):\n",
        "    return a + b\n",
        "\n",
        "result = add(3, 5)  # result now holds the value 8\n",
        "print(result)       # Output: 8\n",
        "\n",
        "\n"
      ],
      "metadata": {
        "id": "0Yk0qxVQpVkk"
      }
    },
    {
      "cell_type": "markdown",
      "source": [
        "Que.4)What are *args and **kwargs\n",
        "\n",
        "Solution-*args (Non-Keyword Arguments)\n",
        "*args allows you to pass a variable number of non-keyword (positional) arguments to a function.\n",
        "When you prefix a parameter with an asterisk *, it collects additional positional arguments passed to the function as a tuple.\n",
        "Use Case: Use *args when you don't know beforehand how many arguments will be passed to the function.\n",
        "\n",
        "Example-\n",
        "\n",
        "def multiply(*args):\n",
        "    result = 1\n",
        "    for num in args:\n",
        "        result *= num\n",
        "    return result\n",
        "\n",
        "print(multiply(2, 3))         # Output: 6\n",
        "print(multiply(2, 3, 4, 5))   # Output: 120\n",
        "\n",
        "def multiply(*args):\n",
        "    result = 1\n",
        "    for num in args:\n",
        "        result *= num\n",
        "    return result\n",
        "\n",
        "print(multiply(2, 3))         # Output: 6\n",
        "print(multiply(2, 3, 4, 5))   # Output: 120\n",
        " Example-\n",
        "\n",
        " def print_student_info(**kwargs):\n",
        "    for key, value in kwargs.items():\n",
        "        print(f\"{key}: {value}\")\n",
        "\n",
        "print_student_info(name=\"Alice\", age=20, grade=\"A\")\n",
        "# Output:\n",
        "# name: Alice\n",
        "# age: 20\n",
        "# grade: A\n"
      ],
      "metadata": {
        "id": "EPAHhgIOqC73"
      }
    },
    {
      "cell_type": "markdown",
      "source": [
        "Que.5)Explain the iterator function0\n",
        "\n",
        "Solution - An iterator in Python is an object that allows you to traverse through all the elements in a collection (like a list, tuple, or set) one by one. Iterators use a protocol with two primary methods: `__iter__()` and `__next__()`.\n",
        "\n",
        "### Key Concepts of an Iterator\n",
        "1. **Iterable vs. Iterator**:\n",
        "   - An **iterable** is an object that can return an iterator. Examples of iterables include lists, tuples, dictionaries, and strings.\n",
        "   - An **iterator** is an object that represents a stream of data and lets you access elements one at a time. It keeps track of the current position as you iterate.\n",
        "\n",
        "2. **Creating an Iterator**:\n",
        "   - An object must implement two methods to be an iterator:\n",
        "     - `__iter__()`: This method returns the iterator object itself.\n",
        "     - `__next__()`: This method returns the next item in the sequence and raises a `StopIteration` exception when there are no more items to return.\n",
        "\n",
        "3. **Using Iterators**:\n",
        "   - The `iter()` function can turn an iterable into an iterator.\n",
        "   - The `next()` function can be used to get the next item from an iterator.\n",
        "\n",
        "### Example of an Iterator\n",
        "Here’s an example where we create an iterator that returns numbers up to a specified limit.\n",
        "\n",
        "```python\n",
        "class MyNumbers:\n",
        "    def __init__(self, limit):\n",
        "        self.limit = limit\n",
        "        self.current = 0\n",
        "\n",
        "    def __iter__(self):\n",
        "        return self\n",
        "\n",
        "    def __next__(self):\n",
        "        if self.current < self.limit:\n",
        "            num = self.current\n",
        "            self.current += 1\n",
        "            return num\n",
        "        else:\n",
        "            raise StopIteration\n",
        "\n",
        "\n",
        "\n",
        "\n",
        "### Advantages of Iterators\n",
        "- **Memory Efficiency**: Iterators are useful for working with large datasets because they generate items one at a time, conserving memory.\n",
        "- **Lazy Evaluation**: An iterator only calculates the next item when it’s needed, which is helpful for performance in large or infinite data streams.\n",
        "\n",
        "Iterators are widely used in Python, especially in loops and generator expressions, to simplify handling large sequences or streams of data."
      ],
      "metadata": {
        "id": "IU3idYUbqpCn"
      }
    },
    {
      "cell_type": "markdown",
      "source": [
        "Que.6) Write a code that generates the squares of numbers from 1 to n using a generator0\n",
        "Solution - Here’s a Python code that uses a generator to yield the squares of numbers from 1 to \\( n \\):\n",
        "\n",
        "```python\n",
        "def square_generator(n):\n",
        "    for i in range(1, n + 1):\n",
        "        yield i ** 2\n",
        "\n",
        "# Example usage\n",
        "n = 5\n",
        "for square in square_generator(n):\n",
        "    print(square)\n",
        "```\n",
        "\n",
        "### Explanation\n",
        "- The `square_generator` function is a generator that yields the square of each number from 1 up to \\( n \\).\n",
        "- `yield` is used instead of `return`, which makes this function a generator. Each time the generator is called, it returns the next square in the sequence, allowing memory-efficient iteration.\n",
        "- When `square_generator(n)` is used in a `for` loop, it iterates through the squares one by one without storing them all at once.\n",
        "\n",
        "### Output (for \\( n = 5 \\)):\n",
        "```\n",
        "1\n",
        "4\n",
        "9\n",
        "16\n",
        "25\n",
        "```\n",
        "\n",
        "This code is efficient for handling larger values of \\( n \\) because it generates each square on-demand."
      ],
      "metadata": {
        "id": "Eni1r3rjrCsg"
      }
    },
    {
      "cell_type": "markdown",
      "source": [
        "Que.7)Write a code that generates palindromic numbers up to n using a generator0\n",
        "Solution-\n",
        "\n",
        "Here’s a Python code that uses a generator to yield the squares of numbers from 1 to \\( n \\):\n",
        "\n",
        "```python\n",
        "def square_generator(n):\n",
        "    for i in range(1, n + 1):\n",
        "        yield i ** 2\n",
        "\n",
        "# Example usage\n",
        "n = 5\n",
        "for square in square_generator(n):\n",
        "    print(square)\n",
        "\n",
        "### Output (\n",
        "```\n",
        "1\n",
        "4\n",
        "9\n",
        "16\n",
        "25\n",
        "```\n",
        "\n",
        "This code is efficient for handling larger values of \\( n \\) because it generates each square on-demand."
      ],
      "metadata": {
        "id": "mljct0udrNLl"
      }
    },
    {
      "cell_type": "markdown",
      "source": [
        "Que.8) Write a code that generates even numbers from 2 to n using a generator0\n",
        "\n"
      ],
      "metadata": {
        "id": "LbzkYX74sH17"
      }
    },
    {
      "cell_type": "code",
      "source": [
        "def even_generator(n):\n",
        "    for i in range(2, n + 1, 2):\n",
        "        yield i\n",
        "\n",
        "# Example usage\n",
        "n = 10\n",
        "for even in even_generator(n):\n",
        "    print(even)\n"
      ],
      "metadata": {
        "colab": {
          "base_uri": "https://localhost:8080/"
        },
        "id": "wBqxXn3ysYFR",
        "outputId": "3b9e0bf1-43b8-4627-8081-8047fe362958"
      },
      "execution_count": null,
      "outputs": [
        {
          "output_type": "stream",
          "name": "stdout",
          "text": [
            "2\n",
            "4\n",
            "6\n",
            "8\n",
            "10\n"
          ]
        }
      ]
    },
    {
      "cell_type": "markdown",
      "source": [
        "Que.9)#0 Write a code that generates powers of two up to n using a generator0"
      ],
      "metadata": {
        "id": "UUEH_rQ2sczT"
      }
    },
    {
      "cell_type": "code",
      "source": [
        "def power_of_two_generator(n):\n",
        "    power = 0\n",
        "    while 2 ** power <= n:\n",
        "        yield 2 ** power\n",
        "        power += 1\n",
        "\n",
        "# Example usage\n",
        "n = 32\n",
        "for power in power_of_two_generator(n):\n",
        "    print(power)\n"
      ],
      "metadata": {
        "colab": {
          "base_uri": "https://localhost:8080/"
        },
        "id": "KtOr2lbvsjW8",
        "outputId": "fb74a1be-fc82-4259-daef-4368412ebeb5"
      },
      "execution_count": null,
      "outputs": [
        {
          "output_type": "stream",
          "name": "stdout",
          "text": [
            "1\n",
            "2\n",
            "4\n",
            "8\n",
            "16\n",
            "32\n"
          ]
        }
      ]
    },
    {
      "cell_type": "markdown",
      "source": [
        "QUe.10) Write a code that generates prime numbers up to n using a generator"
      ],
      "metadata": {
        "id": "4FQ5aHqnsncn"
      }
    },
    {
      "cell_type": "code",
      "source": [
        "def prime_generator(n):\n",
        "    for num in range(2, n + 1):\n",
        "        is_prime = True\n",
        "        for i in range(2, int(num ** 0.5) + 1):\n",
        "            if num % i == 0:\n",
        "                is_prime = False\n",
        "                break\n",
        "        if is_prime:\n",
        "            yield num\n",
        "\n",
        "# Example usage\n",
        "n = 20\n",
        "for prime in prime_generator(n):\n",
        "    print(prime)\n"
      ],
      "metadata": {
        "colab": {
          "base_uri": "https://localhost:8080/"
        },
        "id": "SOiE5MZus6qQ",
        "outputId": "195f6c3a-d41b-4f4b-e2c0-e6e8ba96a8ed"
      },
      "execution_count": null,
      "outputs": [
        {
          "output_type": "stream",
          "name": "stdout",
          "text": [
            "2\n",
            "3\n",
            "5\n",
            "7\n",
            "11\n",
            "13\n",
            "17\n",
            "19\n"
          ]
        }
      ]
    },
    {
      "cell_type": "markdown",
      "source": [
        "Que.11)Write a code that uses a lambda function to calculate the sum of two numbers0"
      ],
      "metadata": {
        "id": "6_d-GYEKtBuG"
      }
    },
    {
      "cell_type": "code",
      "source": [
        "# Lambda function to calculate the sum of two numbers\n",
        "sum_two_numbers = lambda x, y: x + y\n",
        "\n",
        "# Example usage\n",
        "result = sum_two_numbers(5, 3)\n",
        "print(result)\n"
      ],
      "metadata": {
        "colab": {
          "base_uri": "https://localhost:8080/"
        },
        "id": "SkkWiDQ5tJjb",
        "outputId": "e081d9c7-745e-422b-d309-2d9d90d1cb66"
      },
      "execution_count": null,
      "outputs": [
        {
          "output_type": "stream",
          "name": "stdout",
          "text": [
            "8\n"
          ]
        }
      ]
    },
    {
      "cell_type": "markdown",
      "source": [
        "Que.12)Write a code that uses a lambda function to calculate the square of a given number0"
      ],
      "metadata": {
        "id": "v_4xkUcJtTHS"
      }
    },
    {
      "cell_type": "code",
      "source": [
        "# Lambda function to calculate the square of a number\n",
        "square = lambda x: x ** 2\n",
        "\n",
        "# Example usage\n",
        "result = square(4)\n",
        "print(result)\n"
      ],
      "metadata": {
        "colab": {
          "base_uri": "https://localhost:8080/"
        },
        "id": "O6E8beIBtXXa",
        "outputId": "2ab8e2f9-2215-441a-b685-c4b6d9fc718d"
      },
      "execution_count": null,
      "outputs": [
        {
          "output_type": "stream",
          "name": "stdout",
          "text": [
            "16\n"
          ]
        }
      ]
    },
    {
      "cell_type": "markdown",
      "source": [
        "QQUe.13) Write a code that uses a lambda function to check whether a given number is even or odd"
      ],
      "metadata": {
        "id": "mmDMHRZvtbpf"
      }
    },
    {
      "cell_type": "code",
      "source": [
        "# Lambda function to check if a number is even or odd\n",
        "even_or_odd = lambda x: \"Even\" if x % 2 == 0 else \"Odd\"\n",
        "\n",
        "# Example usage\n",
        "result = even_or_odd(5)\n",
        "print(result)\n",
        "\n",
        "result = even_or_odd(8)\n",
        "print(result)\n"
      ],
      "metadata": {
        "colab": {
          "base_uri": "https://localhost:8080/"
        },
        "id": "k2uuF-WfvamP",
        "outputId": "610c7ff0-17a9-48f6-e5c5-ca3c05d93c32"
      },
      "execution_count": null,
      "outputs": [
        {
          "output_type": "stream",
          "name": "stdout",
          "text": [
            "Odd\n",
            "Even\n"
          ]
        }
      ]
    },
    {
      "cell_type": "markdown",
      "source": [
        "Que.15)Write a code that uses a lambda function to concatenate two strings0"
      ],
      "metadata": {
        "id": "dGcotGjsvfgw"
      }
    },
    {
      "cell_type": "code",
      "source": [
        "# Lambda function to concatenate two strings\n",
        "concatenate = lambda str1, str2: str1 + str2\n",
        "\n",
        "# Example usage\n",
        "result = concatenate(\"Hello, \", \"world!\")\n",
        "print(result)\n"
      ],
      "metadata": {
        "colab": {
          "base_uri": "https://localhost:8080/"
        },
        "id": "uI23lIDLviHL",
        "outputId": "0a96b43b-3fb0-45ec-d8b4-0ec7571725d7"
      },
      "execution_count": null,
      "outputs": [
        {
          "output_type": "stream",
          "name": "stdout",
          "text": [
            "Hello, world!\n"
          ]
        }
      ]
    },
    {
      "cell_type": "markdown",
      "source": [
        "Que.16) Write a code that uses a lambda function to find the maximum of three given numbers0"
      ],
      "metadata": {
        "id": "1r5uERZuv7kZ"
      }
    },
    {
      "cell_type": "code",
      "source": [
        "# Lambda function to find the maximum of three numbers\n",
        "max_of_three = lambda x, y, z: max(x, y, z)\n",
        "\n",
        "# Example usage\n",
        "result = max_of_three(10, 20, 15)\n",
        "print(result)\n"
      ],
      "metadata": {
        "colab": {
          "base_uri": "https://localhost:8080/"
        },
        "id": "U0MEz3Rhww11",
        "outputId": "1894612e-f80f-49eb-9f48-5ee87439deb4"
      },
      "execution_count": null,
      "outputs": [
        {
          "output_type": "stream",
          "name": "stdout",
          "text": [
            "20\n"
          ]
        }
      ]
    },
    {
      "cell_type": "markdown",
      "source": [
        "QUe,17) Write a code that generates the squares of even numbers from a given list0"
      ],
      "metadata": {
        "id": "raDkOIEpw4cA"
      }
    },
    {
      "cell_type": "code",
      "source": [
        "# Given list of numbers\n",
        "numbers = [1, 2, 3, 4, 5, 6, 7, 8, 9, 10]\n",
        "\n",
        "# Use filter to get even numbers, then use map to square them\n",
        "squares_of_even_numbers = list(map(lambda x: x ** 2, filter(lambda x: x % 2 == 0, numbers)))\n",
        "\n",
        "# Example usage\n",
        "print(squares_of_even_numbers)\n"
      ],
      "metadata": {
        "colab": {
          "base_uri": "https://localhost:8080/"
        },
        "id": "8vIkKgTmxsVG",
        "outputId": "0d759582-32cd-4d5f-b12d-cd29a3d0e847"
      },
      "execution_count": null,
      "outputs": [
        {
          "output_type": "stream",
          "name": "stdout",
          "text": [
            "[4, 16, 36, 64, 100]\n"
          ]
        }
      ]
    },
    {
      "cell_type": "markdown",
      "source": [
        "Que.18)Write a code that calculates the product of positive numbers from a given list0"
      ],
      "metadata": {
        "id": "WInFdoKsxvI7"
      }
    },
    {
      "cell_type": "code",
      "source": [
        "from functools import reduce\n",
        "\n",
        "# Given list of numbers\n",
        "numbers = [1, -2, 3, 4, -5, 6]\n",
        "\n",
        "# Use filter to get positive numbers, then use reduce to calculate the product\n",
        "product_of_positive_numbers = reduce(lambda x, y: x * y, filter(lambda x: x > 0, numbers))\n",
        "\n",
        "# Example usage\n",
        "print(product_of_positive_numbers)\n"
      ],
      "metadata": {
        "colab": {
          "base_uri": "https://localhost:8080/"
        },
        "id": "0TIA7nMyx89o",
        "outputId": "0195453a-2135-41ba-8592-4a5024d01503"
      },
      "execution_count": null,
      "outputs": [
        {
          "output_type": "stream",
          "name": "stdout",
          "text": [
            "72\n"
          ]
        }
      ]
    },
    {
      "cell_type": "markdown",
      "source": [
        "Que.19)Write a code that doubles the values of odd numbers from a given list0"
      ],
      "metadata": {
        "id": "iwJbnlNXyAq8"
      }
    },
    {
      "cell_type": "code",
      "source": [
        "# Given list of numbers\n",
        "numbers = [1, 2, 3, 4, 5, 6, 7, 8, 9, 10]\n",
        "\n",
        "# Use map to double the odd numbers\n",
        "doubled_odds = list(map(lambda x: x * 2 if x % 2 != 0 else x, numbers))\n",
        "\n",
        "# Example usage\n",
        "print(doubled_odds)\n"
      ],
      "metadata": {
        "colab": {
          "base_uri": "https://localhost:8080/"
        },
        "id": "xfLjtNpkyFqL",
        "outputId": "407980d8-ac07-448a-d602-d7cfa4993dca"
      },
      "execution_count": null,
      "outputs": [
        {
          "output_type": "stream",
          "name": "stdout",
          "text": [
            "[2, 2, 6, 4, 10, 6, 14, 8, 18, 10]\n"
          ]
        }
      ]
    },
    {
      "cell_type": "markdown",
      "source": [
        "Que.20)Write a code that calculates the sum of cubes of numbers from a given list"
      ],
      "metadata": {
        "id": "1hKPVOSByI8m"
      }
    },
    {
      "cell_type": "code",
      "source": [
        "def sum_of_cubes(numbers):\n",
        "    return sum(x**3 for x in numbers)\n",
        "\n",
        "# Example usage\n",
        "numbers = [1, 2, 3, 4]\n",
        "result = sum_of_cubes(numbers)\n",
        "print(\"Sum of cubes:\", result)\n"
      ],
      "metadata": {
        "colab": {
          "base_uri": "https://localhost:8080/"
        },
        "id": "0QaME89X-9AD",
        "outputId": "a82b0f4b-6a00-4c6d-ce0c-a1877c6635b0"
      },
      "execution_count": null,
      "outputs": [
        {
          "output_type": "stream",
          "name": "stdout",
          "text": [
            "Sum of cubes: 100\n"
          ]
        }
      ]
    },
    {
      "cell_type": "markdown",
      "source": [
        "QUe.21) Write a code that filters out prime numbers from a given list0"
      ],
      "metadata": {
        "id": "zPr0UbJU_Gyy"
      }
    },
    {
      "cell_type": "code",
      "source": [
        "def is_prime(n):\n",
        "    if n <= 1:\n",
        "        return False\n",
        "    for i in range(2, int(n**0.5) + 1):\n",
        "        if n % i == 0:\n",
        "            return False\n",
        "    return True\n",
        "\n",
        "def filter_primes(numbers):\n",
        "    return [x for x in numbers if is_prime(x)]\n",
        "\n",
        "# Example usage\n",
        "numbers = [2, 3, 4, 5, 6, 7, 8, 9, 10]\n",
        "prime_numbers = filter_primes(numbers)\n",
        "print(\"Prime numbers:\", prime_numbers)\n"
      ],
      "metadata": {
        "colab": {
          "base_uri": "https://localhost:8080/"
        },
        "id": "fCF9Zml3_QaY",
        "outputId": "38712e6a-5391-423b-fd32-c3f0bc72f92c"
      },
      "execution_count": null,
      "outputs": [
        {
          "output_type": "stream",
          "name": "stdout",
          "text": [
            "Prime numbers: [2, 3, 5, 7]\n"
          ]
        }
      ]
    },
    {
      "cell_type": "markdown",
      "source": [
        "Que.22)Write a code that filters out prime numbers from a given list0"
      ],
      "metadata": {
        "id": "ubgodNte_cQt"
      }
    },
    {
      "cell_type": "code",
      "source": [
        "def is_prime(n):\n",
        "    if n <= 1:\n",
        "        return False\n",
        "    for i in range(2, int(n**0.5) + 1):\n",
        "        if n % i == 0:\n",
        "            return False\n",
        "    return True\n",
        "\n",
        "def filter_primes(numbers):\n",
        "    return [x for x in numbers if is_prime(x)]\n",
        "\n",
        "# Example usage\n",
        "numbers = [2, 3, 4, 5, 6, 7, 8, 9, 10]\n",
        "prime_numbers = filter_primes(numbers)\n",
        "print(\"Prime numbers:\", prime_numbers)\n"
      ],
      "metadata": {
        "id": "nsOjBzLD_e3i",
        "outputId": "2a3afbf7-5dca-46dc-af3c-e5dca2f3adb2",
        "colab": {
          "base_uri": "https://localhost:8080/"
        }
      },
      "execution_count": null,
      "outputs": [
        {
          "output_type": "stream",
          "name": "stdout",
          "text": [
            "Prime numbers: [2, 3, 5, 7]\n"
          ]
        }
      ]
    },
    {
      "cell_type": "markdown",
      "source": [
        "Que.23)Write a code that uses a lambda function to calculate the square of a given number0"
      ],
      "metadata": {
        "id": "HyaeIMKQHp4e"
      }
    },
    {
      "cell_type": "code",
      "source": [
        "square = lambda x: x ** 2\n",
        "\n",
        "# Example usage\n",
        "number = 5\n",
        "result = square(number)\n",
        "print(f\"The square of {number} is {result}\")\n"
      ],
      "metadata": {
        "colab": {
          "base_uri": "https://localhost:8080/"
        },
        "id": "dnjySRUeH7sk",
        "outputId": "970a9fcd-d74d-4842-e3a7-34c6fc199c98"
      },
      "execution_count": null,
      "outputs": [
        {
          "output_type": "stream",
          "name": "stdout",
          "text": [
            "The square of 5 is 25\n"
          ]
        }
      ]
    },
    {
      "cell_type": "markdown",
      "source": [
        "Que.24)Write a code that uses a lambda function to check whether a given number is even or odd0"
      ],
      "metadata": {
        "id": "-VN14yu9H_1G"
      }
    },
    {
      "cell_type": "code",
      "source": [
        "is_even = lambda x: \"Even\" if x % 2 == 0 else \"Odd\"\n",
        "\n",
        "# Example usage\n",
        "number = 7\n",
        "result = is_even(number)\n",
        "print(f\"The number {number} is {result}.\")\n"
      ],
      "metadata": {
        "colab": {
          "base_uri": "https://localhost:8080/"
        },
        "id": "WkO-mIjgIF0C",
        "outputId": "b6ad3a7f-2953-4107-a700-e9cb5d646cac"
      },
      "execution_count": null,
      "outputs": [
        {
          "output_type": "stream",
          "name": "stdout",
          "text": [
            "The number 7 is Odd.\n"
          ]
        }
      ]
    },
    {
      "cell_type": "markdown",
      "source": [
        "Que.25)Write a code that uses a lambda function to concatenate two strings0"
      ],
      "metadata": {
        "id": "sggPk8NdIJfq"
      }
    },
    {
      "cell_type": "code",
      "source": [
        "concatenate = lambda str1, str2: str1 + str2\n",
        "\n",
        "# Example usage\n",
        "string1 = \"Hello, \"\n",
        "string2 = \"world!\"\n",
        "result = concatenate(string1, string2)\n",
        "print(result)\n"
      ],
      "metadata": {
        "colab": {
          "base_uri": "https://localhost:8080/"
        },
        "id": "FE1-YhtHIO65",
        "outputId": "a0bc8667-c565-49cd-d538-14bed1d8c6da"
      },
      "execution_count": null,
      "outputs": [
        {
          "output_type": "stream",
          "name": "stdout",
          "text": [
            "Hello, world!\n"
          ]
        }
      ]
    },
    {
      "cell_type": "markdown",
      "source": [
        "Que.26)Write a code that uses a lambda function to find the maximum of three given numbers"
      ],
      "metadata": {
        "id": "6Yp50U0HIT6j"
      }
    },
    {
      "cell_type": "code",
      "source": [
        "max_of_three = lambda x, y, z: max(x, y, z)\n",
        "\n",
        "# Example usage\n",
        "num1 = 15\n",
        "num2 = 25\n",
        "num3 = 10\n",
        "result = max_of_three(num1, num2, num3)\n",
        "print(f\"The maximum of {num1}, {num2}, and {num3} is {result}.\")\n",
        "\n"
      ],
      "metadata": {
        "colab": {
          "base_uri": "https://localhost:8080/"
        },
        "id": "RjI5_7t6Iamx",
        "outputId": "e3bcd4bc-584e-481e-9eac-029df4eadf5c"
      },
      "execution_count": null,
      "outputs": [
        {
          "output_type": "stream",
          "name": "stdout",
          "text": [
            "The maximum of 15, 25, and 10 is 25.\n"
          ]
        }
      ]
    },
    {
      "cell_type": "markdown",
      "source": [
        "Que.27)What is encapsulation in OOP?\n",
        "Solution- Encapsulation is a fundamental concept in Object-Oriented Programming (OOP) that refers to bundling data (attributes) and methods (functions or behaviors) that operate on the data into a single unit, typically called an object. It also restricts direct access to some components of an object to protect the integrity of that data and enforce controlled access through well-defined interfaces.\n",
        "\n",
        "Key Points of Encapsulation:\n",
        "Data Hiding: Encapsulation helps to hide the internal state of an object from the outside world. This means that the internal variables of a class are not directly accessible; they can only be accessed or modified through methods that are provided by the class. This is often done by marking data attributes as private or protected.\n",
        "\n",
        "Controlled Access: By providing public methods to access or modify the private data, encapsulation allows controlled access. For instance, getters and setters are commonly used to read and update the value of a private variable.\n",
        "\n",
        "Improved Security and Data Integrity: Encapsulation prevents external code from tampering with essential internal states directly. This helps protect the object’s integrity and reduces potential bugs.\n",
        "\n",
        "Modularity: It organizes code into discrete objects, which improves modularity and makes the code more maintainable and flexible for future modifications."
      ],
      "metadata": {
        "id": "-E3Zo4DFIel0"
      }
    },
    {
      "cell_type": "code",
      "source": [
        "class BankAccount:\n",
        "    def __init__(self, balance=0):\n",
        "        self.__balance = balance  # private attribute\n",
        "\n",
        "    def deposit(self, amount):\n",
        "        if amount > 0:\n",
        "            self.__balance += amount\n",
        "            print(f\"Deposited: {amount}\")\n",
        "        else:\n",
        "            print(\"Invalid deposit amount\")\n",
        "\n",
        "    def withdraw(self, amount):\n",
        "        if 0 < amount <= self.__balance:\n",
        "            self.__balance -= amount\n",
        "            print(f\"Withdrew: {amount}\")\n",
        "        else:\n",
        "            print(\"Insufficient funds or invalid amount\")\n",
        "\n",
        "    def get_balance(self):\n",
        "        return self.__balance  # controlled access to private attribute\n",
        "\n",
        "# Example usage\n",
        "account = BankAccount()\n",
        "account.deposit(100)\n",
        "print(f\"Balance: {account.get_balance()}\")  # Accessing balance through a method\n",
        "account.withdraw(50)\n",
        "print(f\"Balance: {account.get_balance()}\")\n"
      ],
      "metadata": {
        "colab": {
          "base_uri": "https://localhost:8080/"
        },
        "id": "ijfLssqpI_q7",
        "outputId": "d372f181-588f-4040-a959-d4e62886363a"
      },
      "execution_count": null,
      "outputs": [
        {
          "output_type": "stream",
          "name": "stdout",
          "text": [
            "Deposited: 100\n",
            "Balance: 100\n",
            "Withdrew: 50\n",
            "Balance: 50\n"
          ]
        }
      ]
    },
    {
      "cell_type": "markdown",
      "source": [
        "Que.28)Explain the use of access modifiers in Python classes.\n",
        "Solution - In Python, access modifiers are used to define the visibility and accessibility of class attributes and methods. They help control how data and methods can be accessed or modified, thereby supporting encapsulation and data hiding.\n",
        "\n",
        "Python has three types of access modifiers: **public**, **protected**, and **private**. Although Python doesn’t enforce strict access controls like some other languages (e.g., Java or C++), it uses naming conventions to signify the intended accessibility of variables and methods.\n",
        "\n",
        "### 1. Public Access Modifier\n",
        "- **Syntax**: Attributes or methods with no underscores (`_`) before their names.\n",
        "- **Accessibility**: Public attributes and methods are accessible from any part of the program, both within the class and from outside.\n",
        "- **Usage**: Commonly used for methods or attributes that are intended to be part of the class’s public interface.\n",
        "\n",
        "```python\n",
        "class MyClass:\n",
        "    def __init__(self, name):\n",
        "        self.name = name  # Public attribute\n",
        "\n",
        "    def public_method(self):\n",
        "        print(\"This is a public method\")\n",
        "\n",
        "# Example usage\n",
        "obj = MyClass(\"Alice\")\n",
        "print(obj.name)         # Accessible\n",
        "obj.public_method()     # Accessible\n",
        "```\n",
        "\n",
        "### 2. Protected Access Modifier\n",
        "- **Syntax**: Attributes or methods prefixed with a single underscore (`_`), e.g., `_attribute`.\n",
        "- **Accessibility**: Intended to be accessed only within the class and by subclasses. However, this is just a convention in Python (not enforced), so it can still be accessed from outside the class.\n",
        "- **Usage**: Commonly used for attributes or methods that should not be accessed directly by external code but may need to be accessed by subclasses.\n",
        "\n",
        "```python\n",
        "class MyClass:\n",
        "    def __init__(self, name, age):\n",
        "        self.name = name\n",
        "        self._age = age  # Protected attribute\n",
        "\n",
        "    def _protected_method(self):\n",
        "        print(\"This is a protected method\")\n",
        "\n",
        "# Example usage\n",
        "obj = MyClass(\"Alice\", 30)\n",
        "print(obj._age)               # Not recommended but accessible\n",
        "obj._protected_method()       # Not recommended but accessible\n",
        "```\n",
        "\n",
        "### 3. Private Access Modifier\n",
        "- **Syntax**: Attributes or methods prefixed with a double underscore (`__`), e.g., `__attribute`.\n",
        "- **Accessibility**: Private attributes and methods are only accessible within the class itself. Python performs name-mangling by prefixing the class name to private variables, which makes it difficult (but not impossible) to access them from outside.\n",
        "- **Usage**: Used for attributes and methods that are strictly internal to the class and should not be accessed or modified from outside.\n",
        "\n",
        "```python\n",
        "class MyClass:\n",
        "    def __init__(self, name, age, salary):\n",
        "        self.name = name\n",
        "        self._age = age\n",
        "        self.__salary = salary  # Private attribute\n",
        "\n",
        "    def __private_method(self):\n",
        "        print(\"This is a private method\")\n",
        "\n",
        "    def public_method(self):\n",
        "        self.__private_method()  # Can be called within the class\n",
        "\n",
        "# Example usage\n",
        "obj = MyClass(\"Alice\", 30, 50000)\n",
        "# print(obj.__salary)          # Not accessible (will raise AttributeError)\n",
        "# obj.__private_method()       # Not accessible (will raise AttributeError)\n",
        "\n",
        "# Accessing private attribute using name mangling (not recommended)\n",
        "print(obj._MyClass__salary)    # Accessible due to name mangling\n",
        "```\n",
        "\n",
        "### Summary Table\n",
        "| Modifier   | Syntax         | Accessibility                                                                 |\n",
        "|------------|----------------|-------------------------------------------------------------------------------|\n",
        "| **Public** | `attribute`    | Accessible from any part of the program                                      |\n",
        "| **Protected** | `_attribute`  | Accessible within the class and subclasses, but conventionally protected   |\n",
        "| **Private** | `__attribute` | Accessible only within the class due to name mangling                        |\n",
        "\n",
        "### Important Note\n",
        "While Python doesn’t enforce strict access restrictions, using these access modifiers responsibly is good practice for readability, maintainability, and encapsulation."
      ],
      "metadata": {
        "id": "SmKygoKzIorc"
      }
    },
    {
      "cell_type": "markdown",
      "source": [
        "Que.29)What is inheritance in OOP%\n",
        "Solution - Inheritance is a fundamental concept in Object-Oriented Programming (OOP) that allows a class (called the *child class* or *subclass*) to inherit attributes and methods from another class (called the *parent class* or *superclass*). It is a way to create a new class that is a refined version of an existing class, enabling code reusability and creating a hierarchical relationship between classes.\n",
        "\n",
        "### Key Points of Inheritance:\n",
        "1. **Code Reusability**: Inheritance allows subclasses to use code written in the parent class, reducing code duplication and increasing maintainability.\n",
        "\n",
        "2. **Hierarchical Structure**: It establishes a hierarchy where subclasses share common characteristics defined in the parent class and can also have their own unique features.\n",
        "\n",
        "3. **Overriding Methods**: Subclasses can override methods inherited from the parent class to change or extend their behavior.\n",
        "\n",
        "4. **Polymorphism**: Inheritance supports polymorphism, which allows a subclass to be treated as an instance of its parent class.\n",
        "\n",
        "### Types of Inheritance\n",
        "- **Single Inheritance**: A subclass inherits from only one parent class.\n",
        "- **Multiple Inheritance**: A subclass inherits from more than one parent class (supported in Python).\n",
        "- **Multilevel Inheritance**: A chain of inheritance where a class is derived from a class that is also a derived class.\n",
        "- **Hierarchical Inheritance**: Multiple subclasses inherit from a single parent class.\n",
        "- **Hybrid Inheritance**: A combination of two or more types of inheritance.\n",
        "\n",
        "### Example of Inheritance in Python\n",
        "\n",
        "```python\n",
        "# Parent class\n",
        "class Animal:\n",
        "    def __init__(self, name):\n",
        "        self.name = name\n",
        "\n",
        "    def speak(self):\n",
        "        print(\"This animal makes a sound\")\n",
        "\n",
        "# Child class inheriting from Animal\n",
        "class Dog(Animal):\n",
        "    def speak(self):  # Method overriding\n",
        "        print(\"Woof!\")\n",
        "\n",
        "# Another child class inheriting from Animal\n",
        "class Cat(Animal):\n",
        "    def speak(self):  # Method overriding\n",
        "        print(\"Meow!\")\n",
        "\n",
        "# Example usage\n",
        "dog = Dog(\"Buddy\")\n",
        "cat = Cat(\"Whiskers\")\n",
        "\n",
        "dog.speak()  # Output: Woof!\n",
        "cat.speak()  # Output: Meow!\n",
        "```\n",
        "\n",
        "In this example:\n",
        "- The `Animal` class is the parent class with an attribute `name` and a method `speak`.\n",
        "- The `Dog` and `Cat` classes inherit from `Animal`, gaining its attributes and methods.\n",
        "- Both `Dog` and `Cat` override the `speak` method to provide their own unique sounds.\n",
        "\n",
        "### Benefits of Inheritance:\n",
        "- **Improves Code Organization**: Organizes code by common behavior in a hierarchical structure.\n",
        "- **Promotes Reusability**: Allows the reuse of parent class code, reducing redundancy.\n",
        "- **Supports Extensibility**: Makes it easier to add new features by creating subclasses.\n",
        "\n",
        "Inheritance is an essential feature in OOP that enables flexibility, modularity, and effective code management in complex programs."
      ],
      "metadata": {
        "id": "C8EpAmm3Jn2u"
      }
    },
    {
      "cell_type": "markdown",
      "source": [
        "Que.30)Define polymorphism in OOP\n",
        "\n",
        "Solution- Inheritance is a fundamental concept in Object-Oriented Programming (OOP) that allows a class (called the *child class* or *subclass*) to inherit attributes and methods from another class (called the *parent class* or *superclass*). It is a way to create a new class that is a refined version of an existing class, enabling code reusability and creating a hierarchical relationship between classes.\n",
        "\n",
        "### Key Points of Inheritance:\n",
        "1. **Code Reusability**: Inheritance allows subclasses to use code written in the parent class, reducing code duplication and increasing maintainability.\n",
        "\n",
        "2. **Hierarchical Structure**: It establishes a hierarchy where subclasses share common characteristics defined in the parent class and can also have their own unique features.\n",
        "\n",
        "3. **Overriding Methods**: Subclasses can override methods inherited from the parent class to change or extend their behavior.\n",
        "\n",
        "4. **Polymorphism**: Inheritance supports polymorphism, which allows a subclass to be treated as an instance of its parent class.\n",
        "\n",
        "### Types of Inheritance\n",
        "- **Single Inheritance**: A subclass inherits from only one parent class.\n",
        "- **Multiple Inheritance**: A subclass inherits from more than one parent class (supported in Python).\n",
        "- **Multilevel Inheritance**: A chain of inheritance where a class is derived from a class that is also a derived class.\n",
        "- **Hierarchical Inheritance**: Multiple subclasses inherit from a single parent class.\n",
        "- **Hybrid Inheritance**: A combination of two or more types of inheritance.\n",
        "\n",
        "### Example of Inheritance in Python\n",
        "\n",
        "```python\n",
        "# Parent class\n",
        "class Animal:\n",
        "    def __init__(self, name):\n",
        "        self.name = name\n",
        "\n",
        "    def speak(self):\n",
        "        print(\"This animal makes a sound\")\n",
        "\n",
        "# Child class inheriting from Animal\n",
        "class Dog(Animal):\n",
        "    def speak(self):  # Method overriding\n",
        "        print(\"Woof!\")\n",
        "\n",
        "# Another child class inheriting from Animal\n",
        "class Cat(Animal):\n",
        "    def speak(self):  # Method overriding\n",
        "        print(\"Meow!\")\n",
        "\n",
        "# Example usage\n",
        "dog = Dog(\"Buddy\")\n",
        "cat = Cat(\"Whiskers\")\n",
        "\n",
        "dog.speak()  # Output: Woof!\n",
        "cat.speak()  # Output: Meow!\n",
        "```\n",
        "\n",
        "In this example:\n",
        "- The `Animal` class is the parent class with an attribute `name` and a method `speak`.\n",
        "- The `Dog` and `Cat` classes inherit from `Animal`, gaining its attributes and methods.\n",
        "- Both `Dog` and `Cat` override the `speak` method to provide their own unique sounds.\n",
        "\n",
        "### Benefits of Inheritance:\n",
        "- **Improves Code Organization**: Organizes code by common behavior in a hierarchical structure.\n",
        "- **Promotes Reusability**: Allows the reuse of parent class code, reducing redundancy.\n",
        "- **Supports Extensibility**: Makes it easier to add new features by creating subclasses.\n",
        "\n",
        "Inheritance is an essential feature in OOP that enables flexibility, modularity, and effective code management in complex programs."
      ],
      "metadata": {
        "id": "SNorgg7bJyS3"
      }
    },
    {
      "cell_type": "markdown",
      "source": [
        "Que.31)Explain method overriding in Python.\n",
        "Solution - **Method overriding** in Python is an OOP feature that allows a subclass to provide a specific implementation of a method that is already defined in its superclass. When a method in a subclass has the same name, parameters, and return type as a method in the superclass, the subclass method *overrides* the superclass method. This feature is useful for defining behavior in a subclass that is different from or extends the behavior in the superclass.\n",
        "\n",
        "### Key Points of Method Overriding\n",
        "1. **Same Method Signature**: The overriding method in the subclass must have the same name and parameters as the method in the superclass.\n",
        "  \n",
        "2. **Runtime Polymorphism**: Overriding supports polymorphism by allowing the subclass to alter the behavior of inherited methods.\n",
        "\n",
        "3. **Selective Extension**: It enables a subclass to modify only the parts of the inherited behavior that are necessary, while keeping the rest of the superclass behavior unchanged if desired.\n",
        "\n",
        "### Why Use Method Overriding?\n",
        "Method overriding is useful in cases where the superclass provides a general implementation, and the subclass needs a more specific or customized implementation.\n",
        "\n",
        "### Example of Method Overriding in Python\n",
        "\n",
        "```python\n",
        "# Superclass\n",
        "class Animal:\n",
        "    def speak(self):\n",
        "        print(\"This animal makes a sound\")\n",
        "\n",
        "# Subclass Dog overrides the speak method\n",
        "class Dog(Animal):\n",
        "    def speak(self):  # Overriding method\n",
        "        print(\"Woof!\")\n",
        "\n",
        "# Subclass Cat overrides the speak method\n",
        "class Cat(Animal):\n",
        "    def speak(self):  # Overriding method\n",
        "        print(\"Meow!\")\n",
        "\n",
        "# Example usage\n",
        "animal = Animal()\n",
        "dog = Dog()\n",
        "cat = Cat()\n",
        "\n",
        "animal.speak()  # Output: This animal makes a sound\n",
        "dog.speak()     # Output: Woof!\n",
        "cat.speak()     # Output: Meow!\n",
        "```\n",
        "\n",
        "In this example:\n",
        "- The `Animal` superclass has a method `speak` that provides a generic implementation: \"This animal makes a sound\".\n",
        "- Both `Dog` and `Cat` subclasses override the `speak` method to provide their own specific implementations.\n",
        "\n",
        "### Calling the Superclass Method from an Overridden Method\n",
        "Sometimes, you may want to keep part of the superclass method’s functionality while extending or modifying it. You can call the superclass method within the overridden method using `super()`.\n",
        "\n",
        "```python\n",
        "class Bird(Animal):\n",
        "    def speak(self):\n",
        "        super().speak()  # Calls the superclass method\n",
        "        print(\"Chirp!\")\n",
        "\n",
        "# Example usage\n",
        "bird = Bird()\n",
        "bird.speak()\n",
        "```\n",
        "\n",
        "In this example, the `speak` method in the `Bird` subclass calls `super().speak()` to invoke the `speak` method from the `Animal` superclass, followed by \"Chirp!\" from the subclass.\n",
        "\n",
        "### Benefits of Method Overriding:\n",
        "- **Customization**: Allows subclasses to provide specific behavior for inherited methods.\n",
        "- **Flexibility**: Makes the code more flexible and adaptable to new requirements.\n",
        "- **Polymorphism**: Supports runtime polymorphism, where the subclass method is called based on the object type.\n",
        "\n",
        "Method overriding is a powerful feature in Python that promotes extensibility and flexibility by allowing specialized behavior in subclasses without altering the superclass."
      ],
      "metadata": {
        "id": "QjXf6G-ZKA1Q"
      }
    },
    {
      "cell_type": "markdown",
      "source": [
        "Que.32)Define a parent class Animal with a method make_sound that prints \"Generic animal sound\". Create a\n",
        "child class Dog inheriting from Animal with a method make_sound that prints \"Woof!\""
      ],
      "metadata": {
        "id": "qCV223bhKNAn"
      }
    },
    {
      "cell_type": "code",
      "source": [
        "# Parent class\n",
        "class Animal:\n",
        "    def make_sound(self):\n",
        "        print(\"Generic animal sound\")\n",
        "\n",
        "# Child class inheriting from Animal\n",
        "class Dog(Animal):\n",
        "    def make_sound(self):  # Overriding the make_sound method\n",
        "        print(\"Woof!\")\n",
        "\n",
        "# Example usage\n",
        "animal = Animal()\n",
        "dog = Dog()\n",
        "\n",
        "animal.make_sound()  # Output: Generic animal sound\n",
        "dog.make_sound()     # Output: Woof!\n"
      ],
      "metadata": {
        "colab": {
          "base_uri": "https://localhost:8080/"
        },
        "id": "XDvXqII7KeNJ",
        "outputId": "366e636b-eb51-4236-8ef2-e0928eed0474"
      },
      "execution_count": null,
      "outputs": [
        {
          "output_type": "stream",
          "name": "stdout",
          "text": [
            "Generic animal sound\n",
            "Woof!\n"
          ]
        }
      ]
    },
    {
      "cell_type": "markdown",
      "source": [
        "Que.33) Define a method move in the Animal class that prints \"Animal moves\". Override the move method in the\n",
        "Dog class to print \"Dog runs.8"
      ],
      "metadata": {
        "id": "KpA2n3c30wcT"
      }
    },
    {
      "cell_type": "code",
      "source": [
        "class Animal:\n",
        "    def move(self):\n",
        "        print(\"Animal moves\")\n",
        "\n",
        "class Dog(Animal):\n",
        "    def move(self):\n",
        "        print(\"Dog runs\")\n",
        "\n",
        "# Example usage\n",
        "animal = Animal()\n",
        "animal.move()  # Output: Animal moves\n",
        "\n",
        "dog = Dog()\n",
        "dog.move()  # Output: Dog runs\n"
      ],
      "metadata": {
        "colab": {
          "base_uri": "https://localhost:8080/"
        },
        "id": "7wRWMl7m1Tq3",
        "outputId": "5a7f54bd-ad53-4d6e-a520-39ff4e52681b"
      },
      "execution_count": null,
      "outputs": [
        {
          "output_type": "stream",
          "name": "stdout",
          "text": [
            "Animal moves\n",
            "Dog runs\n"
          ]
        }
      ]
    },
    {
      "cell_type": "markdown",
      "source": [
        "Que.34)  Create a class Mammal with a method reproduce that pri"
      ],
      "metadata": {
        "id": "9sXKbJ9p1YHa"
      }
    },
    {
      "cell_type": "code",
      "source": [
        "class Mammal:\n",
        "    def reproduce(self):\n",
        "        print(\"Mammal gives birth to live young.\")\n",
        "\n",
        "# Example usage\n",
        "mammal = Mammal()\n",
        "mammal.reproduce()  # Output: Mammal gives birth to live young.\n"
      ],
      "metadata": {
        "colab": {
          "base_uri": "https://localhost:8080/"
        },
        "id": "ePFnNSJz10aT",
        "outputId": "0df1732c-bf12-4024-bc87-ab812855b653"
      },
      "execution_count": null,
      "outputs": [
        {
          "output_type": "stream",
          "name": "stdout",
          "text": [
            "Mammal gives birth to live young.\n"
          ]
        }
      ]
    },
    {
      "cell_type": "markdown",
      "source": [
        "Que.35) Create a class GermanShepherd inheriting from Dog and override the make_sound method to print\n",
        "\"Bark!8"
      ],
      "metadata": {
        "id": "oxXoQuNR11jL"
      }
    },
    {
      "cell_type": "code",
      "source": [
        "class Mammal:\n",
        "    def reproduce(self):\n",
        "        print(\"Mammal gives birth to live young.\")\n",
        "\n",
        "# Example usage\n",
        "mammal = Mammal()\n",
        "mammal.reproduce()  # Output: Mammal gives birth to live young.\n"
      ],
      "metadata": {
        "colab": {
          "base_uri": "https://localhost:8080/"
        },
        "id": "qPT9qsae18ZH",
        "outputId": "177b2e59-d91a-4e7d-9854-5c7e38c30fa1"
      },
      "execution_count": null,
      "outputs": [
        {
          "output_type": "stream",
          "name": "stdout",
          "text": [
            "Mammal gives birth to live young.\n"
          ]
        }
      ]
    },
    {
      "cell_type": "markdown",
      "source": [
        "Que.36) Define constructors in both the Animal and Dog classes with different initialization parameters\n"
      ],
      "metadata": {
        "id": "x3GQ1O_c2Eaa"
      }
    },
    {
      "cell_type": "code",
      "source": [
        "class Animal:\n",
        "    def __init__(self, species):\n",
        "        self.species = species\n",
        "        print(f\"Animal created. Species: {self.species}\")\n",
        "\n",
        "    def move(self):\n",
        "        print(f\"The {self.species} moves.\")\n",
        "\n",
        "class Dog(Animal):\n",
        "    def __init__(self, species, breed):\n",
        "        # Call the constructor of the parent class\n",
        "        super().__init__(species)\n",
        "        self.breed = breed\n",
        "        print(f\"Dog created. Breed: {self.breed}\")\n",
        "\n",
        "    def move(self):\n",
        "        print(f\"The {self.breed} runs.\")\n",
        "\n",
        "# Example usage\n",
        "animal = Animal(\"Generic Animal\")  # Output: Animal created. Species: Generic Animal\n",
        "animal.move()                      # Output: The Generic Animal moves.\n",
        "\n",
        "dog = Dog(\"Canine\", \"German Shepherd\")  # Output:\n",
        "# Animal created. Species: Canine\n",
        "# Dog created. Breed: German Shepherd\n",
        "dog.move()                           # Output: The German Shepherd runs.\n"
      ],
      "metadata": {
        "colab": {
          "base_uri": "https://localhost:8080/"
        },
        "id": "nUwnv8xA2JBN",
        "outputId": "845e200d-1994-473f-de67-2868a886135a"
      },
      "execution_count": null,
      "outputs": [
        {
          "output_type": "stream",
          "name": "stdout",
          "text": [
            "Animal created. Species: Generic Animal\n",
            "The Generic Animal moves.\n",
            "Animal created. Species: Canine\n",
            "Dog created. Breed: German Shepherd\n",
            "The German Shepherd runs.\n"
          ]
        }
      ]
    },
    {
      "cell_type": "markdown",
      "source": [
        "Que.37 What is abstraction in Python? How is it implemented%\n",
        "SOlution- Abstraction is one of the core principles of object-oriented programming (OOP). It is the process of hiding the implementation details of a class or function and exposing only the essential features to the user. The main purpose of abstraction is to focus on what an object does rather than how it does it.\n",
        "\n",
        "In Python, abstraction is implemented using abstract classes and abstract methods, which are provided by the abc module (short for Abstract Base Classes).\n",
        "\n"
      ],
      "metadata": {
        "id": "kvZy_CR_2ONl"
      }
    },
    {
      "cell_type": "code",
      "source": [
        "from abc import ABC, abstractmethod\n",
        "\n",
        "# Abstract Class\n",
        "class Animal(ABC):\n",
        "    @abstractmethod\n",
        "    def make_sound(self):\n",
        "        \"\"\"Abstract method that must be implemented in subclasses\"\"\"\n",
        "        pass\n",
        "\n",
        "    def move(self):\n",
        "        \"\"\"A regular method with implementation\"\"\"\n",
        "        print(\"Animal moves\")\n",
        "\n",
        "# Concrete Class\n",
        "class Dog(Animal):\n",
        "    def make_sound(self):\n",
        "        print(\"Bark!\")\n",
        "\n",
        "class Cat(Animal):\n",
        "    def make_sound(self):\n",
        "        print(\"Meow!\")\n",
        "\n",
        "# Example usage\n",
        "dog = Dog()\n",
        "dog.make_sound()  # Output: Bark!\n",
        "dog.move()        # Output: Animal moves\n",
        "\n",
        "cat = Cat()\n",
        "cat.make_sound()  # Output: Meow!\n",
        "cat.move()        # Output: Animal moves\n",
        "\n",
        "# Uncommenting the following line will raise an error:\n",
        "# animal = Animal()  # TypeError: Can't instantiate abstract class Animal with abstract method make_sound\n"
      ],
      "metadata": {
        "colab": {
          "base_uri": "https://localhost:8080/"
        },
        "id": "wnmrotUh2UlK",
        "outputId": "bf80dcc9-7bbd-4247-db32-24160aa53be9"
      },
      "execution_count": null,
      "outputs": [
        {
          "output_type": "stream",
          "name": "stdout",
          "text": [
            "Bark!\n",
            "Animal moves\n",
            "Meow!\n",
            "Animal moves\n"
          ]
        }
      ]
    },
    {
      "cell_type": "markdown",
      "source": [
        "Que.38) Explain the importance of abstraction in object-oriented programming\n",
        "\n",
        "SOlution  Abstraction is a cornerstone of OOP, playing a crucial role in designing robust, scalable, and maintainable software systems. Its primary goal is to simplify complex systems by breaking them into smaller, manageable parts and focusing only on the relevant details.\n",
        "\n"
      ],
      "metadata": {
        "id": "C53lDeoK2t5Y"
      }
    },
    {
      "cell_type": "code",
      "source": [
        "from abc import ABC, abstractmethod\n",
        "\n",
        "class Payment(ABC):\n",
        "    @abstractmethod\n",
        "    def process_payment(self, amount):\n",
        "        pass\n",
        "\n",
        "class CreditCardPayment(Payment):\n",
        "    def process_payment(self, amount):\n",
        "        print(f\"Processing credit card payment of ${amount}\")\n",
        "\n",
        "class PayPalPayment(Payment):\n",
        "    def process_payment(self, amount):\n",
        "        print(f\"Processing PayPal payment of ${amount}\")\n",
        "\n",
        "# Usage\n",
        "payment1 = CreditCardPayment()\n",
        "payment1.process_payment(100)  # Output: Processing credit card payment of $100\n",
        "\n",
        "payment2 = PayPalPayment()\n",
        "payment2.process_payment(200)  # Output: Processing PayPal payment of $200\n"
      ],
      "metadata": {
        "colab": {
          "base_uri": "https://localhost:8080/"
        },
        "id": "Lc2LA7b928wP",
        "outputId": "c251f403-8e0c-4efa-990b-3316b40d2156"
      },
      "execution_count": null,
      "outputs": [
        {
          "output_type": "stream",
          "name": "stdout",
          "text": [
            "Processing credit card payment of $100\n",
            "Processing PayPal payment of $200\n"
          ]
        }
      ]
    },
    {
      "cell_type": "markdown",
      "source": [
        " QUE.39)  How are abstract methods different from regular methods in Python%\n",
        " Solution  Abstract methods and regular methods in Python differ significantly in their purpose, behavior, and usage within a class. Here’s a detailed comparison:\n",
        "\n"
      ],
      "metadata": {
        "id": "LV9PLHB-3ImH"
      }
    },
    {
      "cell_type": "code",
      "source": [
        "from abc import ABC, abstractmethod\n",
        "\n",
        "class Animal(ABC):\n",
        "    @abstractmethod\n",
        "    def make_sound(self):\n",
        "        pass\n",
        "\n",
        "class Dog(Animal):\n",
        "    def make_sound(self):\n",
        "        print(\"Bark!\")\n",
        "\n",
        "# dog = Animal()  # Error: Can't instantiate abstract class\n",
        "dog = Dog()\n",
        "dog.make_sound()  # Output: Bark!\n"
      ],
      "metadata": {
        "colab": {
          "base_uri": "https://localhost:8080/"
        },
        "id": "P3to6ner3T3d",
        "outputId": "38aecc76-65a3-4858-d1dc-3a9e1c86d04a"
      },
      "execution_count": null,
      "outputs": [
        {
          "output_type": "stream",
          "name": "stdout",
          "text": [
            "Bark!\n"
          ]
        }
      ]
    },
    {
      "cell_type": "markdown",
      "source": [
        "Que.40) How can you achieve abstraction using interfaces in Python\n",
        "SOlution - In Python, interfaces are not explicitly defined as in some other programming languages like Java. However, abstraction using interfaces can be achieved through the use of abstract base classes (ABCs) provided by the abc module. An interface in Python is essentially an abstract class with only abstract methods, serving as a blueprint for other classes.\n"
      ],
      "metadata": {
        "id": "JxnN66tX3a_j"
      }
    },
    {
      "cell_type": "code",
      "source": [
        "#chieving Abstraction Using Interfaces\n",
        "from abc import ABC, abstractmethod\n",
        "\n",
        "class Shape(ABC):  # Interface\n",
        "    @abstractmethod\n",
        "    def area(self):\n",
        "        pass\n",
        "\n",
        "    @abstractmethod\n",
        "    def perimeter(self):\n",
        "        pass\n"
      ],
      "metadata": {
        "id": "k9nfxGW83xoN"
      },
      "execution_count": null,
      "outputs": []
    },
    {
      "cell_type": "code",
      "source": [
        "#mplement the Interface in Concrete Classes\n",
        "class Rectangle(Shape):\n",
        "    def __init__(self, width, height):\n",
        "        self.width = width\n",
        "        self.height = height\n",
        "\n",
        "    def area(self):\n",
        "        return self.width * self.height\n",
        "\n",
        "    def perimeter(self):\n",
        "        return 2 * (self.width + self.height)\n",
        "\n",
        "class Circle(Shape):\n",
        "    def __init__(self, radius):\n",
        "        self.radius = radius\n",
        "\n",
        "    def area(self):\n",
        "        return 3.14159 * self.radius ** 2\n",
        "\n",
        "    def perimeter(self):\n",
        "        return 2 * 3.14159 * self.radius\n"
      ],
      "metadata": {
        "id": "npOWlE7P37Es"
      },
      "execution_count": null,
      "outputs": []
    },
    {
      "cell_type": "markdown",
      "source": [
        "Que.41)Can you provide an example of how abstraction can be utilized to create a common interface for a group\n",
        "of related classes in Python%\n",
        "Solution  - Abstraction can be used to define a common interface for a group of related classes, ensuring that they implement a consistent set of methods. This is particularly useful when you want to work with different types of objects in a polymorphic way.\n",
        "Here’s an example:\n",
        "\n",
        "Scenario: Shapes Interface for Different Geometric Figures\n",
        "We’ll create an abstract class Shape as a common interface, which requires all subclasses to implement methods for calculating area and perimeter.\n"
      ],
      "metadata": {
        "id": "hPDnYKno4Dm9"
      }
    },
    {
      "source": [
        "#1. Define the Abstract Class (Interface)\n",
        "#from abc import ABC, abstractmethod\n",
        "from abc import ABC, abstractmethod # Make sure this is imported\n",
        "\n",
        "class Shape(ABC):\n",
        "    @abstractmethod\n",
        "    def area(self):\n",
        "        \"\"\"Calculate the area of the shape\"\"\"\n",
        "        pass\n",
        "\n",
        "    @abstractmethod\n",
        "    def perimeter(self):\n",
        "        \"\"\"Calculate the perimeter of the shape\"\"\"\n",
        "        pass\n",
        "\n",
        "#Create Concrete Implementations # Dedent this line to remove it from inside Shape\n",
        "class Rectangle(Shape):\n",
        "    def __init__(self, width, height):\n",
        "        self.width = width\n",
        "        self.height = height\n",
        "\n",
        "    def area(self):\n",
        "        return self.width * self.height\n",
        "\n",
        "    def perimeter(self):\n",
        "        return 2 * (self.width + self.height)\n",
        "\n",
        "class Circle(Shape):\n",
        "    def __init__(self, radius):\n",
        "        self.radius = radius\n",
        "\n",
        "    def area(self):\n",
        "        return 3.14159 * self.radius ** 2\n",
        "\n",
        "    def perimeter(self):\n",
        "        return 2 * 3.14159 * self.radius\n",
        "\n",
        "class Triangle(Shape):\n",
        "    def __init__(self, a, b, c):\n",
        "        self.a = a\n",
        "        self.b = b\n",
        "        self.c = c\n",
        "        # Semi-perimeter for area calculation\n",
        "        self.s = (a + b + c) / 2\n",
        "\n",
        "    def area(self):\n",
        "        return (self.s * (self.s - self.a) * (self.s - self.b) * (self.s - self.c)) ** 0.5\n",
        "\n",
        "    def perimeter(self):\n",
        "        return self.a + self.b + self.c\n",
        "\n",
        "#Use Polymorphism to Work with Different Shapes\n",
        "def print_shape_details(shape): # This line was incorrectly indented\n",
        "    print(f\"Area: {shape.area()}\")\n",
        "    print(f\"Perimeter: {shape.perimeter()}\")\n",
        "\n",
        "# Instantiate different shapes\n",
        "shapes = [\n",
        "    Rectangle(4, 5),\n",
        "    Circle(3),\n",
        "    Triangle(3, 4, 5)\n",
        "]\n",
        "\n",
        "# Use the common interface to interact with shapes\n",
        "for shape in shapes:\n",
        "    print(f\"Details for {type(shape).__name__}:\")\n",
        "    print_shape_details(shape)\n",
        "    print()\n"
      ],
      "cell_type": "code",
      "metadata": {
        "colab": {
          "base_uri": "https://localhost:8080/"
        },
        "id": "-tDpWgBK6weQ",
        "outputId": "7566c64d-87d8-4e5c-cc7e-bb758e70f4b5"
      },
      "execution_count": null,
      "outputs": [
        {
          "output_type": "stream",
          "name": "stdout",
          "text": [
            "Details for Rectangle:\n",
            "Area: 20\n",
            "Perimeter: 18\n",
            "\n",
            "Details for Circle:\n",
            "Area: 28.27431\n",
            "Perimeter: 18.849539999999998\n",
            "\n",
            "Details for Triangle:\n",
            "Area: 6.0\n",
            "Perimeter: 12\n",
            "\n"
          ]
        }
      ]
    },
    {
      "cell_type": "markdown",
      "source": [
        "QUe.42) How does Python achieve polymorphism through method overriding%\n",
        "Solution - Polymorphism Through Method Overriding in Python\n",
        "Polymorphism allows objects of different classes to be treated as objects of a common parent class. Python achieves polymorphism through method overriding, where a subclass provides a specific implementation of a method already defined in its parent class. The overridden method in the subclass has the same name, return type, and parameters as the method in the parent class."
      ],
      "metadata": {
        "id": "Bq-bJr_G7sRe"
      }
    },
    {
      "cell_type": "code",
      "source": [
        "#Example of Polymorphism with Method Overridin\n",
        "class Animal:\n",
        "    def make_sound(self):\n",
        "        print(\"Animal makes a sound\")\n",
        "\n",
        "class Dog(Animal):\n",
        "    def make_sound(self):\n",
        "        print(\"Dog barks\")\n",
        "\n",
        "class Cat(Animal):\n",
        "    def make_sound(self):\n",
        "        print(\"Cat meows\")\n"
      ],
      "metadata": {
        "id": "HiEc2bl974kU"
      },
      "execution_count": null,
      "outputs": []
    },
    {
      "cell_type": "code",
      "source": [
        "#using polymerization\n",
        "def animal_sound(animal):\n",
        "    animal.make_sound()\n",
        "\n",
        "# Create objects of different subclasses\n",
        "dog = Dog()\n",
        "cat = Cat()\n",
        "\n",
        "# Call the same method on different objects\n",
        "animal_sound(dog)  # Output: Dog barks\n",
        "animal_sound(cat)  # Output: Cat meows\n",
        "\n"
      ],
      "metadata": {
        "colab": {
          "base_uri": "https://localhost:8080/"
        },
        "id": "oOtLekG27-Yu",
        "outputId": "549866ff-e6a0-49b1-fcd9-5f18805e2d44"
      },
      "execution_count": null,
      "outputs": [
        {
          "output_type": "stream",
          "name": "stdout",
          "text": [
            "Dog barks\n",
            "Cat meows\n"
          ]
        }
      ]
    },
    {
      "cell_type": "markdown",
      "source": [
        "Que.43) Define a base class with a method and a subclass that overrides the method\n",
        "\n"
      ],
      "metadata": {
        "id": "R2ICr9kt8NSB"
      }
    },
    {
      "cell_type": "markdown",
      "source": [
        "Solution - Here’s an example where we define a base class with a method and then create a subclass that overrides that method:\n",
        "\n",
        "Base Class and Subclass with Method Overriding"
      ],
      "metadata": {
        "id": "VVuFLmE28O5k"
      }
    },
    {
      "cell_type": "code",
      "source": [
        "#Base Class and Subclass with Method Overriding\n",
        "class Animal:\n",
        "    def make_sound(self):\n",
        "        print(\"Animal makes a sound\")\n",
        "\n",
        "#Define the Subclass that Overrides the Method\n",
        "class Dog(Animal):\n",
        "    def make_sound(self):\n",
        "        print(\"Dog barks\")\n",
        "# Using the Classes\n",
        "# Create instances of both Animal and Dog\n",
        "animal = Animal()\n",
        "dog = Dog()\n",
        "\n",
        "# Call the make_sound method on both objects\n",
        "animal.make_sound()  # Output: Animal makes a sound\n",
        "dog.make_sound()     # Output: Dog barks\n"
      ],
      "metadata": {
        "colab": {
          "base_uri": "https://localhost:8080/"
        },
        "id": "kJxE_dof8dnt",
        "outputId": "75333459-b8b7-4281-9aab-a8be88dbf8d0"
      },
      "execution_count": null,
      "outputs": [
        {
          "output_type": "stream",
          "name": "stdout",
          "text": [
            "Animal makes a sound\n",
            "Dog barks\n"
          ]
        }
      ]
    },
    {
      "cell_type": "markdown",
      "source": [
        "Que.44)Define a base class and multiple subclasses with overridden methods\n",
        "\n",
        "Solution - Base Class with Multiple Subclasses and Overridden Methods"
      ],
      "metadata": {
        "id": "iOpjgfNm9TXU"
      }
    },
    {
      "cell_type": "code",
      "source": [
        "#Define the Base Class\n",
        "class Animal:\n",
        "    def make_sound(self):\n",
        "        print(\"Animal makes a sound\")\n",
        "#Define Multiple Subclasses that Override the Method\n",
        "class Dog(Animal):\n",
        "    def make_sound(self):\n",
        "        print(\"Dog barks\")\n",
        "\n",
        "class Cat(Animal):\n",
        "    def make_sound(self):\n",
        "        print(\"Cat meows\")\n",
        "\n",
        "class Cow(Animal):\n",
        "    def make_sound(self):\n",
        "        print(\"Cow moos\")\n",
        "#using classes\n",
        "# Create instances of each subclass\n",
        "dog = Dog()\n",
        "cat = Cat()\n",
        "cow = Cow()\n",
        "\n",
        "# Call the make_sound method on each object\n",
        "dog.make_sound()  # Output: Dog barks\n",
        "cat.make_sound()  # Output: Cat meows\n",
        "cow.make_sound()  # Output: Cow moos\n",
        "\n"
      ],
      "metadata": {
        "colab": {
          "base_uri": "https://localhost:8080/"
        },
        "id": "pXg-U6xi9bg7",
        "outputId": "b0b1c3fa-c06f-4f5b-b9af-5d71ef3ed9a9"
      },
      "execution_count": null,
      "outputs": [
        {
          "output_type": "stream",
          "name": "stdout",
          "text": [
            "Dog barks\n",
            "Cat meows\n",
            "Cow moos\n"
          ]
        }
      ]
    },
    {
      "cell_type": "markdown",
      "source": [
        "Que.45)  How does polymorphism improve code readability and reusability\n",
        "Solution - Polymorphism plays a significant role in improving both code readability and reusability in object-oriented programming. It allows for cleaner, more maintainable, and flexible code by enabling different classes to be used interchangeably through a common interface. Here’s how it achieves these goals:\n",
        "\n",
        "1. Polymorphism Improves Code Readability\n",
        "A. Simplifies Code Structure\n",
        "Polymorphism allows you to write functions or methods that can work with objects of different types. This eliminates the need for multiple condition checks (like if or switch statements) based on the type of object.\n",
        "\n",
        "For example, instead of writing separate code for each type of object:\n"
      ],
      "metadata": {
        "id": "M-DaSjzL9yzr"
      }
    },
    {
      "cell_type": "code",
      "source": [
        "def make_sound(animal):\n",
        "    if isinstance(animal, Dog):\n",
        "        animal.bark()\n",
        "    elif isinstance(animal, Cat):\n",
        "        animal.meow()\n",
        "    else:\n",
        "        animal.make_sound()\n"
      ],
      "metadata": {
        "id": "tKbKcjpn-GZw"
      },
      "execution_count": null,
      "outputs": []
    },
    {
      "cell_type": "markdown",
      "source": [
        "2. Polymorphism Improves Code Reusability\n",
        "A. Write Generalized Code\n",
        "Polymorphism allows you to write code that works with any subclass of a base class. This helps you to create generalized functions or classes that are not dependent on the specific type of object they work with.\n",
        "\n",
        "For example, if you define a Shape class with a method area, and have subclasses like Circle, Rectangle, and Triangle, you can write a function that calculates the area of any shape:"
      ],
      "metadata": {
        "id": "UKsKisG4-LR8"
      }
    },
    {
      "cell_type": "code",
      "source": [
        "def print_area(shape):\n",
        "    print(f\"Area: {shape.area()}\")\n"
      ],
      "metadata": {
        "id": "UzoLUlLl-OSZ"
      },
      "execution_count": null,
      "outputs": []
    },
    {
      "cell_type": "markdown",
      "source": [
        "Allows New Types to Be Added Without Changing Existing Code"
      ],
      "metadata": {
        "id": "-adzUkyR-gGT"
      }
    },
    {
      "cell_type": "code",
      "source": [
        "class Square(Shape):\n",
        "    def __init__(self, side_length):\n",
        "        self.side_length = side_length\n",
        "\n",
        "    def area(self):\n",
        "        return self.side_length ** 2\n"
      ],
      "metadata": {
        "id": "ixMiYbg2-jSw"
      },
      "execution_count": null,
      "outputs": []
    },
    {
      "cell_type": "markdown",
      "source": [
        "Reusable Code with Common Interface"
      ],
      "metadata": {
        "id": "VT6AZPPX-on5"
      }
    },
    {
      "cell_type": "code",
      "source": [
        "class Shape:\n",
        "    def area(self):\n",
        "        pass  # Base class has no implementation\n",
        "\n",
        "class Circle(Shape):\n",
        "    def __init__(self, radius):\n",
        "        self.radius = radius\n",
        "\n",
        "    def area(self):\n",
        "        return 3.14 * self.radius ** 2\n",
        "\n",
        "class Rectangle(Shape):\n",
        "    def __init__(self, width, height):\n",
        "        self.width = width\n",
        "        self.height = height\n",
        "\n",
        "    def area(self):\n",
        "        return self.width * self.height\n",
        "\n",
        "def print_area(shape: Shape):\n",
        "    print(f\"Area: {shape.area()}\")\n",
        "\n",
        "# Using polymorphism\n",
        "circle = Circle(5)\n",
        "rectangle = Rectangle(4, 6)\n",
        "\n",
        "# Reuse print_area for both types of objects\n",
        "print_area(circle)      # Output: Area: 78.5\n",
        "print_area(rectangle)   # Output: Area: 24\n"
      ],
      "metadata": {
        "colab": {
          "base_uri": "https://localhost:8080/"
        },
        "id": "M_eU2lsE-rUJ",
        "outputId": "a84aa3ce-7309-469f-9852-5b3d19a0c07d"
      },
      "execution_count": null,
      "outputs": [
        {
          "output_type": "stream",
          "name": "stdout",
          "text": [
            "Area: 78.5\n",
            "Area: 24\n"
          ]
        }
      ]
    },
    {
      "cell_type": "markdown",
      "source": [
        "Que.46)\n",
        " Describe how Python supports polymorphism with duck typing\n",
        "Solution -\n",
        "Polymorphism in Python with Duck Typing\n",
        "Python supports polymorphism in a unique and flexible way through a concept known as duck typing. Duck typing is a type of dynamic typing where the type or class of an object is determined by its behavior (methods and attributes) rather than its explicit inheritance or class hierarchy.\n",
        "\n",
        "The term \"duck typing\" comes from the saying: \"If it looks like a duck, swims like a duck, and quacks like a duck, then it probably is a duck.\" In Python, this means that you don't need to explicitly declare or check an object's type to use it; you only need to check if the object has the required attributes or methods.\n",
        "\n",
        "How Duck Typing Works in Python\n",
        "Instead of relying on inheritance or interfaces to define polymorphism (as in statically typed languages like Java or C++), Python’s duck typing focuses on the behavior of an object. If an object behaves like another type (i.e., it has the necessary methods and properties), it can be used in place of that type.\n",
        "\n",
        "In simple terms, Python cares more about what the object can do, rather than what the object is. This allows objects of different types to be used interchangeably, as long as they implement the required methods.\n",
        "\n",
        "Example of Duck Typing and Polymorphism\n",
        "\n"
      ],
      "metadata": {
        "id": "v3NLm62Q-06Z"
      }
    },
    {
      "cell_type": "code",
      "source": [
        "#Define Different Classes with Similar Behaviors\n",
        "class Dog:\n",
        "    def speak(self):\n",
        "        return \"Woof!\"\n",
        "\n",
        "class Cat:\n",
        "    def speak(self):\n",
        "        return \"Meow!\"\n",
        "\n",
        "class Duck:\n",
        "    def speak(self):\n",
        "        return \"Quack!\"\n",
        "\n",
        "#Use Duck Typing for Polymorphism\n",
        "def animal_speak(animal):\n",
        "    print(animal.speak())\n",
        "\n",
        "# Create instances of Dog, Cat, and Duck\n",
        "dog = Dog()\n",
        "cat = Cat()\n",
        "duck = Duck()\n",
        "\n",
        "# Using polymorphism via duck typing\n",
        "animal_speak(dog)   # Output: Woof!\n",
        "animal_speak(cat)   # Output: Meow!\n",
        "animal_speak(duck)  # Output: Quack!\n",
        "\n"
      ],
      "metadata": {
        "colab": {
          "base_uri": "https://localhost:8080/"
        },
        "id": "iYSBeMvU_Bbo",
        "outputId": "1eedbeb5-79ad-4322-d039-e85f8900ba89"
      },
      "execution_count": null,
      "outputs": [
        {
          "output_type": "stream",
          "name": "stdout",
          "text": [
            "Woof!\n",
            "Meow!\n",
            "Quack!\n"
          ]
        }
      ]
    },
    {
      "cell_type": "markdown",
      "source": [],
      "metadata": {
        "id": "hCZGLeid_i4_"
      }
    },
    {
      "cell_type": "markdown",
      "source": [
        "Que.47) How do you achieve encapsulation in Python%\n",
        "Solution - Achieving Encapsulation in Python\n",
        "Encapsulation is one of the core principles of Object-Oriented Programming (OOP), and it refers to the bundling of data (attributes) and methods (functions) that operate on the data into a single unit (class), while restricting access to certain components of the object to safeguard its integrity. This is typically done by controlling access to an object's internal state.\n",
        "\n",
        "In Python, encapsulation is primarily achieved by using access modifiers (public, protected, and private) to control how an object's attributes and methods can be accessed or modified."
      ],
      "metadata": {
        "id": "43RYPJYp_jBO"
      }
    },
    {
      "cell_type": "code",
      "source": [
        "#Using Public, Protected, and Private Attributes\n",
        "class Employee:\n",
        "    def __init__(self, name, salary):\n",
        "        self.name = name         # Public attribute\n",
        "        self._position = None    # Protected attribute\n",
        "        self.__salary = salary   # Private attribute\n",
        "\n",
        "    # Public method\n",
        "    def display(self):\n",
        "        print(f\"Name: {self.name}, Position: {self._position}, Salary: {self.__salary}\")\n",
        "\n",
        "    # Getter for the private attribute __salary\n",
        "    def get_salary(self):\n",
        "        return self.__salary\n",
        "\n",
        "    # Setter for the private attribute __salary\n",
        "    def set_salary(self, salary):\n",
        "        if salary > 0:\n",
        "            self.__salary = salary\n",
        "        else:\n",
        "            print(\"Salary must be a positive value\")\n",
        "\n",
        "    # Protected method\n",
        "    def _set_position(self, position):\n",
        "        self._position = position\n",
        "\n",
        "# Creating an instance of Employee\n",
        "emp = Employee(\"John Doe\", 50000)\n",
        "\n",
        "# Accessing public attribute directly\n",
        "print(emp.name)  # Output: John Doe\n",
        "\n",
        "# Accessing protected attribute (conventionally discouraged)\n",
        "emp._position = \"Manager\"\n",
        "print(emp._position)  # Output: Manager\n",
        "\n",
        "# Accessing private attribute directly will raise an AttributeError\n",
        "# print(emp.__salary)  # Uncommenting this line will raise an error\n",
        "\n",
        "# Using getter and setter for private attributes\n",
        "print(emp.get_salary())  # Output: 50000\n",
        "emp.set_salary(60000)    # Setting salary using setter\n",
        "print(emp.get_salary())  # Output: 60000\n",
        "\n",
        "# Using protected method to set position\n",
        "emp._set_position(\"Senior Manager\")\n",
        "print(emp._position)  # Output: Senior Manager\n"
      ],
      "metadata": {
        "colab": {
          "base_uri": "https://localhost:8080/"
        },
        "id": "TBVlZKFV_zaC",
        "outputId": "82d0b3da-0ab1-43e4-e787-01fddfe8fbf6"
      },
      "execution_count": null,
      "outputs": [
        {
          "output_type": "stream",
          "name": "stdout",
          "text": [
            "John Doe\n",
            "Manager\n",
            "50000\n",
            "60000\n",
            "Senior Manager\n"
          ]
        }
      ]
    },
    {
      "cell_type": "markdown",
      "source": [
        "Que.48)Can encapsulation be bypassed in Python? If so, how?\n",
        "Solution -  Yes, encapsulation can be bypassed in Python, but this is primarily due to Python's dynamic nature and its philosophy of trusting the programmer to follow conventions rather than enforcing strict access control like other languages (e.g., Java or C++). Python's encapsulation mechanisms (public, protected, and private) rely heavily on naming conventions rather than enforcing access restrictions.\n",
        "\n",
        "Here's how encapsulation can be bypassed in Python:"
      ],
      "metadata": {
        "id": "bLzYcA9-ADWN"
      }
    },
    {
      "cell_type": "code",
      "source": [
        "#Accessing Protected Attributes\n",
        "class MyClass:\n",
        "    def __init__(self):\n",
        "        self._protected_var = 42\n",
        "\n",
        "# Creating an instance of MyClass\n",
        "obj = MyClass()\n",
        "\n",
        "# Direct access to the protected attribute\n",
        "print(obj._protected_var)  # Output: 42\n",
        "\n",
        "\n",
        "#Accessing Private Attributes via Name Mangling\n",
        "class MyClass:\n",
        "    def __init__(self):\n",
        "        self.__private_var = 100\n",
        "\n",
        "# Creating an instance of MyClass\n",
        "obj = MyClass()\n",
        "\n",
        "# Attempting to access the private attribute (raises AttributeError)\n",
        "# print(obj.__private_var)  # Uncommenting this line raises AttributeError\n",
        "\n",
        "# Accessing private attribute via name mangling\n",
        "print(obj._MyClass__private_var)  # Output: 100\n",
        "\n",
        "\n",
        "#Using Built-in Functions like getattr and setattr\n",
        "\n",
        "class MyClass:\n",
        "    def __init__(self):\n",
        "        self.__private_var = 200\n",
        "\n",
        "# Creating an instance of MyClass\n",
        "obj = MyClass()\n",
        "\n",
        "# Accessing private attribute using getattr\n",
        "print(getattr(obj, \"_MyClass__private_var\"))  # Output: 200\n",
        "\n",
        "# Modifying private attribute using setattr\n",
        "setattr(obj, \"_MyClass__private_var\", 500)\n",
        "print(obj._MyClass__private_var)  # Output: 500\n",
        "\n",
        "\n"
      ],
      "metadata": {
        "colab": {
          "base_uri": "https://localhost:8080/"
        },
        "id": "6uq83FlqAS5a",
        "outputId": "cd7ebe84-7cf1-4b63-c4c4-d8275b35c99b"
      },
      "execution_count": null,
      "outputs": [
        {
          "output_type": "stream",
          "name": "stdout",
          "text": [
            "42\n",
            "100\n",
            "200\n",
            "500\n"
          ]
        }
      ]
    },
    {
      "cell_type": "code",
      "source": [
        "#Subclassing and Accessing Protected Attributes\n",
        "class Parent:\n",
        "    def __init__(self):\n",
        "        self._protected_var = 300\n",
        "\n",
        "class Child(Parent):\n",
        "    def access_protected(self):\n",
        "        return self._protected_var\n",
        "\n",
        "child = Child()\n",
        "print(child.access_protected())  # Output: 300\n"
      ],
      "metadata": {
        "colab": {
          "base_uri": "https://localhost:8080/"
        },
        "id": "gWVQKTZyAcLF",
        "outputId": "af4cb8f5-f1c1-48cd-94a7-aebcbf017b07"
      },
      "execution_count": null,
      "outputs": [
        {
          "output_type": "stream",
          "name": "stdout",
          "text": [
            "300\n"
          ]
        }
      ]
    },
    {
      "cell_type": "markdown",
      "source": [
        "Que.49) Implement a class BankAccount with a private balance attribute. Include methods to deposit, withdraw,\n",
        "and check the balance\n"
      ],
      "metadata": {
        "id": "qYJPfUZ-A2dX"
      }
    },
    {
      "cell_type": "code",
      "source": [
        "class BankAccount:\n",
        "    def __init__(self, initial_balance=0):\n",
        "        # Initialize the private balance attribute\n",
        "        self.__balance = initial_balance\n",
        "\n",
        "    # Method to deposit money\n",
        "    def deposit(self, amount):\n",
        "        if amount > 0:\n",
        "            self.__balance += amount\n",
        "            print(f\"Deposited: ${amount}. New balance: ${self.__balance}\")\n",
        "        else:\n",
        "            print(\"Deposit amount must be positive.\")\n",
        "\n",
        "    # Method to withdraw money\n",
        "    def withdraw(self, amount):\n",
        "        if amount > 0:\n",
        "            if self.__balance >= amount:\n",
        "                self.__balance -= amount\n",
        "                print(f\"Withdrew: ${amount}. New balance: ${self.__balance}\")\n",
        "            else:\n",
        "                print(\"Insufficient funds.\")\n",
        "        else:\n",
        "            print(\"Withdrawal amount must be positive.\")\n",
        "\n",
        "    # Method to check the current balance\n",
        "    def check_balance(self):\n",
        "        print(f\"Current balance: ${self.__balance}\")\n",
        "\n",
        "# Creating an instance of BankAccount with an initial balance of $100\n",
        "account = BankAccount(100)\n",
        "\n",
        "# Checking the balance\n",
        "account.check_balance()  # Output: Current balance: $100\n",
        "\n",
        "# Depositing money\n",
        "account.deposit(50)  # Output: Deposited: $50. New balance: $150\n",
        "\n",
        "# Withdrawing money\n",
        "account.withdraw(30)  # Output: Withdrew: $30. New balance: $120\n",
        "\n",
        "# Trying to withdraw more money than available\n",
        "account.withdraw(200)  # Output: Insufficient funds.\n",
        "\n",
        "# Checking balance after transactions\n",
        "account.check_balance()  # Output: Current balance: $120\n"
      ],
      "metadata": {
        "colab": {
          "base_uri": "https://localhost:8080/"
        },
        "id": "xVVESl5FA79y",
        "outputId": "b512a864-324c-4f2f-a527-2fd53afb43bd"
      },
      "execution_count": null,
      "outputs": [
        {
          "output_type": "stream",
          "name": "stdout",
          "text": [
            "Current balance: $100\n",
            "Deposited: $50. New balance: $150\n",
            "Withdrew: $30. New balance: $120\n",
            "Insufficient funds.\n",
            "Current balance: $120\n"
          ]
        }
      ]
    },
    {
      "cell_type": "markdown",
      "source": [
        "Que.50)\n",
        " Develop a Person class with private attributes name and email, and methods to set and get the email\n",
        "\n"
      ],
      "metadata": {
        "id": "2UAhF22SBAtW"
      }
    },
    {
      "cell_type": "code",
      "source": [
        "class Person:\n",
        "    def __init__(self, name, email):\n",
        "        # Initialize private attributes name and email\n",
        "        self.__name = name\n",
        "        self.__email = email\n",
        "\n",
        "    # Getter method for the email\n",
        "    def get_email(self):\n",
        "        return self.__email\n",
        "\n",
        "    # Setter method for the email\n",
        "    def set_email(self, email):\n",
        "        if \"@\" in email:  # Simple validation for a valid email format\n",
        "            self.__email = email\n",
        "        else:\n",
        "            print(\"Invalid email address.\")\n",
        "\n",
        "    # Method to display the person's details\n",
        "    def display_info(self):\n",
        "        print(f\"Name: {self.__name}, Email: {self.__email}\")\n",
        "\n",
        "# Creating an instance of Person\n",
        "person = Person(\"John Doe\", \"john.doe@example.com\")\n",
        "\n",
        "# Displaying the person's details\n",
        "person.display_info()  # Output: Name: John Doe, Email: john.doe@example.com\n",
        "\n",
        "# Getting the email using the getter method\n",
        "print(person.get_email())  # Output: john.doe@example.com\n",
        "\n",
        "# Setting a new email using the setter method\n",
        "person.set_email(\"john.newemail@example.com\")\n",
        "\n",
        "# Displaying the updated details\n",
        "person.display_info()  # Output: Name: John Doe, Email: john.newemail@example.com\n",
        "\n",
        "# Attempting to set an invalid email\n",
        "person.set_email(\"invalidemail.com\")  # Output: Invalid email address.\n"
      ],
      "metadata": {
        "colab": {
          "base_uri": "https://localhost:8080/"
        },
        "id": "Dxg1NHodBLPj",
        "outputId": "20bdef26-327a-4eae-9a94-415eab7cbdef"
      },
      "execution_count": null,
      "outputs": [
        {
          "output_type": "stream",
          "name": "stdout",
          "text": [
            "Name: John Doe, Email: john.doe@example.com\n",
            "john.doe@example.com\n",
            "Name: John Doe, Email: john.newemail@example.com\n",
            "Invalid email address.\n"
          ]
        }
      ]
    },
    {
      "cell_type": "markdown",
      "source": [],
      "metadata": {
        "id": "NkLD8q7bBh-R"
      }
    },
    {
      "cell_type": "markdown",
      "source": [
        "Que.51) Why is encapsulation considered a pillar of object-oriented programming (OOP)?\n",
        "Solution -  Encapsulation is considered one of the key pillars of Object-Oriented Programming (OOP) because it plays a crucial role in organizing and managing data, protecting an object's internal state, and ensuring that it interacts with other objects in a controlled way. Here's why encapsulation is important:\n",
        "\n",
        "\n",
        "1. Data Hiding\n",
        "Encapsulation allows the internal state (attributes) of an object to be hidden from the outside world. This means that the implementation details of the object are not exposed directly to other objects or the external environment.\n",
        "Instead of directly accessing and modifying the internal attributes, other objects interact with the object through public methods (getters and setters). This helps prevent unintended interference with an object’s internal state.\n",
        "Example: In a BankAccount class, the balance is encapsulated, and can only be changed through methods like deposit() and withdraw(). This ensures the integrity of the balance (e.g., no negative deposits or withdrawals).\n",
        "2. Control Over Data\n",
        "Encapsulation gives you control over how data is accessed and modified. By providing getter and setter methods, you can validate or transform data before it is set or accessed, ensuring consistency and correctness.\n",
        "For example, if you are setting the value of a private attribute, you can ensure that only valid data (e.g., a positive balance or a properly formatted email) is used.\n",
        "Example: A setter method for setting an email can validate if the email format is correct before updating the internal attribute.\n",
        "3. Modularity and Maintenance\n",
        "Encapsulation helps in modularizing your code by keeping the data and the methods that operate on that data together in one unit (the class). Each object manages its own state independently.\n",
        "This separation of concerns makes the system easier to maintain because internal changes to one object can often be made without affecting other parts of the system. For example, you could change how the balance is stored internally (e.g., change it to a decimal type) without affecting the code that uses the BankAccount object as long as the interface (methods) remains the same.\n",
        "Example: Changing the way a Person object stores its name internally does not affect other parts of the program as long as the public methods for accessing and updating the name remain unchanged.\n",
        "4. Improved Code Reusability and Flexibility\n",
        "Encapsulation enables the creation of well-defined and reusable classes. Since the object's internal state is hidden, you can focus on using objects through their public methods, which makes it easier to change internal details without affecting other parts of the program.\n",
        "Encapsulated classes can evolve independently of other code that uses them, improving flexibility and allowing better code reuse.\n",
        "Example: A Car class can be reused across various programs. You can change how the car handles fuel (e.g., from a simple value to an object representing fuel types) without modifying any code that uses the Car class as long as the public interface (methods) remains the same.\n",
        "5. Reduced Complexity\n",
        "By hiding complex implementation details and providing a simple interface (i.e., methods to interact with the object), encapsulation reduces the complexity of interacting with an object.\n",
        "Users of the object don’t need to understand its internal workings. They only need to know what operations are available and how to call them. This makes objects easier to use and understand, improving the overall design.\n",
        "Example: If you have a DatabaseConnection class, users of the class don’t need to know how the connection is established internally; they just need to call connect() and disconnect() methods.\n",
        "6. Increased Security\n",
        "Encapsulation helps protect sensitive data by restricting access to private attributes. It also reduces the chance of accidental or malicious changes to an object’s internal state.\n",
        "This data protection ensures that an object’s data remains in a consistent and valid state throughout its lifetime.\n",
        "Example: A User class might have a private password attribute, which is never directly accessible from outside the class. Instead, access and modification of the password would be controlled by a set_password() method that ensures passwords are properly validated.\n",
        "7. Abstraction\n",
        "Encapsulation is closely related to abstraction. It hides the complexity of an object’s implementation details and provides a clear and simple interface for interacting with it.\n",
        "This separation between interface and implementation makes it easier to change an object’s internal workings without affecting the rest of the program.\n",
        "Example: A TV class might have a power_on() method, but the internal details of how it powers on (e.g., through electrical signals or software) are hidden from the user of the class.\n"
      ],
      "metadata": {
        "id": "ujbC_fKyBia8"
      }
    },
    {
      "cell_type": "markdown",
      "source": [
        "Que.52) Create a decorator in Python that adds functionality to a simple function by printing a message before\n",
        "and after the function execution"
      ],
      "metadata": {
        "id": "9gvczaWEB7y3"
      }
    },
    {
      "cell_type": "code",
      "source": [
        "# Defining the decorator\n",
        "def print_messages(func):\n",
        "    def wrapper(*args, **kwargs):\n",
        "        print(\"Before function execution\")\n",
        "        result = func(*args, **kwargs)  # Call the original function\n",
        "        print(\"After function execution\")\n",
        "        return result\n",
        "    return wrapper\n",
        "\n",
        "# Applying the decorator to a simple function\n",
        "@print_messages\n",
        "def greet(name):\n",
        "    print(f\"Hello, {name}!\")\n",
        "\n",
        "# Calling the decorated function\n",
        "greet(\"Alice\")\n"
      ],
      "metadata": {
        "colab": {
          "base_uri": "https://localhost:8080/"
        },
        "id": "QKssF-jaCSKg",
        "outputId": "80afa663-b2e5-4c33-8079-8bd1b9228ed4"
      },
      "execution_count": null,
      "outputs": [
        {
          "metadata": {
            "tags": null
          },
          "name": "stdout",
          "output_type": "stream",
          "text": [
            "Before function execution\n",
            "Hello, Alice!\n",
            "After function execution\n"
          ]
        }
      ]
    },
    {
      "cell_type": "markdown",
      "source": [
        "Que.53) Modify the decorator to accept arguments and print the function name along with the message\n",
        "Solutiom - To modify the decorator to accept arguments and print the function name along with the message, we need to structure the decorator as a decorator factory (a function that returns a decorator). This will allow us to pass arguments to the decorator while still providing the ability to print the function name along with a custom message.\n",
        "\n",
        "Here’s the modified version of the decorator:\n",
        "\n"
      ],
      "metadata": {
        "id": "KTlfVnYJCYDo"
      }
    },
    {
      "cell_type": "code",
      "source": [
        "#Updated Decorator with Arguments and Function Name:\n",
        "# Defining the decorator that accepts an argument\n",
        "def print_messages_with_args(message):\n",
        "    # This is the actual decorator\n",
        "    def decorator(func):\n",
        "        # Wrapper function to add additional functionality\n",
        "        def wrapper(*args, **kwargs):\n",
        "            # Print message before executing the function\n",
        "            print(f\"{message} - Before executing {func.__name__}\")\n",
        "            result = func(*args, **kwargs)  # Call the original function\n",
        "            # Print message after executing the function\n",
        "            print(f\"{message} - After executing {func.__name__}\")\n",
        "            return result\n",
        "        return wrapper\n",
        "    return decorator\n",
        "\n",
        "# Applying the decorator with a custom message\n",
        "@print_messages_with_args(\"Custom Message\")\n",
        "def greet(name):\n",
        "    print(f\"Hello, {name}!\")\n",
        "\n",
        "# Calling the decorated function\n",
        "greet(\"Alice\")\n",
        "\n",
        "\n"
      ],
      "metadata": {
        "colab": {
          "base_uri": "https://localhost:8080/"
        },
        "id": "ULH1wvLhCldz",
        "outputId": "6b1658ac-e724-43dd-f4c0-91303792020e"
      },
      "execution_count": null,
      "outputs": [
        {
          "output_type": "stream",
          "name": "stdout",
          "text": [
            "Custom Message - Before executing greet\n",
            "Hello, Alice!\n",
            "Custom Message - After executing greet\n"
          ]
        }
      ]
    },
    {
      "cell_type": "markdown",
      "source": [
        "Que.54 Create two decorators, and apply them to a single function. Ensure that they execute in the order they are\n",
        "applied\n",
        "Solution - In Python, when you apply multiple decorators to a function, they execute from the bottom up. This means that the decorator closest to the function is executed first, and the one further up the stack is executed last. Below is an example"
      ],
      "metadata": {
        "id": "xgKk4MUhDJIu"
      }
    },
    {
      "cell_type": "code",
      "source": [
        "#Two Decorators Applied to a Single Function\n",
        "# First decorator: prints a message before the function execution\n",
        "def decorator_one(func):\n",
        "    def wrapper(*args, **kwargs):\n",
        "        print(\"Decorator One: Before function execution\")\n",
        "        return func(*args, **kwargs)\n",
        "    return wrapper\n",
        "\n",
        "# Second decorator: prints a message after the function execution\n",
        "def decorator_two(func):\n",
        "    def wrapper(*args, **kwargs):\n",
        "        result = func(*args, **kwargs)\n",
        "        print(\"Decorator Two: After function execution\")\n",
        "        return result\n",
        "    return wrapper\n",
        "\n",
        "# Applying both decorators to a single function\n",
        "@decorator_one\n",
        "@decorator_two\n",
        "def greet(name):\n",
        "    print(f\"Hello, {name}!\")\n",
        "\n",
        "# Calling the decorated function\n",
        "greet(\"Alice\")\n"
      ],
      "metadata": {
        "colab": {
          "base_uri": "https://localhost:8080/"
        },
        "id": "VFBtvDhzDVGk",
        "outputId": "1ef3814d-d95f-431c-85cd-b12346b95ab5"
      },
      "execution_count": null,
      "outputs": [
        {
          "output_type": "stream",
          "name": "stdout",
          "text": [
            "Decorator One: Before function execution\n",
            "Hello, Alice!\n",
            "Decorator Two: After function execution\n"
          ]
        }
      ]
    },
    {
      "cell_type": "markdown",
      "source": [
        "QUe.55) Modify the decorator to accept and pass function arguments to the wrapped function/\n"
      ],
      "metadata": {
        "id": "R-mS4B7ODa2d"
      }
    },
    {
      "cell_type": "code",
      "source": [
        "#Modified Decorators with Arguments Handling\n",
        "# First decorator: prints a message before the function execution\n",
        "def decorator_one(func):\n",
        "    def wrapper(*args, **kwargs):\n",
        "        print(\"Decorator One: Before function execution\")\n",
        "        result = func(*args, **kwargs)  # Passing arguments to the wrapped function\n",
        "        return result\n",
        "    return wrapper\n",
        "\n",
        "# Second decorator: prints a message after the function execution\n",
        "def decorator_two(func):\n",
        "    def wrapper(*args, **kwargs):\n",
        "        result = func(*args, **kwargs)  # Passing arguments to the wrapped function\n",
        "        print(\"Decorator Two: After function execution\")\n",
        "        return result\n",
        "    return wrapper\n",
        "\n",
        "# Applying both decorators to a single function\n",
        "@decorator_one\n",
        "@decorator_two\n",
        "def greet(name, age):\n",
        "    print(f\"Hello, {name}! You are {age} years old.\")\n",
        "\n",
        "# Calling the decorated function with arguments\n",
        "greet(\"Alice\", 30)\n",
        "\n"
      ],
      "metadata": {
        "colab": {
          "base_uri": "https://localhost:8080/"
        },
        "id": "eMEdiEIxDn3w",
        "outputId": "2ff5991b-6a08-4454-e8c7-392f06654a7e"
      },
      "execution_count": null,
      "outputs": [
        {
          "output_type": "stream",
          "name": "stdout",
          "text": [
            "Decorator One: Before function execution\n",
            "Hello, Alice! You are 30 years old.\n",
            "Decorator Two: After function execution\n"
          ]
        }
      ]
    },
    {
      "cell_type": "markdown",
      "source": [
        "Que.56)Create a decorator that preserves the metadata of the original function\n",
        "Solution - In Python, when you apply a decorator to a function, the metadata of the original function, such as its name, docstring, and other attributes, can be lost in the process. To preserve the metadata, you can use the functools.wraps utility, which is designed to copy the metadata from the original function to the decorated function.\n"
      ],
      "metadata": {
        "id": "ZYBU4-TRD6-A"
      }
    },
    {
      "cell_type": "code",
      "source": [
        "#Decorator to Preserve Metadata\n",
        "\n",
        "import functools\n",
        "\n",
        "# Decorator to preserve metadata of the original function\n",
        "def preserve_metadata(func):\n",
        "    @functools.wraps(func)  # Preserve the original function's metadata\n",
        "    def wrapper(*args, **kwargs):\n",
        "        print(f\"Executing {func.__name__}\")\n",
        "        return func(*args, **kwargs)\n",
        "    return wrapper\n",
        "\n",
        "# Applying the decorator to a function\n",
        "@preserve_metadata\n",
        "def greet(name, age):\n",
        "    \"\"\"Greets the user with their name and age.\"\"\"\n",
        "    print(f\"Hello, {name}! You are {age} years old.\")\n",
        "\n",
        "# Calling the decorated function\n",
        "greet(\"Alice\", 30)\n",
        "\n",
        "# Checking the metadata of the decorated function\n",
        "print(f\"Function name: {greet.__name__}\")\n",
        "print(f\"Function docstring: {greet.__doc__}\")\n"
      ],
      "metadata": {
        "colab": {
          "base_uri": "https://localhost:8080/"
        },
        "id": "5nvxPkCTEFce",
        "outputId": "51251728-011d-4c8b-9732-26e6d0a051b0"
      },
      "execution_count": null,
      "outputs": [
        {
          "output_type": "stream",
          "name": "stdout",
          "text": [
            "Executing greet\n",
            "Hello, Alice! You are 30 years old.\n",
            "Function name: greet\n",
            "Function docstring: Greets the user with their name and age.\n"
          ]
        }
      ]
    },
    {
      "cell_type": "markdown",
      "source": [
        "Que.57)Create a Python class `Calculator` with a static method `add` that takes in two numbers and returns their\n",
        "sum/"
      ],
      "metadata": {
        "id": "McS-K-lGEVmw"
      }
    },
    {
      "cell_type": "code",
      "source": [
        "class Calculator:\n",
        "    @staticmethod\n",
        "    def add(a, b):\n",
        "        \"\"\"Returns the sum of two numbers.\"\"\"\n",
        "        return a + b\n",
        "\n",
        "# Using the static method without creating an instance of the class\n",
        "result = Calculator.add(5, 3)\n",
        "\n",
        "# Output the result\n",
        "print(\"Sum:\", result)\n"
      ],
      "metadata": {
        "colab": {
          "base_uri": "https://localhost:8080/"
        },
        "id": "23UpQHr9Eahp",
        "outputId": "1e4be877-b555-48d1-a8da-4866cf66bb72"
      },
      "execution_count": null,
      "outputs": [
        {
          "output_type": "stream",
          "name": "stdout",
          "text": [
            "Sum: 8\n"
          ]
        }
      ]
    },
    {
      "cell_type": "markdown",
      "source": [
        "Que.58) Create a Python class `Employee` with a class `method get_employee_count` that returns the total\n",
        "number of employees created/"
      ],
      "metadata": {
        "id": "4hOKygKgEeYy"
      }
    },
    {
      "cell_type": "code",
      "source": [
        "class Employee:\n",
        "    # Class variable to keep track of the number of employees\n",
        "    employee_count = 0\n",
        "\n",
        "    def __init__(self, name, position):\n",
        "        self.name = name\n",
        "        self.position = position\n",
        "        # Increment the employee count whenever a new Employee object is created\n",
        "        Employee.employee_count += 1\n",
        "\n",
        "    @classmethod\n",
        "    def get_employee_count(cls):\n",
        "        \"\"\"Returns the total number of employees created.\"\"\"\n",
        "        return cls.employee_count\n",
        "\n",
        "# Creating Employee instances\n",
        "emp1 = Employee(\"Alice\", \"Manager\")\n",
        "emp2 = Employee(\"Bob\", \"Developer\")\n",
        "emp3 = Employee(\"Charlie\", \"Designer\")\n",
        "\n",
        "# Getting the total number of employees created using the class method\n",
        "print(\"Total Employees:\", Employee.get_employee_count())\n",
        "\n"
      ],
      "metadata": {
        "colab": {
          "base_uri": "https://localhost:8080/"
        },
        "id": "UG4h1gNLErYm",
        "outputId": "07fdd5af-1343-467f-ef6b-f66321c62185"
      },
      "execution_count": null,
      "outputs": [
        {
          "output_type": "stream",
          "name": "stdout",
          "text": [
            "Total Employees: 3\n"
          ]
        }
      ]
    },
    {
      "cell_type": "markdown",
      "source": [
        "Que-59)Create a Python class `StringFormatter` with a static method `reverse_string` that takes a string as input\n",
        "and returns its reverse/"
      ],
      "metadata": {
        "id": "kkvrHPvuEwUD"
      }
    },
    {
      "cell_type": "code",
      "source": [
        "class StringFormatter:\n",
        "    @staticmethod\n",
        "    def reverse_string(input_string):\n",
        "        \"\"\"Returns the reverse of the given string.\"\"\"\n",
        "        return input_string[::-1]\n",
        "\n",
        "# Using the static method to reverse a string\n",
        "result = StringFormatter.reverse_string(\"Hello, World!\")\n",
        "\n",
        "# Output the result\n",
        "print(\"Reversed String:\", result)\n"
      ],
      "metadata": {
        "colab": {
          "base_uri": "https://localhost:8080/"
        },
        "id": "9DVRzsXbE5RC",
        "outputId": "108adfa9-4e08-4d1b-f7a2-6d4e8d553478"
      },
      "execution_count": null,
      "outputs": [
        {
          "output_type": "stream",
          "name": "stdout",
          "text": [
            "Reversed String: !dlroW ,olleH\n"
          ]
        }
      ]
    },
    {
      "cell_type": "markdown",
      "source": [
        "Que.60)Create a Python class `Circle` with a class method `calculate_area` that calculates the area of a circle\n",
        "given its radius"
      ],
      "metadata": {
        "id": "Ts0pUZseFBFd"
      }
    },
    {
      "cell_type": "code",
      "source": [
        "import math\n",
        "\n",
        "class Circle:\n",
        "    @classmethod\n",
        "    def calculate_area(cls, radius):\n",
        "        \"\"\"Calculates the area of a circle given its radius.\"\"\"\n",
        "        return math.pi * (radius ** 2)\n",
        "\n",
        "# Example usage:\n",
        "radius = 5\n",
        "area = Circle.calculate_area(radius)\n",
        "\n",
        "# Output the result\n",
        "print(f\"The area of the circle with radius {radius} is {area:.2f}\")\n"
      ],
      "metadata": {
        "colab": {
          "base_uri": "https://localhost:8080/"
        },
        "id": "aLtMJP__FQ5v",
        "outputId": "bbfa02cc-56a8-42a6-88da-b1b6d229bee6"
      },
      "execution_count": null,
      "outputs": [
        {
          "output_type": "stream",
          "name": "stdout",
          "text": [
            "The area of the circle with radius 5 is 78.54\n"
          ]
        }
      ]
    },
    {
      "cell_type": "markdown",
      "source": [
        "Que.61)/ Create a Python class `TemperatureConverter` with a static method `celsius_to_fahrenheit` that converts\n",
        "Celsius to Fahrenheit/"
      ],
      "metadata": {
        "id": "KS0lh5YOFR33"
      }
    },
    {
      "cell_type": "code",
      "source": [
        "class TemperatureConverter:\n",
        "    @staticmethod\n",
        "    def celsius_to_fahrenheit(celsius):\n",
        "        \"\"\"Converts Celsius to Fahrenheit.\"\"\"\n",
        "        return (celsius * 9/5) + 32\n",
        "\n",
        "# Example usage:\n",
        "celsius_temp = 25\n",
        "fahrenheit_temp = TemperatureConverter.celsius_to_fahrenheit(celsius_temp)\n",
        "\n",
        "# Output the result\n",
        "print(f\"{celsius_temp}°C is equal to {fahrenheit_temp}°F\")\n"
      ],
      "metadata": {
        "colab": {
          "base_uri": "https://localhost:8080/"
        },
        "id": "mOB6fX5uFZhg",
        "outputId": "f9028f5c-ecad-4910-ca4b-f4e5c3f39286"
      },
      "execution_count": null,
      "outputs": [
        {
          "output_type": "stream",
          "name": "stdout",
          "text": [
            "25°C is equal to 77.0°F\n"
          ]
        }
      ]
    },
    {
      "cell_type": "markdown",
      "source": [
        "Que.62) What is the purpose of the __str__() method in Python classes? Provide an example/"
      ],
      "metadata": {
        "id": "LV-031ldGpHA"
      }
    },
    {
      "cell_type": "code",
      "source": [
        "class Person:\n",
        "    def __init__(self, name, age):\n",
        "        self.name = name\n",
        "        self.age = age\n",
        "\n",
        "    def __str__(self):\n",
        "        \"\"\"Return a string representation of the Person object.\"\"\"\n",
        "        return f\"Person(Name: {self.name}, Age: {self.age})\"\n",
        "\n",
        "# Create an instance of Person\n",
        "person = Person(\"Alice\", 30)\n",
        "\n",
        "# Print the person object (this will call the __str__ method)\n",
        "print(person)  # Output: Person(Name: Alice, Age: 30)\n",
        "\n",
        "# Convert the person object to a string using str()\n",
        "person_str = str(person)\n",
        "print(person_str)  # Output: Person(Name: Alice, Age: 30)\n"
      ],
      "metadata": {
        "colab": {
          "base_uri": "https://localhost:8080/"
        },
        "id": "nj_TSnazGrww",
        "outputId": "9ea01121-7197-4e5d-b287-14947ebe6496"
      },
      "execution_count": null,
      "outputs": [
        {
          "output_type": "stream",
          "name": "stdout",
          "text": [
            "Person(Name: Alice, Age: 30)\n",
            "Person(Name: Alice, Age: 30)\n"
          ]
        }
      ]
    },
    {
      "cell_type": "markdown",
      "source": [
        "Que.63)How does the __len__() method work in Python? Provide an example/"
      ],
      "metadata": {
        "id": "iaz6dLvzGyIQ"
      }
    },
    {
      "cell_type": "code",
      "source": [
        "class MyList:\n",
        "    def __init__(self, items):\n",
        "        self.items = items\n",
        "\n",
        "    def __len__(self):\n",
        "        \"\"\"Return the number of items in the list.\"\"\"\n",
        "        return len(self.items)\n",
        "\n",
        "# Creating an instance of MyList\n",
        "my_list = MyList([1, 2, 3, 4, 5])\n",
        "\n",
        "# Using the len() function to get the length of the custom object\n",
        "print(len(my_list))  # Output: 5\n"
      ],
      "metadata": {
        "colab": {
          "base_uri": "https://localhost:8080/"
        },
        "id": "1CscGeJ9Gz4a",
        "outputId": "dd542268-9745-4873-b039-426dafc74a16"
      },
      "execution_count": null,
      "outputs": [
        {
          "output_type": "stream",
          "name": "stdout",
          "text": [
            "5\n"
          ]
        }
      ]
    },
    {
      "cell_type": "markdown",
      "source": [
        "Que.64)Explain the usage of the __add__() method in Python classes. Provide an example\n",
        "Solution - The __add__() method in Python is a special method (also known as a dunder method) that is used to define the behavior of the + operator for instances of a custom class. When you use the + operator between two objects of a class that implements the __add__() method, this method is automatically invoked to define how the two objects should be added together.\n",
        "\n",
        "This method is useful when you want to customize the addition operation for objects of your class, such as adding two objects, combining their attributes, or performing some other type of custom operation."
      ],
      "metadata": {
        "id": "Y0NEFgsTG8gM"
      }
    },
    {
      "cell_type": "code",
      "source": [
        "def __add__(self, other):\n",
        "    # Define how two objects should be added\n",
        "    pass\n"
      ],
      "metadata": {
        "id": "h92XFBXoG_Ex"
      },
      "execution_count": null,
      "outputs": []
    },
    {
      "cell_type": "markdown",
      "source": [
        "Que.65)What is the purpose of the __getitem__() method in Python? Provide an example\n",
        "Solution - The __getitem__() method in Python is a special method used to define the behavior of indexing operations (using square brackets []) on an object. When you implement __getitem__() in a custom class, it allows you to retrieve elements from the object as if it were a sequence (like a list or tuple) or a mapping (like a dictionary). This method is called automatically when you use square brackets to access an item, such as obj[index].\n",
        "\n",
        "Purpose:\n",
        "The __getitem__() method enables you to access elements in a custom object, similar to how you would access elements in lists, dictionaries, or other container types.\n",
        "It allows your object to behave like a collection, making it more flexible and user-friendly when interacting with it.\n",
        "\n",
        "\n"
      ],
      "metadata": {
        "id": "AVqQO3AJHVNk"
      }
    },
    {
      "cell_type": "code",
      "source": [
        "#Syntax\n",
        "def __getitem__(self, key):\n",
        "    # Retrieve and return the value corresponding to the key or index\n",
        "    pass\n"
      ],
      "metadata": {
        "id": "-f6hwl8lHgTZ"
      },
      "execution_count": null,
      "outputs": []
    },
    {
      "cell_type": "code",
      "source": [
        "#Example\n",
        "class MyList:\n",
        "    def __init__(self, items):\n",
        "        self.items = items\n",
        "\n",
        "    def __getitem__(self, index):\n",
        "        \"\"\"Return the item at the given index.\"\"\"\n",
        "        return self.items[index]\n",
        "\n",
        "# Creating an instance of MyList\n",
        "my_list = MyList([10, 20, 30, 40, 50])\n",
        "\n",
        "# Accessing elements using the custom __getitem__ method\n",
        "print(my_list[0])  # Output: 10\n",
        "print(my_list[3])  # Output: 40\n",
        "\n",
        "# Using negative indexing\n",
        "print(my_list[-1])  # Output: 50\n"
      ],
      "metadata": {
        "colab": {
          "base_uri": "https://localhost:8080/"
        },
        "id": "01l8DsdSHtRO",
        "outputId": "2bc9b34f-f0a0-4986-cf3d-5bb4d212dd36"
      },
      "execution_count": null,
      "outputs": [
        {
          "output_type": "stream",
          "name": "stdout",
          "text": [
            "10\n",
            "40\n",
            "50\n"
          ]
        }
      ]
    },
    {
      "cell_type": "markdown",
      "source": [
        "Que.66)/ Explain the usage of the __iter__() and __next__() methods in Python. Provide an example using\n",
        "iterators/\n",
        "Solution - In Python, the __iter__() and __next__() methods are used to implement iterators, which allow you to iterate over an object (like a list, tuple, or dictionary) one item at a time using a loop (e.g., for loop). These methods are part of Python's iterator protocol and are typically implemented in custom classes to make them iterable.\n",
        "\n",
        "Iterator Protocol in Python:\n",
        "__iter__(): This method is responsible for returning the iterator object itself. It is called when an iteration starts (e.g., in a for loop). If a class is iterable, the __iter__() method should return an iterator object that supports the __next__() method.\n",
        "\n",
        "__next__(): This method is used to fetch the next item from the iterator. When called, it should return the next item in the sequence. If there are no more items to return, it should raise a StopIteration exception to signal the end of the iteration.\n",
        "\n",
        "Usage:\n",
        "__iter__() makes an object iterable, i.e., allows it to be used in a for loop.\n",
        "__next__() retrieves the next item in the iteration and raises StopIteration when the end is reached."
      ],
      "metadata": {
        "id": "StZCQ4BcH4kP"
      }
    },
    {
      "cell_type": "code",
      "source": [
        "#Let's create a custom iterable class CountDown that counts down from a given number and returns each number one by one.\n",
        "class CountDown:\n",
        "    def __init__(self, start):\n",
        "        self.start = start\n",
        "        self.current = start\n",
        "\n",
        "    def __iter__(self):\n",
        "        \"\"\"Return the iterator object itself.\"\"\"\n",
        "        return self\n",
        "\n",
        "    def __next__(self):\n",
        "        \"\"\"Return the next value in the countdown.\"\"\"\n",
        "        if self.current > 0:\n",
        "            self.current -= 1\n",
        "            return self.current + 1\n",
        "        else:\n",
        "            # When countdown finishes, raise StopIteration\n",
        "            raise StopIteration\n",
        "\n",
        "# Creating an instance of CountDown\n",
        "countdown = CountDown(5)\n",
        "\n",
        "# Using the iterator in a for loop\n",
        "for number in countdown:\n",
        "    print(number)\n"
      ],
      "metadata": {
        "id": "eS6tWTXPIGoa"
      },
      "execution_count": null,
      "outputs": []
    },
    {
      "cell_type": "markdown",
      "source": [
        "Que.67) What is the purpose of a getter method in Python? Provide an example demonstrating the use of a getter\n",
        "method using property decorators/\n",
        "Solution- In Python, a getter method is used to access the value of an object's private attribute. It's part of the concept of encapsulation and allows for controlled access to the object's internal state. The getter method can also include additional logic, such as validation or modification of the value before returning it.\n",
        "\n",
        "Purpose of a Getter Method:\n",
        "Access Control: It allows the class to expose a private attribute while keeping the implementation details hidden.\n",
        "Encapsulation: It ensures that the internal state of an object is only modified in a controlled way.\n",
        "Additional Logic: You can add custom behavior inside the getter, such as formatting or processing the value before it is returned.\n",
        "Data Integrity: By controlling how attributes are accessed, you can ensure that they are not modified inappropriately.\n",
        "Using Property Decorators:\n",
        "In Python, getter methods are often defined using the @property decorator. This decorator allows you to define a method that can be accessed like an attribute (i.e., without parentheses)."
      ],
      "metadata": {
        "id": "AafLtb_hIT2X"
      }
    },
    {
      "cell_type": "code",
      "source": [
        "class Rectangle:\n",
        "    def __init__(self, width, height):\n",
        "        self._width = width\n",
        "        self._height = height\n",
        "\n",
        "    # Getter for area using property decorator\n",
        "    @property\n",
        "    def area(self):\n",
        "        return self._width * self._height\n",
        "\n",
        "# Creating an instance of Rectangle\n",
        "rect = Rectangle(5, 10)\n",
        "\n",
        "# Accessing the area using the getter method\n",
        "print(f\"Area of the rectangle: {rect.area}\")  # Output: Area of the rectangle: 50\n"
      ],
      "metadata": {
        "colab": {
          "base_uri": "https://localhost:8080/"
        },
        "id": "HYPifrkbIgnc",
        "outputId": "8b9aa499-69c3-4202-ee9a-e33ecb578790"
      },
      "execution_count": null,
      "outputs": [
        {
          "output_type": "stream",
          "name": "stdout",
          "text": [
            "Area of the rectangle: 50\n"
          ]
        }
      ]
    },
    {
      "cell_type": "markdown",
      "source": [
        "QUe.68)Explain the role of setter methods in Python. Demonstrate how to use a setter method to modify a class\n",
        "attribute using property decorators\n",
        "Solution - In Python, setter methods are used to modify the value of an object's private attribute. Just like getter methods, setter methods play an important role in encapsulation, providing controlled access to modifying an object's internal state.\n",
        "\n",
        "Role of Setter Methods:\n",
        "Controlled Attribute Modification: Setter methods allow for controlled modification of private or protected attributes.\n",
        "Validation: You can add validation logic inside the setter to ensure that the values being assigned are valid.\n",
        "Encapsulation: Setter methods allow the internal state of an object to be hidden from the outside world, while still providing a safe way to modify it.\n",
        "Additional Logic: You can add additional behavior, such as logging or triggering other actions, whenever an attribute is modified.\n",
        "Using Property Decorators for Setter Methods:\n",
        "In Python, setter methods can be defined using the @property decorator for the getter and @<getter_name>.setter for the setter. This allows you to have a getter and setter for an attribute, but access it like a regular attribute (without parentheses)."
      ],
      "metadata": {
        "id": "TqKY0Qo-InD3"
      }
    },
    {
      "cell_type": "code",
      "source": [
        "class Rectangle:\n",
        "    def __init__(self, width, height):\n",
        "        self._width = width\n",
        "        self._height = height\n",
        "\n",
        "    # Getter for area using property decorator\n",
        "    @property\n",
        "    def area(self):\n",
        "        return self._width * self._height\n",
        "\n",
        "    # Setter for width using property decorator\n",
        "    @property\n",
        "    def width(self):\n",
        "        return self._width\n",
        "\n",
        "    @width.setter\n",
        "    def width(self, value):\n",
        "        if value > 0:  # Validation: width must be positive\n",
        "            self._width = value\n",
        "        else:\n",
        "            print(\"Width must be positive.\")\n",
        "\n",
        "    # Setter for height using property decorator\n",
        "    @property\n",
        "    def height(self):\n",
        "        return self._height\n",
        "\n",
        "    @height.setter\n",
        "    def height(self, value):\n",
        "        if value > 0:  # Validation: height must be positive\n",
        "            self._height = value\n",
        "        else:\n",
        "            print(\"Height must be positive.\")\n",
        "\n",
        "# Creating an instance of Rectangle\n",
        "rect = Rectangle(5, 10)\n",
        "\n",
        "# Accessing the area using the getter method\n",
        "print(f\"Area of the rectangle: {rect.area}\")  # Output: Area of the rectangle: 50\n",
        "\n",
        "# Modifying the width using the setter method\n",
        "rect.width = 7  # Valid value\n",
        "print(f\"Updated Area of the rectangle: {rect.area}\")  # Output: Updated Area of the rectangle: 70\n",
        "\n",
        "# Attempting to set an invalid width\n",
        "rect.width = -3  # Output: Width must be positive.\n",
        "\n",
        "# Modifying the height using the setter method\n",
        "rect.height = 12  # Valid value\n",
        "print(f\"Updated Area of the rectangle: {rect.area}\")  # Output: Updated Area of the rectangle: 84\n"
      ],
      "metadata": {
        "colab": {
          "base_uri": "https://localhost:8080/"
        },
        "id": "DatSW3eaIzva",
        "outputId": "2fa37bee-9603-4468-ed62-2cc5ed1b9278"
      },
      "execution_count": null,
      "outputs": [
        {
          "output_type": "stream",
          "name": "stdout",
          "text": [
            "Area of the rectangle: 50\n",
            "Updated Area of the rectangle: 70\n",
            "Width must be positive.\n",
            "Updated Area of the rectangle: 84\n"
          ]
        }
      ]
    },
    {
      "cell_type": "markdown",
      "source": [
        "Que.69)What is the purpose of the @property decorator in Python? Provide an example illustrating its usage\n",
        "Solution - The @property decorator in Python is used to define a getter for a class attribute, allowing you to access a method like a regular attribute (i.e., without using parentheses). This provides a way to compute or return the value of an attribute dynamically, while still maintaining the appearance of direct attribute access.\n",
        "\n",
        "Purpose of @property Decorator:\n",
        "Encapsulation: It allows you to hide the internal implementation of an attribute and expose a calculated or modified version of it.\n",
        "Computed Attributes: It lets you define attributes that are computed dynamically based on other internal attributes.\n",
        "Maintainable Code: It helps in keeping the internal state of the object private while providing a controlled way to access and modify it.\n",
        "Cleaner Code: It allows you to have attribute-like access to methods without needing to explicitly call them as functions.\n",
        "How it Works:\n",
        "The method decorated with @property is accessed like an attribute, but it still behaves as a method.\n",
        "You can use the @property decorator to create a getter method, and similarly, you can define a setter method using @<property_name>.setter.\n"
      ],
      "metadata": {
        "id": "3odWX9pZJe8R"
      }
    },
    {
      "cell_type": "code",
      "source": [
        "class Circle:\n",
        "    def __init__(self, radius):\n",
        "        self._radius = radius  # Private attribute\n",
        "\n",
        "    # Getter for area using the @property decorator\n",
        "    @property\n",
        "    def area(self):\n",
        "        return 3.14 * (self._radius ** 2)\n",
        "\n",
        "    # Getter for radius using the @property decorator\n",
        "    @property\n",
        "    def radius(self):\n",
        "        return self._radius\n",
        "\n",
        "    # Setter for radius using the @radius.setter decorator\n",
        "    @radius.setter\n",
        "    def radius(self, value):\n",
        "        if value > 0:\n",
        "            self._radius = value\n",
        "        else:\n",
        "            print(\"Radius must be a positive value.\")\n",
        "\n",
        "# Create a Circle instance\n",
        "circle = Circle(5)\n",
        "\n",
        "# Accessing area using the property decorator (getter)\n",
        "print(f\"Area of the circle: {circle.area}\")  # Output: Area of the circle: 78.5\n",
        "\n",
        "# Changing the radius using the setter\n",
        "circle.radius = 10\n",
        "print(f\"Updated Area of the circle: {circle.area}\")  # Output: Updated Area of the circle: 314.0\n",
        "\n",
        "# Trying to set an invalid radius\n",
        "circle.radius = -3  # Output: Radius must be a positive value.\n"
      ],
      "metadata": {
        "colab": {
          "base_uri": "https://localhost:8080/"
        },
        "id": "ePbsCudxI9Jq",
        "outputId": "2cf9c8e3-25e3-415a-a9dc-187ab59d014b"
      },
      "execution_count": null,
      "outputs": [
        {
          "output_type": "stream",
          "name": "stdout",
          "text": [
            "Area of the circle: 78.5\n",
            "Updated Area of the circle: 314.0\n",
            "Radius must be a positive value.\n"
          ]
        }
      ]
    },
    {
      "cell_type": "markdown",
      "source": [
        "Que.70)Explain the use of the @deleter decorator in Python property decorators. Provide a code example\n",
        "demonstrating its application\n",
        "Solution - The @deleter decorator in Python's property decorators is used to define a method that deletes an attribute or performs some cleanup when an attribute is deleted. This method allows you to control what happens when you attempt to delete a property, providing a way to intercept and customize the deletion behavior.\n",
        "\n",
        "Purpose of @deleter Decorator:\n",
        "Custom Deletion Logic: It lets you define custom behavior when an attribute is deleted.\n",
        "Cleanup: You can perform any cleanup operations or logging when an attribute is deleted, or even raise an error to prevent deletion.\n",
        "Encapsulation: You can control how and if the internal attributes are deleted, ensuring proper management of the class's state.\n",
        "How it Works:\n",
        "The @deleter decorator is used in conjunction with a @property-decorated method to define the behavior when the attribute is deleted using the del keyword.\n",
        "When the property is deleted, the @deleter method is invoked, allowing you to control the deletion.\n"
      ],
      "metadata": {
        "id": "VEl8ykIAKFk7"
      }
    },
    {
      "cell_type": "code",
      "source": [
        "class Rectangle:\n",
        "    def __init__(self, width, height):\n",
        "        self._width = width\n",
        "        self._height = height\n",
        "\n",
        "    # Getter for width\n",
        "    @property\n",
        "    def width(self):\n",
        "        return self._width\n",
        "\n",
        "    # Setter for width\n",
        "    @width.setter\n",
        "    def width(self, value):\n",
        "        if value > 0:\n",
        "            self._width = value\n",
        "        else:\n",
        "            print(\"Width must be positive.\")\n",
        "\n",
        "    # Getter for height\n",
        "    @property\n",
        "    def height(self):\n",
        "        return self._height\n",
        "\n",
        "    # Setter for height\n",
        "    @height.setter\n",
        "    def height(self, value):\n",
        "        if value > 0:\n",
        "            self._height = value\n",
        "        else:\n",
        "            print(\"Height must be positive.\")\n",
        "\n",
        "    # Deleter for width\n",
        "    @width.deleter\n",
        "    def width(self):\n",
        "        print(\"Deleting width...\")\n",
        "        del self._width\n",
        "\n",
        "    # Deleter for height\n",
        "    @height.deleter\n",
        "    def height(self):\n",
        "        print(\"Deleting height...\")\n",
        "        del self._height\n",
        "\n",
        "# Creating an instance of Rectangle\n",
        "rect = Rectangle(5, 10)\n",
        "\n",
        "# Accessing width and height\n",
        "print(f\"Width: {rect.width}\")  # Output: Width: 5\n",
        "print(f\"Height: {rect.height}\")  # Output: Height: 10\n",
        "\n",
        "# Modifying width and height\n",
        "rect.width = 8\n",
        "rect.height = 12\n",
        "\n",
        "# Deleting width and height using the deleter method\n",
        "del rect.width  # Output: Deleting width...\n",
        "del rect.height  # Output: Deleting height...\n"
      ],
      "metadata": {
        "colab": {
          "base_uri": "https://localhost:8080/"
        },
        "id": "t9aN_D5eKZ6t",
        "outputId": "640133b1-d15f-4cf6-a44f-42149721cffa"
      },
      "execution_count": null,
      "outputs": [
        {
          "output_type": "stream",
          "name": "stdout",
          "text": [
            "Width: 5\n",
            "Height: 10\n",
            "Deleting width...\n",
            "Deleting height...\n"
          ]
        }
      ]
    },
    {
      "cell_type": "markdown",
      "source": [
        "Que.71)How does encapsulation relate to property decorators in Python? Provide an example showcasing\n",
        "encapsulation using property decorators.\n",
        "Solution - In Python, encapsulation refers to the concept of bundling data (attributes) and methods that operate on the data into a single unit or class, and restricting access to some of the class's components. This ensures that the internal state of the object is protected and that any modification to the state is done in a controlled and predictable manner.\n",
        "\n",
        "The @property decorator plays a key role in encapsulation by providing controlled access to an object's attributes. It allows you to hide the internal representation of an attribute and provides getters (to access the value) and setters (to modify the value) to control how the attribute is accessed or changed.\n",
        "\n",
        "Encapsulation Using Property Decorators:\n",
        "Private Attributes: Encapsulation is typically achieved by using private attributes (i.e., prefixed with an underscore _), which cannot be directly accessed outside the class.\n",
        "Controlled Access: Property decorators (@property, @<property>.setter, and @<property>.deleter) allow you to provide access to these private attributes in a controlled manner, allowing validation, computation, or other behaviors when the attribute is accessed or modified.\n",
        "Preventing Direct Access: The use of @property can prevent direct manipulation of the internal state by redirecting access to getter and setter methods."
      ],
      "metadata": {
        "id": "bixo3RCyKoyt"
      }
    },
    {
      "cell_type": "code",
      "source": [
        "class BankAccount:\n",
        "    def __init__(self, balance):\n",
        "        # Private attribute to store the balance\n",
        "        self._balance = balance\n",
        "\n",
        "    # Getter for balance using property decorator\n",
        "    @property\n",
        "    def balance(self):\n",
        "        return self._balance\n",
        "\n",
        "    # Setter for balance using property decorator\n",
        "    @balance.setter\n",
        "    def balance(self, amount):\n",
        "        if amount >= 0:\n",
        "            self._balance = amount\n",
        "        else:\n",
        "            print(\"Balance cannot be negative!\")\n",
        "\n",
        "    # Method to deposit money\n",
        "    def deposit(self, amount):\n",
        "        if amount > 0:\n",
        "            self._balance += amount\n",
        "        else:\n",
        "            print(\"Deposit amount must be positive.\")\n",
        "\n",
        "    # Method to withdraw money\n",
        "    def withdraw(self, amount):\n",
        "        if amount > 0 and amount <= self._balance:\n",
        "            self._balance -= amount\n",
        "        else:\n",
        "            print(\"Invalid withdrawal amount.\")\n",
        "\n",
        "# Create an instance of BankAccount\n",
        "account = BankAccount(1000)\n",
        "\n",
        "# Accessing balance using the property getter\n",
        "print(f\"Initial Balance: {account.balance}\")  # Output: Initial Balance: 1000\n",
        "\n",
        "# Modifying balance using the setter\n",
        "account.balance = 1200  # Valid balance update\n",
        "print(f\"Updated Balance: {account.balance}\")  # Output: Updated Balance: 1200\n",
        "\n",
        "# Trying to set a negative balance (will trigger validation in the setter)\n",
        "account.balance = -500  # Output: Balance cannot be negative!\n",
        "\n",
        "# Deposit and withdraw money using methods\n",
        "account.deposit(200)\n",
        "account.withdraw(500)\n",
        "print(f\"Balance after deposit and withdrawal: {account.balance}\")  # Output: Balance after deposit and withdrawal: 900\n"
      ],
      "metadata": {
        "colab": {
          "base_uri": "https://localhost:8080/"
        },
        "id": "emvosHaUK0t-",
        "outputId": "9f1944e6-1308-432b-a923-3d91313355d0"
      },
      "execution_count": null,
      "outputs": [
        {
          "output_type": "stream",
          "name": "stdout",
          "text": [
            "Initial Balance: 1000\n",
            "Updated Balance: 1200\n",
            "Balance cannot be negative!\n",
            "Balance after deposit and withdrawal: 900\n"
          ]
        }
      ]
    }
  ]
}