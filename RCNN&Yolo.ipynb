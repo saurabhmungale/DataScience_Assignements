{
  "nbformat": 4,
  "nbformat_minor": 0,
  "metadata": {
    "colab": {
      "provenance": [],
      "toc_visible": true,
      "authorship_tag": "ABX9TyOJ0E41ed9E+FOxXqhZt/gu",
      "include_colab_link": true
    },
    "kernelspec": {
      "name": "python3",
      "display_name": "Python 3"
    },
    "language_info": {
      "name": "python"
    }
  },
  "cells": [
    {
      "cell_type": "markdown",
      "metadata": {
        "id": "view-in-github",
        "colab_type": "text"
      },
      "source": [
        "<a href=\"https://colab.research.google.com/github/saurabhmungale/DataScience_Assignements/blob/main/RCNN%26Yolo.ipynb\" target=\"_parent\"><img src=\"https://colab.research.google.com/assets/colab-badge.svg\" alt=\"Open In Colab\"/></a>"
      ]
    },
    {
      "cell_type": "markdown",
      "source": [
        "Que.1. How do you load and run inference on a custom image using the YOLOv8 model (labeled as YOLOv9)6\n"
      ],
      "metadata": {
        "id": "fvdR3u93VkqN"
      }
    },
    {
      "source": [
        "import cv2\n",
        "import matplotlib.pyplot as plt\n",
        "from ultralytics import YOLO\n",
        "\n",
        "# Load YOLOv8 model\n",
        "model = YOLO('yolov8n.pt')  # Load a pretrained model\n",
        "\n",
        "# Load and process the image\n",
        "# Replace 'path_to_your_image.jpg' with the correct path to your image\n",
        "img_path = 'path/to/your/image.jpg'\n",
        "img = cv2.imread(img_path)\n",
        "\n",
        "# Check if the image was loaded successfully\n",
        "if img is None:\n",
        "    print(f\"Error: Could not load image from {img_path}. Please check the path and ensure the file exists.\")\n",
        "else:\n",
        "    img_rgb = cv2.cvtColor(img, cv2.COLOR_BGR2RGB)\n",
        "\n",
        "    # Run inference\n",
        "    results = model(img)\n",
        "    # ... (rest of your code) ..."
      ],
      "cell_type": "code",
      "metadata": {
        "colab": {
          "base_uri": "https://localhost:8080/"
        },
        "id": "-dHVupDLWPti",
        "outputId": "1f5aaa83-de55-4616-e7a4-46241d8b65a4"
      },
      "execution_count": null,
      "outputs": [
        {
          "output_type": "stream",
          "name": "stdout",
          "text": [
            "Error: Could not load image from path/to/your/image.jpg. Please check the path and ensure the file exists.\n"
          ]
        }
      ]
    },
    {
      "cell_type": "markdown",
      "source": [
        "Que.2.How do you load the Faster RCNN model with a ResNet50 backbone and print its architecture6\n"
      ],
      "metadata": {
        "id": "e5jbhWiAVvvt"
      }
    },
    {
      "cell_type": "markdown",
      "source": [
        "Solution- To load a Faster R-CNN model with a ResNet50 backbone and print its architecture, you can use the PyTorch library along with the torchvision package. The torchvision.models.detection module provides pre-trained Faster R-CNN models, and you can specify the backbone (like ResNet50) during the model loading process."
      ],
      "metadata": {
        "id": "_4_OQ4acWoNA"
      }
    },
    {
      "cell_type": "code",
      "source": [
        "pip install torch torchvision\n"
      ],
      "metadata": {
        "colab": {
          "base_uri": "https://localhost:8080/"
        },
        "id": "KC7CiiPDW4L6",
        "outputId": "1638082b-7368-48b7-a96b-930d5fae520c"
      },
      "execution_count": null,
      "outputs": [
        {
          "output_type": "stream",
          "name": "stdout",
          "text": [
            "Requirement already satisfied: torch in /usr/local/lib/python3.10/dist-packages (2.5.1+cu121)\n",
            "Requirement already satisfied: torchvision in /usr/local/lib/python3.10/dist-packages (0.20.1+cu121)\n",
            "Requirement already satisfied: filelock in /usr/local/lib/python3.10/dist-packages (from torch) (3.16.1)\n",
            "Requirement already satisfied: typing-extensions>=4.8.0 in /usr/local/lib/python3.10/dist-packages (from torch) (4.12.2)\n",
            "Requirement already satisfied: networkx in /usr/local/lib/python3.10/dist-packages (from torch) (3.4.2)\n",
            "Requirement already satisfied: jinja2 in /usr/local/lib/python3.10/dist-packages (from torch) (3.1.4)\n",
            "Requirement already satisfied: fsspec in /usr/local/lib/python3.10/dist-packages (from torch) (2024.10.0)\n",
            "Requirement already satisfied: sympy==1.13.1 in /usr/local/lib/python3.10/dist-packages (from torch) (1.13.1)\n",
            "Requirement already satisfied: mpmath<1.4,>=1.1.0 in /usr/local/lib/python3.10/dist-packages (from sympy==1.13.1->torch) (1.3.0)\n",
            "Requirement already satisfied: numpy in /usr/local/lib/python3.10/dist-packages (from torchvision) (1.26.4)\n",
            "Requirement already satisfied: pillow!=8.3.*,>=5.3.0 in /usr/local/lib/python3.10/dist-packages (from torchvision) (11.0.0)\n",
            "Requirement already satisfied: MarkupSafe>=2.0 in /usr/local/lib/python3.10/dist-packages (from jinja2->torch) (3.0.2)\n"
          ]
        }
      ]
    },
    {
      "cell_type": "markdown",
      "source": [],
      "metadata": {
        "id": "h3gTiI9JW7g8"
      }
    },
    {
      "cell_type": "markdown",
      "source": [
        "Step 2. Load the Faster R-CNN Model with ResNet50 Backbone:"
      ],
      "metadata": {
        "id": "hwSqPbiBW9KW"
      }
    },
    {
      "source": [
        "import torch\n",
        "import torchvision\n",
        "from torchvision import models\n",
        "\n",
        "# Load the pre-trained Faster R-CNN model with ResNet50 backbone and FPN\n",
        "model = models.detection.fasterrcnn_resnet50_fpn(pretrained=True)"
      ],
      "cell_type": "code",
      "metadata": {
        "colab": {
          "base_uri": "https://localhost:8080/"
        },
        "id": "e-5W6ZdWXLiy",
        "outputId": "64302c0e-1b02-4c1a-c1b6-57720e228b3a"
      },
      "execution_count": null,
      "outputs": [
        {
          "output_type": "stream",
          "name": "stderr",
          "text": [
            "/usr/local/lib/python3.10/dist-packages/torchvision/models/_utils.py:208: UserWarning: The parameter 'pretrained' is deprecated since 0.13 and may be removed in the future, please use 'weights' instead.\n",
            "  warnings.warn(\n",
            "/usr/local/lib/python3.10/dist-packages/torchvision/models/_utils.py:223: UserWarning: Arguments other than a weight enum or `None` for 'weights' are deprecated since 0.13 and may be removed in the future. The current behavior is equivalent to passing `weights=FasterRCNN_ResNet50_FPN_Weights.COCO_V1`. You can also use `weights=FasterRCNN_ResNet50_FPN_Weights.DEFAULT` to get the most up-to-date weights.\n",
            "  warnings.warn(msg)\n",
            "Downloading: \"https://download.pytorch.org/models/fasterrcnn_resnet50_fpn_coco-258fb6c6.pth\" to /root/.cache/torch/hub/checkpoints/fasterrcnn_resnet50_fpn_coco-258fb6c6.pth\n",
            "100%|██████████| 160M/160M [00:01<00:00, 152MB/s]\n"
          ]
        }
      ]
    },
    {
      "cell_type": "markdown",
      "source": [
        "Step 3 - Print the Model Architecture:\n",
        "\n"
      ],
      "metadata": {
        "id": "yiYVJaHvXXLh"
      }
    },
    {
      "cell_type": "code",
      "source": [
        "# Print the model architecture\n",
        "print(model)"
      ],
      "metadata": {
        "colab": {
          "base_uri": "https://localhost:8080/"
        },
        "id": "fGDqXGKhXeDZ",
        "outputId": "e8a7a1cc-839c-4ae1-ee50-81cdd0782f45"
      },
      "execution_count": null,
      "outputs": [
        {
          "output_type": "stream",
          "name": "stdout",
          "text": [
            "FasterRCNN(\n",
            "  (transform): GeneralizedRCNNTransform(\n",
            "      Normalize(mean=[0.485, 0.456, 0.406], std=[0.229, 0.224, 0.225])\n",
            "      Resize(min_size=(800,), max_size=1333, mode='bilinear')\n",
            "  )\n",
            "  (backbone): BackboneWithFPN(\n",
            "    (body): IntermediateLayerGetter(\n",
            "      (conv1): Conv2d(3, 64, kernel_size=(7, 7), stride=(2, 2), padding=(3, 3), bias=False)\n",
            "      (bn1): FrozenBatchNorm2d(64, eps=0.0)\n",
            "      (relu): ReLU(inplace=True)\n",
            "      (maxpool): MaxPool2d(kernel_size=3, stride=2, padding=1, dilation=1, ceil_mode=False)\n",
            "      (layer1): Sequential(\n",
            "        (0): Bottleneck(\n",
            "          (conv1): Conv2d(64, 64, kernel_size=(1, 1), stride=(1, 1), bias=False)\n",
            "          (bn1): FrozenBatchNorm2d(64, eps=0.0)\n",
            "          (conv2): Conv2d(64, 64, kernel_size=(3, 3), stride=(1, 1), padding=(1, 1), bias=False)\n",
            "          (bn2): FrozenBatchNorm2d(64, eps=0.0)\n",
            "          (conv3): Conv2d(64, 256, kernel_size=(1, 1), stride=(1, 1), bias=False)\n",
            "          (bn3): FrozenBatchNorm2d(256, eps=0.0)\n",
            "          (relu): ReLU(inplace=True)\n",
            "          (downsample): Sequential(\n",
            "            (0): Conv2d(64, 256, kernel_size=(1, 1), stride=(1, 1), bias=False)\n",
            "            (1): FrozenBatchNorm2d(256, eps=0.0)\n",
            "          )\n",
            "        )\n",
            "        (1): Bottleneck(\n",
            "          (conv1): Conv2d(256, 64, kernel_size=(1, 1), stride=(1, 1), bias=False)\n",
            "          (bn1): FrozenBatchNorm2d(64, eps=0.0)\n",
            "          (conv2): Conv2d(64, 64, kernel_size=(3, 3), stride=(1, 1), padding=(1, 1), bias=False)\n",
            "          (bn2): FrozenBatchNorm2d(64, eps=0.0)\n",
            "          (conv3): Conv2d(64, 256, kernel_size=(1, 1), stride=(1, 1), bias=False)\n",
            "          (bn3): FrozenBatchNorm2d(256, eps=0.0)\n",
            "          (relu): ReLU(inplace=True)\n",
            "        )\n",
            "        (2): Bottleneck(\n",
            "          (conv1): Conv2d(256, 64, kernel_size=(1, 1), stride=(1, 1), bias=False)\n",
            "          (bn1): FrozenBatchNorm2d(64, eps=0.0)\n",
            "          (conv2): Conv2d(64, 64, kernel_size=(3, 3), stride=(1, 1), padding=(1, 1), bias=False)\n",
            "          (bn2): FrozenBatchNorm2d(64, eps=0.0)\n",
            "          (conv3): Conv2d(64, 256, kernel_size=(1, 1), stride=(1, 1), bias=False)\n",
            "          (bn3): FrozenBatchNorm2d(256, eps=0.0)\n",
            "          (relu): ReLU(inplace=True)\n",
            "        )\n",
            "      )\n",
            "      (layer2): Sequential(\n",
            "        (0): Bottleneck(\n",
            "          (conv1): Conv2d(256, 128, kernel_size=(1, 1), stride=(1, 1), bias=False)\n",
            "          (bn1): FrozenBatchNorm2d(128, eps=0.0)\n",
            "          (conv2): Conv2d(128, 128, kernel_size=(3, 3), stride=(2, 2), padding=(1, 1), bias=False)\n",
            "          (bn2): FrozenBatchNorm2d(128, eps=0.0)\n",
            "          (conv3): Conv2d(128, 512, kernel_size=(1, 1), stride=(1, 1), bias=False)\n",
            "          (bn3): FrozenBatchNorm2d(512, eps=0.0)\n",
            "          (relu): ReLU(inplace=True)\n",
            "          (downsample): Sequential(\n",
            "            (0): Conv2d(256, 512, kernel_size=(1, 1), stride=(2, 2), bias=False)\n",
            "            (1): FrozenBatchNorm2d(512, eps=0.0)\n",
            "          )\n",
            "        )\n",
            "        (1): Bottleneck(\n",
            "          (conv1): Conv2d(512, 128, kernel_size=(1, 1), stride=(1, 1), bias=False)\n",
            "          (bn1): FrozenBatchNorm2d(128, eps=0.0)\n",
            "          (conv2): Conv2d(128, 128, kernel_size=(3, 3), stride=(1, 1), padding=(1, 1), bias=False)\n",
            "          (bn2): FrozenBatchNorm2d(128, eps=0.0)\n",
            "          (conv3): Conv2d(128, 512, kernel_size=(1, 1), stride=(1, 1), bias=False)\n",
            "          (bn3): FrozenBatchNorm2d(512, eps=0.0)\n",
            "          (relu): ReLU(inplace=True)\n",
            "        )\n",
            "        (2): Bottleneck(\n",
            "          (conv1): Conv2d(512, 128, kernel_size=(1, 1), stride=(1, 1), bias=False)\n",
            "          (bn1): FrozenBatchNorm2d(128, eps=0.0)\n",
            "          (conv2): Conv2d(128, 128, kernel_size=(3, 3), stride=(1, 1), padding=(1, 1), bias=False)\n",
            "          (bn2): FrozenBatchNorm2d(128, eps=0.0)\n",
            "          (conv3): Conv2d(128, 512, kernel_size=(1, 1), stride=(1, 1), bias=False)\n",
            "          (bn3): FrozenBatchNorm2d(512, eps=0.0)\n",
            "          (relu): ReLU(inplace=True)\n",
            "        )\n",
            "        (3): Bottleneck(\n",
            "          (conv1): Conv2d(512, 128, kernel_size=(1, 1), stride=(1, 1), bias=False)\n",
            "          (bn1): FrozenBatchNorm2d(128, eps=0.0)\n",
            "          (conv2): Conv2d(128, 128, kernel_size=(3, 3), stride=(1, 1), padding=(1, 1), bias=False)\n",
            "          (bn2): FrozenBatchNorm2d(128, eps=0.0)\n",
            "          (conv3): Conv2d(128, 512, kernel_size=(1, 1), stride=(1, 1), bias=False)\n",
            "          (bn3): FrozenBatchNorm2d(512, eps=0.0)\n",
            "          (relu): ReLU(inplace=True)\n",
            "        )\n",
            "      )\n",
            "      (layer3): Sequential(\n",
            "        (0): Bottleneck(\n",
            "          (conv1): Conv2d(512, 256, kernel_size=(1, 1), stride=(1, 1), bias=False)\n",
            "          (bn1): FrozenBatchNorm2d(256, eps=0.0)\n",
            "          (conv2): Conv2d(256, 256, kernel_size=(3, 3), stride=(2, 2), padding=(1, 1), bias=False)\n",
            "          (bn2): FrozenBatchNorm2d(256, eps=0.0)\n",
            "          (conv3): Conv2d(256, 1024, kernel_size=(1, 1), stride=(1, 1), bias=False)\n",
            "          (bn3): FrozenBatchNorm2d(1024, eps=0.0)\n",
            "          (relu): ReLU(inplace=True)\n",
            "          (downsample): Sequential(\n",
            "            (0): Conv2d(512, 1024, kernel_size=(1, 1), stride=(2, 2), bias=False)\n",
            "            (1): FrozenBatchNorm2d(1024, eps=0.0)\n",
            "          )\n",
            "        )\n",
            "        (1): Bottleneck(\n",
            "          (conv1): Conv2d(1024, 256, kernel_size=(1, 1), stride=(1, 1), bias=False)\n",
            "          (bn1): FrozenBatchNorm2d(256, eps=0.0)\n",
            "          (conv2): Conv2d(256, 256, kernel_size=(3, 3), stride=(1, 1), padding=(1, 1), bias=False)\n",
            "          (bn2): FrozenBatchNorm2d(256, eps=0.0)\n",
            "          (conv3): Conv2d(256, 1024, kernel_size=(1, 1), stride=(1, 1), bias=False)\n",
            "          (bn3): FrozenBatchNorm2d(1024, eps=0.0)\n",
            "          (relu): ReLU(inplace=True)\n",
            "        )\n",
            "        (2): Bottleneck(\n",
            "          (conv1): Conv2d(1024, 256, kernel_size=(1, 1), stride=(1, 1), bias=False)\n",
            "          (bn1): FrozenBatchNorm2d(256, eps=0.0)\n",
            "          (conv2): Conv2d(256, 256, kernel_size=(3, 3), stride=(1, 1), padding=(1, 1), bias=False)\n",
            "          (bn2): FrozenBatchNorm2d(256, eps=0.0)\n",
            "          (conv3): Conv2d(256, 1024, kernel_size=(1, 1), stride=(1, 1), bias=False)\n",
            "          (bn3): FrozenBatchNorm2d(1024, eps=0.0)\n",
            "          (relu): ReLU(inplace=True)\n",
            "        )\n",
            "        (3): Bottleneck(\n",
            "          (conv1): Conv2d(1024, 256, kernel_size=(1, 1), stride=(1, 1), bias=False)\n",
            "          (bn1): FrozenBatchNorm2d(256, eps=0.0)\n",
            "          (conv2): Conv2d(256, 256, kernel_size=(3, 3), stride=(1, 1), padding=(1, 1), bias=False)\n",
            "          (bn2): FrozenBatchNorm2d(256, eps=0.0)\n",
            "          (conv3): Conv2d(256, 1024, kernel_size=(1, 1), stride=(1, 1), bias=False)\n",
            "          (bn3): FrozenBatchNorm2d(1024, eps=0.0)\n",
            "          (relu): ReLU(inplace=True)\n",
            "        )\n",
            "        (4): Bottleneck(\n",
            "          (conv1): Conv2d(1024, 256, kernel_size=(1, 1), stride=(1, 1), bias=False)\n",
            "          (bn1): FrozenBatchNorm2d(256, eps=0.0)\n",
            "          (conv2): Conv2d(256, 256, kernel_size=(3, 3), stride=(1, 1), padding=(1, 1), bias=False)\n",
            "          (bn2): FrozenBatchNorm2d(256, eps=0.0)\n",
            "          (conv3): Conv2d(256, 1024, kernel_size=(1, 1), stride=(1, 1), bias=False)\n",
            "          (bn3): FrozenBatchNorm2d(1024, eps=0.0)\n",
            "          (relu): ReLU(inplace=True)\n",
            "        )\n",
            "        (5): Bottleneck(\n",
            "          (conv1): Conv2d(1024, 256, kernel_size=(1, 1), stride=(1, 1), bias=False)\n",
            "          (bn1): FrozenBatchNorm2d(256, eps=0.0)\n",
            "          (conv2): Conv2d(256, 256, kernel_size=(3, 3), stride=(1, 1), padding=(1, 1), bias=False)\n",
            "          (bn2): FrozenBatchNorm2d(256, eps=0.0)\n",
            "          (conv3): Conv2d(256, 1024, kernel_size=(1, 1), stride=(1, 1), bias=False)\n",
            "          (bn3): FrozenBatchNorm2d(1024, eps=0.0)\n",
            "          (relu): ReLU(inplace=True)\n",
            "        )\n",
            "      )\n",
            "      (layer4): Sequential(\n",
            "        (0): Bottleneck(\n",
            "          (conv1): Conv2d(1024, 512, kernel_size=(1, 1), stride=(1, 1), bias=False)\n",
            "          (bn1): FrozenBatchNorm2d(512, eps=0.0)\n",
            "          (conv2): Conv2d(512, 512, kernel_size=(3, 3), stride=(2, 2), padding=(1, 1), bias=False)\n",
            "          (bn2): FrozenBatchNorm2d(512, eps=0.0)\n",
            "          (conv3): Conv2d(512, 2048, kernel_size=(1, 1), stride=(1, 1), bias=False)\n",
            "          (bn3): FrozenBatchNorm2d(2048, eps=0.0)\n",
            "          (relu): ReLU(inplace=True)\n",
            "          (downsample): Sequential(\n",
            "            (0): Conv2d(1024, 2048, kernel_size=(1, 1), stride=(2, 2), bias=False)\n",
            "            (1): FrozenBatchNorm2d(2048, eps=0.0)\n",
            "          )\n",
            "        )\n",
            "        (1): Bottleneck(\n",
            "          (conv1): Conv2d(2048, 512, kernel_size=(1, 1), stride=(1, 1), bias=False)\n",
            "          (bn1): FrozenBatchNorm2d(512, eps=0.0)\n",
            "          (conv2): Conv2d(512, 512, kernel_size=(3, 3), stride=(1, 1), padding=(1, 1), bias=False)\n",
            "          (bn2): FrozenBatchNorm2d(512, eps=0.0)\n",
            "          (conv3): Conv2d(512, 2048, kernel_size=(1, 1), stride=(1, 1), bias=False)\n",
            "          (bn3): FrozenBatchNorm2d(2048, eps=0.0)\n",
            "          (relu): ReLU(inplace=True)\n",
            "        )\n",
            "        (2): Bottleneck(\n",
            "          (conv1): Conv2d(2048, 512, kernel_size=(1, 1), stride=(1, 1), bias=False)\n",
            "          (bn1): FrozenBatchNorm2d(512, eps=0.0)\n",
            "          (conv2): Conv2d(512, 512, kernel_size=(3, 3), stride=(1, 1), padding=(1, 1), bias=False)\n",
            "          (bn2): FrozenBatchNorm2d(512, eps=0.0)\n",
            "          (conv3): Conv2d(512, 2048, kernel_size=(1, 1), stride=(1, 1), bias=False)\n",
            "          (bn3): FrozenBatchNorm2d(2048, eps=0.0)\n",
            "          (relu): ReLU(inplace=True)\n",
            "        )\n",
            "      )\n",
            "    )\n",
            "    (fpn): FeaturePyramidNetwork(\n",
            "      (inner_blocks): ModuleList(\n",
            "        (0): Conv2dNormActivation(\n",
            "          (0): Conv2d(256, 256, kernel_size=(1, 1), stride=(1, 1))\n",
            "        )\n",
            "        (1): Conv2dNormActivation(\n",
            "          (0): Conv2d(512, 256, kernel_size=(1, 1), stride=(1, 1))\n",
            "        )\n",
            "        (2): Conv2dNormActivation(\n",
            "          (0): Conv2d(1024, 256, kernel_size=(1, 1), stride=(1, 1))\n",
            "        )\n",
            "        (3): Conv2dNormActivation(\n",
            "          (0): Conv2d(2048, 256, kernel_size=(1, 1), stride=(1, 1))\n",
            "        )\n",
            "      )\n",
            "      (layer_blocks): ModuleList(\n",
            "        (0-3): 4 x Conv2dNormActivation(\n",
            "          (0): Conv2d(256, 256, kernel_size=(3, 3), stride=(1, 1), padding=(1, 1))\n",
            "        )\n",
            "      )\n",
            "      (extra_blocks): LastLevelMaxPool()\n",
            "    )\n",
            "  )\n",
            "  (rpn): RegionProposalNetwork(\n",
            "    (anchor_generator): AnchorGenerator()\n",
            "    (head): RPNHead(\n",
            "      (conv): Sequential(\n",
            "        (0): Conv2dNormActivation(\n",
            "          (0): Conv2d(256, 256, kernel_size=(3, 3), stride=(1, 1), padding=(1, 1))\n",
            "          (1): ReLU(inplace=True)\n",
            "        )\n",
            "      )\n",
            "      (cls_logits): Conv2d(256, 3, kernel_size=(1, 1), stride=(1, 1))\n",
            "      (bbox_pred): Conv2d(256, 12, kernel_size=(1, 1), stride=(1, 1))\n",
            "    )\n",
            "  )\n",
            "  (roi_heads): RoIHeads(\n",
            "    (box_roi_pool): MultiScaleRoIAlign(featmap_names=['0', '1', '2', '3'], output_size=(7, 7), sampling_ratio=2)\n",
            "    (box_head): TwoMLPHead(\n",
            "      (fc6): Linear(in_features=12544, out_features=1024, bias=True)\n",
            "      (fc7): Linear(in_features=1024, out_features=1024, bias=True)\n",
            "    )\n",
            "    (box_predictor): FastRCNNPredictor(\n",
            "      (cls_score): Linear(in_features=1024, out_features=91, bias=True)\n",
            "      (bbox_pred): Linear(in_features=1024, out_features=364, bias=True)\n",
            "    )\n",
            "  )\n",
            ")\n"
          ]
        }
      ]
    },
    {
      "cell_type": "markdown",
      "source": [
        "Que.3,How do you perform inference on an online image using the Faster RCNN model and print the predictions6\n"
      ],
      "metadata": {
        "id": "YF0uOWvtXlMm"
      }
    },
    {
      "source": [
        "import torch\n",
        "from torchvision import models, transforms\n",
        "from PIL import Image\n",
        "import requests\n",
        "from io import BytesIO\n",
        "import matplotlib.pyplot as plt\n",
        "\n",
        "# Load the pre-trained Faster R-CNN model with ResNet50 backbone and FPN\n",
        "model = models.detection.fasterrcnn_resnet50_fpn(pretrained=True)\n",
        "model.eval()  # Set the model to evaluation mode\n",
        "\n",
        "# Function to load an image from a URL\n",
        "def load_image_from_url(url):\n",
        "    response = requests.get(url, stream=True)  # Get response in stream mode\n",
        "    response.raise_for_status()  # Raise an exception for bad responses (4xx or 5xx)\n",
        "    img = Image.open(BytesIO(response.content))\n",
        "    return img\n",
        "\n",
        "# Example: Load an image from an online URL\n",
        "# Replace with your image URL\n",
        "url = \"https://upload.wikimedia.org/wikipedia/commons/thumb/d/d9/Collage_of_Nine_Dogs.jpg/1280px-Collage_of_\""
      ],
      "cell_type": "code",
      "metadata": {
        "colab": {
          "base_uri": "https://localhost:8080/"
        },
        "id": "cWql1E1lYIGe",
        "outputId": "bf65116f-43d6-4502-acb4-5fab081c9b1a"
      },
      "execution_count": null,
      "outputs": [
        {
          "output_type": "stream",
          "name": "stderr",
          "text": [
            "/usr/local/lib/python3.10/dist-packages/torchvision/models/_utils.py:208: UserWarning: The parameter 'pretrained' is deprecated since 0.13 and may be removed in the future, please use 'weights' instead.\n",
            "  warnings.warn(\n",
            "/usr/local/lib/python3.10/dist-packages/torchvision/models/_utils.py:223: UserWarning: Arguments other than a weight enum or `None` for 'weights' are deprecated since 0.13 and may be removed in the future. The current behavior is equivalent to passing `weights=FasterRCNN_ResNet50_FPN_Weights.COCO_V1`. You can also use `weights=FasterRCNN_ResNet50_FPN_Weights.DEFAULT` to get the most up-to-date weights.\n",
            "  warnings.warn(msg)\n"
          ]
        }
      ]
    },
    {
      "cell_type": "markdown",
      "source": [
        "Que.4. How do you load an image and perform inference using YOLOv9, then display the detected objects with\n",
        "bounding boxes and class labels6"
      ],
      "metadata": {
        "id": "U5gyGUtEXuXU"
      }
    },
    {
      "source": [
        "from ultralytics import YOLO\n",
        "import cv2\n",
        "import matplotlib.pyplot as plt\n",
        "\n",
        "# Load YOLOv9 (YOLOv8) model\n",
        "model = YOLO('yolov8n.pt')  # You can load a different YOLOv8 model like yolov8s.pt, yolov8m.pt, etc.\n",
        "\n",
        "# Function to load an image\n",
        "def load_image(image_path):\n",
        "    # If the image is from a URL, you can fetch it using requests or urllib\n",
        "    img = cv2.imread(image_path)  # Load image using OpenCV\n",
        "\n",
        "    # Check if image was loaded successfully\n",
        "    if img is None:\n",
        "        print(f\"Error: Could not load image from {image_path}. Please check the path and ensure the file exists.\")\n",
        "        return None, None # Return None for both img and img_rgb if loading fails\n",
        "\n",
        "    img_rgb = cv2.cvtColor(img, cv2.COLOR_BGR2RGB)  # Convert BGR to RGB for displaying with matplotlib\n",
        "    return img, img_rgb\n",
        "\n",
        "#"
      ],
      "cell_type": "code",
      "metadata": {
        "id": "BZKzpcZWX-g9"
      },
      "execution_count": null,
      "outputs": []
    },
    {
      "cell_type": "markdown",
      "source": [
        "Que.5.How do you display bounding boxes for the detected objects in an image using Faster RCNN6\n"
      ],
      "metadata": {
        "id": "Db39ZJXwZ4Ri"
      }
    },
    {
      "source": [
        "import torch\n",
        "from torchvision import models, transforms\n",
        "from PIL import Image\n",
        "import matplotlib.pyplot as plt\n",
        "import cv2\n",
        "import numpy as np # Import numpy\n",
        "\n",
        "\n",
        "# Load the image\n",
        "# image_path = 'path_to_your_image.jpg'  # Replace with your image file path\n",
        "image_path = '/content/image.jpg'  # Replace with your actual image file path, ensure file exists\n",
        "# If your image is not in the current directory, provide the full path\n",
        "# Example: image_path = '/path/to/your/image.jpg'\n",
        "\n",
        "# Load the image\n",
        "# (Check if image exists before trying to load it)\n",
        "try:\n",
        "    img = Image.open(image_path)\n",
        "except FileNotFoundError:\n",
        "    print(f\"Error: Image file not found at {image_path}\")\n",
        "    exit()  # Exit if image not found\n",
        "\n",
        "# ... (rest of your code)"
      ],
      "cell_type": "code",
      "metadata": {
        "colab": {
          "base_uri": "https://localhost:8080/"
        },
        "id": "IdgnV1ffar3K",
        "outputId": "6e599bcc-cf8c-4697-bbbb-95ecbfc7f07b"
      },
      "execution_count": null,
      "outputs": [
        {
          "output_type": "stream",
          "name": "stdout",
          "text": [
            "Error: Image file not found at /content/image.jpg\n"
          ]
        }
      ]
    },
    {
      "cell_type": "markdown",
      "source": [
        "Que.6. How do you perform inference on a local image using Faster RCNN6\n"
      ],
      "metadata": {
        "id": "IvAdo48SaFJA"
      }
    },
    {
      "source": [
        "import torch\n",
        "from torchvision import models, transforms\n",
        "from PIL import Image\n",
        "import matplotlib.pyplot as plt\n",
        "import cv2\n",
        "\n",
        "# Load the pre-trained Faster R-CNN model with ResNet50 backbone\n",
        "model = models.detection.fasterrcnn_resnet50_fpn(pretrained=True)\n",
        "model.eval()  # Set the model to evaluation mode\n",
        "\n",
        "# Load and preprocess the image\n",
        "def load_and_preprocess_image(image_path):\n",
        "    # Open the image with PIL\n",
        "    img = Image.open(image_path)\n",
        "\n",
        "    # Transform the image to tensor\n",
        "    transform = transforms.Compose([\n",
        "        transforms.ToTensor(),  # Convert the image to a tensor\n",
        "    ])\n",
        "\n",
        "    img_tensor = transform(img)\n",
        "    return img, img_tensor\n",
        "\n",
        "# Perform inference on the image\n",
        "def perform_inference(img_tensor):\n",
        "    # Add a batch dimension (because the model expects a batch of images)\n",
        "    img_tensor = img_tensor.unsqueeze(0)\n",
        "\n",
        "    # Perform inference without computing gradients (for faster performance)\n",
        "    with torch.no_grad():\n",
        "        predictions = model(img_tensor)\n"
      ],
      "cell_type": "code",
      "metadata": {
        "colab": {
          "base_uri": "https://localhost:8080/"
        },
        "id": "7xnucRCGa8iF",
        "outputId": "92f409d7-77dc-47cd-fd73-15a1c73aa6f4"
      },
      "execution_count": null,
      "outputs": [
        {
          "output_type": "stream",
          "name": "stderr",
          "text": [
            "/usr/local/lib/python3.10/dist-packages/torchvision/models/_utils.py:208: UserWarning: The parameter 'pretrained' is deprecated since 0.13 and may be removed in the future, please use 'weights' instead.\n",
            "  warnings.warn(\n",
            "/usr/local/lib/python3.10/dist-packages/torchvision/models/_utils.py:223: UserWarning: Arguments other than a weight enum or `None` for 'weights' are deprecated since 0.13 and may be removed in the future. The current behavior is equivalent to passing `weights=FasterRCNN_ResNet50_FPN_Weights.COCO_V1`. You can also use `weights=FasterRCNN_ResNet50_FPN_Weights.DEFAULT` to get the most up-to-date weights.\n",
            "  warnings.warn(msg)\n"
          ]
        }
      ]
    },
    {
      "cell_type": "markdown",
      "source": [
        "Que.7.How can you change the confidence threshold for YOLO object detection and filter out low-confidence\n",
        "predictions6"
      ],
      "metadata": {
        "id": "bvmLdQn5bQ6p"
      }
    },
    {
      "source": [
        "from ultralytics import YOLO\n",
        "import cv2\n",
        "import matplotlib.pyplot as plt\n",
        "\n",
        "# Load the YOLOv9 (YOLOv8) model\n",
        "model = YOLO('yolov8n.pt')  # You can change to another model size (e.g., yolov8s.pt)\n",
        "\n",
        "# Function to load an image\n",
        "def load_image(image_path):\n",
        "    img = cv2.imread(image_path)  # Load image using OpenCV\n",
        "\n",
        "    # Check if image was loaded successfully\n",
        "    if img is None:\n",
        "        print(f\"Error: Could not load image from {image_path}. Please check the path and ensure the file exists.\")\n",
        "        return None, None  # Return None for both img and img_rgb if loading fails\n",
        "\n",
        "    img_rgb = cv2.cvtColor(img, cv2.COLOR_BGR2RGB)  # Convert BGR to RGB for displaying with matplotlib\n",
        "    return img, img_rgb\n",
        "\n",
        "# Set a confidence threshold for filtering\n",
        "confidence_threshold = 0.5  # Any prediction with a confidence score lower than this will be discarded\n",
        "\n",
        "# Load an image from file\n",
        "# Replace 'path_to_your_image.jpg' with the actual path to your image file\n",
        "image_path = '/content/image.jpg'"
      ],
      "cell_type": "code",
      "metadata": {
        "id": "47IUr1kKbaup"
      },
      "execution_count": null,
      "outputs": []
    },
    {
      "cell_type": "markdown",
      "source": [
        "Que.8.How do you plot the training and validation loss curves for model evaluation6\n"
      ],
      "metadata": {
        "id": "epWK2KQ4biwm"
      }
    },
    {
      "cell_type": "code",
      "source": [
        "import matplotlib.pyplot as plt\n",
        "\n",
        "# Assuming you have lists that store loss values for each epoch\n",
        "# Example:\n",
        "train_losses = [0.9, 0.7, 0.6, 0.5, 0.4]  # List of training loss values\n",
        "val_losses = [1.0, 0.8, 0.7, 0.65, 0.6]  # List of validation loss values\n",
        "epochs = range(1, len(train_losses) + 1)  # Epochs\n",
        "\n",
        "# Plotting the training and validation loss curves\n",
        "plt.figure(figsize=(10, 6))\n",
        "plt.plot(epochs, train_losses, label='Training Loss', color='blue', marker='o')\n",
        "plt.plot(epochs, val_losses, label='Validation Loss', color='red', marker='x')\n",
        "plt.title('Training and Validation Loss')\n",
        "plt.xlabel('Epochs')\n",
        "plt.ylabel('Loss')\n",
        "plt.legend()\n",
        "plt.grid(True)\n",
        "plt.show()\n"
      ],
      "metadata": {
        "colab": {
          "base_uri": "https://localhost:8080/",
          "height": 564
        },
        "id": "OasN0fT6bt22",
        "outputId": "a647cc92-58fe-48ed-ea08-3e38f3b9f18f"
      },
      "execution_count": null,
      "outputs": [
        {
          "output_type": "display_data",
          "data": {
            "text/plain": [
              "<Figure size 1000x600 with 1 Axes>"
            ],
            "image/png": "[encoded data removed]"
          },
          "metadata": {}
        }
      ]
    },
    {
      "cell_type": "markdown",
      "source": [
        "QUe.9.How do you perform inference on multiple images from a local folder using Faster RCNN and display the\n",
        "bounding boxes for each6"
      ],
      "metadata": {
        "id": "3YykoXoZb2Ld"
      }
    },
    {
      "source": [
        "import torch\n",
        "from torchvision import models, transforms\n",
        "from PIL import Image\n",
        "import os\n",
        "import matplotlib.pyplot as plt\n",
        "import cv2\n",
        "# Load the pre-trained Faster R-CNN model with ResNet50 backbone\n",
        "model = models.detection.fasterrcnn_resnet50_fpn(pretrained=True)\n",
        "model.eval()  # Set the model to evaluation mode\n",
        "\n",
        "# Define image transformation (convert image to tensor)\n",
        "transform = transforms.Compose([\n",
        "    transforms.ToTensor(),  # Convert the image to a tensor\n",
        "])\n",
        "\n",
        "# Function to load and preprocess images\n",
        "def load_and_preprocess_image(image_path):\n",
        "    # Open the image with PIL\n",
        "    img = Image.open(image_path)\n",
        "    img_tensor = transform(img)  # Convert to tensor\n",
        "    return img, img_tensor\n",
        "\n",
        "# Function to perform inference on an image and display bounding boxes\n",
        "def perform_inference_and_display(image_path):\n",
        "    # Load and preprocess the image\n",
        "    img, img_tensor = load_and_preprocess_image(image_path)\n",
        "\n",
        "    # Add a batch dimension (because the model expects a batch of images)\n",
        "    img_tensor = img_tensor.unsqueeze(0)\n",
        "\n",
        "    # Perform inference without computing gradients (for faster performance)\n",
        "    with torch.no_grad():\n",
        "        predictions = model(img_tensor)\n",
        "\n",
        "    # Extract the bounding boxes, labels, and scores from predictions\n",
        "    boxes = predictions[0]['boxes']\n",
        "    labels = predictions[0]['labels']\n",
        "    scores = predictions[0]['scores']\n",
        "\n",
        "    # Convert the image to a format suitable for Matplotlib (RGB)\n",
        "    img_rgb = cv2.cvtColor(np.array(img), cv2.COLOR_BGR2RGB)\n",
        "\n",
        "    # Plot the image and draw bounding boxes\n",
        "    plt.figure(figsize=(12, 9))\n",
        "    plt.imshow(img_rgb)\n",
        "    plt.axis('off')  # Hide axes for better visualization\n",
        "\n",
        "    # Draw the bounding boxes\n",
        "    for box, label, score in zip(boxes, labels, scores):\n",
        "        if score >= 0.5:  # Only display predictions with score above 0.5\n",
        "            x1, y1, x2, y2 = map(int, box.tolist())\n",
        "            class_name = model.names[label.item()]  # Get the class name\n",
        "            # Draw the bounding box\n",
        "            plt.gca().add_patch(plt.Rectangle((x1, y1), x2 - x1, y2 - y1,\n",
        "                                              fill=False, color='red', linewidth=2))\n",
        "            # Add label and score\n",
        "            plt.text(x1, y1, f'{class_name} {score:.2f}', color='white', fontsize=12,\n",
        "                     bbox=dict(facecolor='red', alpha=0.5))\n",
        "\n",
        "    plt.show()\n",
        "\n",
        "# Function to perform inference on all images in a folder\n",
        "def process_images_in_folder(folder_path):\n",
        "    # Get all image file paths in the folder\n",
        "    image_files = [f for f in os.listdir(folder_path) if f.endswith(('jpg', 'png', 'jpeg'))]\n",
        "\n",
        "    # Loop through all the images and perform inference\n",
        "    for image_file in image_files:\n",
        "        image_path = os.path.join(folder_path, image_file)\n",
        "        print(f\"Processing {image_file}...\")\n",
        "        perform_inference_and_display(image_path)\n",
        "\n",
        "# Specify the folder containing images\n",
        "# folder_path = 'path_to_your_image_folder'  # Replace with"
      ],
      "cell_type": "code",
      "metadata": {
        "colab": {
          "base_uri": "https://localhost:8080/"
        },
        "id": "rgGnTIkfcVTx",
        "outputId": "fab91e2d-0636-41ca-f3d9-e7c679828814"
      },
      "execution_count": null,
      "outputs": [
        {
          "output_type": "stream",
          "name": "stderr",
          "text": [
            "/usr/local/lib/python3.10/dist-packages/torchvision/models/_utils.py:208: UserWarning: The parameter 'pretrained' is deprecated since 0.13 and may be removed in the future, please use 'weights' instead.\n",
            "  warnings.warn(\n",
            "/usr/local/lib/python3.10/dist-packages/torchvision/models/_utils.py:223: UserWarning: Arguments other than a weight enum or `None` for 'weights' are deprecated since 0.13 and may be removed in the future. The current behavior is equivalent to passing `weights=FasterRCNN_ResNet50_FPN_Weights.COCO_V1`. You can also use `weights=FasterRCNN_ResNet50_FPN_Weights.DEFAULT` to get the most up-to-date weights.\n",
            "  warnings.warn(msg)\n"
          ]
        }
      ]
    },
    {
      "cell_type": "markdown",
      "source": [
        "Que.10,= How do you visualize the confidence scores alongside the bounding boxes for detected objects using Faster\n",
        "RCNN6"
      ],
      "metadata": {
        "id": "smTZ8-sUcc--"
      }
    },
    {
      "cell_type": "markdown",
      "source": [
        "How can you save the inference results (with bounding boxes) as a new image after performing detection\n",
        "using YOLO?"
      ],
      "metadata": {
        "id": "WhugNLc9ucwS"
      }
    },
    {
      "source": [
        "import cv2\n",
        "\n",
        "# Sample detections (replace with actual YOLO outputs)\n",
        "detections = [\n",
        "    {\"label\": \"car\", \"confidence\": 0.85, \"bbox\": [50, 50, 200, 150]},  # [x1, y1, x2, y2]\n",
        "    {\"label\": \"person\", \"confidence\": 0.78, \"bbox\": [300, 80, 400, 200]},\n",
        "]\n",
        "\n",
        "# Load the original image\n",
        "# Updated image path to 'image.jpg', please ensure you have an image with this name in your current directory\n",
        "# or provide the correct path to your image\n",
        "image_path = 'gardan.jpg'\n",
        "image = cv2.imread(image_path)\n",
        "\n",
        "# Check if the image was loaded successfully\n",
        "if image is None:\n",
        "    print(f\"Error: Could not load image from {image_path}. Please check the path and ensure the file exists.\")\n",
        "    exit()  # Exit the program if image loading fails\n",
        "\n",
        "# Draw bounding boxes\n",
        "for detection in detections:\n",
        "    x1, y1, x2, y2 = detection[\"bbox\"]\n",
        "    label = detection[\"label\"]\n",
        "    confidence = detection[\"confidence\"]\n",
        "\n",
        "    # Draw rectangle\n",
        "    cv2.rectangle(image, (x1, y1), (x2, y2), (0, 255, 0), 2)  # Green bounding box\n",
        "\n",
        "    # Add label\n",
        "    label_text = f\"{label}: {confidence:.2f}\"\n",
        "    cv2.putText(image, label_text, (x1, y1 - 10), cv2.FONT_HERSHEY_SIMPLEX, 0.5, (0, 255, 0), 2)\n",
        "\n",
        "# Save the new image with a different filename to avoid overwriting 'cv2.imshow'\n",
        "# which is actually a function name in OpenCV\n",
        "output_image_path = 'output_image.jpg'\n",
        "cv2.imwrite(output_image_path, image)\n",
        "print(f\"Image saved to: {output_image_path}\")"
      ],
      "cell_type": "code",
      "metadata": {
        "id": "LRM2nvgPUPD9",
        "outputId": "fc34ea60-ae3b-41b5-ee4c-8bd72a114dce",
        "colab": {
          "base_uri": "https://localhost:8080/"
        }
      },
      "execution_count": 2,
      "outputs": [
        {
          "output_type": "stream",
          "name": "stdout",
          "text": [
            "Image saved to: output_image.jpg\n",
            "Image saved to: output_image.jpg\n"
          ]
        }
      ]
    }
  ]
}