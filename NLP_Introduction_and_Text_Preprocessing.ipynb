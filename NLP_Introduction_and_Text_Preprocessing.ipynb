{
  "nbformat": 4,
  "nbformat_minor": 0,
  "metadata": {
    "colab": {
      "provenance": [],
      "authorship_tag": "ABX9TyPLsv7gNiNzlgCAsoWI2uWd",
      "include_colab_link": true
    },
    "kernelspec": {
      "name": "python3",
      "display_name": "Python 3"
    },
    "language_info": {
      "name": "python"
    }
  },
  "cells": [
    {
      "cell_type": "markdown",
      "metadata": {
        "id": "view-in-github",
        "colab_type": "text"
      },
      "source": [
        "<a href=\"https://colab.research.google.com/github/saurabhmungale/DataScience_Assignements/blob/main/NLP_Introduction_and_Text_Preprocessing.ipynb\" target=\"_parent\"><img src=\"https://colab.research.google.com/assets/colab-badge.svg\" alt=\"Open In Colab\"/></a>"
      ]
    },
    {
      "cell_type": "markdown",
      "source": [
        "Que.1.How can you perform word tokenization using NLTK"
      ],
      "metadata": {
        "id": "WDfsAoxka9Dd"
      }
    },
    {
      "source": [
        "\n",
        "import nltk\n",
        "\n",
        "# Download the necessary resource: 'punkt_tab'\n",
        "nltk.download('punkt_tab')\n",
        "\n",
        "# Sample text\n",
        "text = \"Natural Language Processing with NLTK is fun!\"\n",
        "\n",
        "# Word tokenization\n",
        "words = nltk.word_tokenize(text)\n",
        "\n",
        "# Print the tokenized words\n",
        "print(words)"
      ],
      "cell_type": "code",
      "metadata": {
        "colab": {
          "base_uri": "https://localhost:8080/"
        },
        "id": "0NSRpZ7_bQsl",
        "outputId": "799e244d-c4b0-4218-db77-7d2d6b7f7795"
      },
      "execution_count": 4,
      "outputs": [
        {
          "output_type": "stream",
          "name": "stderr",
          "text": [
            "[nltk_data] Downloading package punkt_tab to /root/nltk_data...\n",
            "[nltk_data]   Unzipping tokenizers/punkt_tab.zip.\n"
          ]
        },
        {
          "output_type": "stream",
          "name": "stdout",
          "text": [
            "['Natural', 'Language', 'Processing', 'with', 'NLTK', 'is', 'fun', '!']\n"
          ]
        }
      ]
    },
    {
      "cell_type": "markdown",
      "source": [
        "Que.2.How can you perform sentence tokenization using NLTK:"
      ],
      "metadata": {
        "id": "9zXi2PnmbVhT"
      }
    },
    {
      "cell_type": "code",
      "source": [
        "import nltk\n",
        "nltk.download('punkt')  # Download the necessary resources\n",
        "\n",
        "# Sample text\n",
        "text = \"Natural Language Processing with NLTK is fun! Let's learn more about it. It is very powerful.\"\n",
        "\n",
        "# Sentence tokenization\n",
        "sentences = nltk.sent_tokenize(text)\n",
        "\n",
        "# Print the tokenized sentences\n",
        "print(sentences)\n"
      ],
      "metadata": {
        "colab": {
          "base_uri": "https://localhost:8080/"
        },
        "id": "0uUhWexrbY5O",
        "outputId": "484bd9e7-a709-45ff-9622-fa041a0f6bd3"
      },
      "execution_count": 5,
      "outputs": [
        {
          "output_type": "stream",
          "name": "stdout",
          "text": [
            "['Natural Language Processing with NLTK is fun!', \"Let's learn more about it.\", 'It is very powerful.']\n"
          ]
        },
        {
          "output_type": "stream",
          "name": "stderr",
          "text": [
            "[nltk_data] Downloading package punkt to /root/nltk_data...\n",
            "[nltk_data]   Package punkt is already up-to-date!\n"
          ]
        }
      ]
    },
    {
      "cell_type": "markdown",
      "source": [
        "Que.3How can you remove stopwords from a sentence\u001c"
      ],
      "metadata": {
        "id": "OM7Q9hFBbcPA"
      }
    },
    {
      "cell_type": "code",
      "source": [
        "import nltk\n",
        "from nltk.corpus import stopwords\n",
        "from nltk.tokenize import word_tokenize\n",
        "\n",
        "# Download necessary NLTK resources\n",
        "nltk.download('punkt')\n",
        "nltk.download('stopwords')\n",
        "\n",
        "# Sample sentence\n",
        "sentence = \"This is an example of removing stopwords from a sentence.\"\n",
        "\n",
        "# Tokenize the sentence\n",
        "words = word_tokenize(sentence)\n",
        "\n",
        "# Get the list of stopwords in English\n",
        "stop_words = set(stopwords.words('english'))\n",
        "\n",
        "# Remove stopwords from the tokenized words\n",
        "filtered_words = [word for word in words if word.lower() not in stop_words]\n",
        "\n",
        "# Print the filtered sentence\n",
        "print(\"Original sentence:\", sentence)\n",
        "print(\"Filtered sentence:\", \" \".join(filtered_words))\n"
      ],
      "metadata": {
        "colab": {
          "base_uri": "https://localhost:8080/"
        },
        "id": "jilV60RFbfBU",
        "outputId": "8b2fbc77-360d-440e-a917-89a9911064c3"
      },
      "execution_count": 6,
      "outputs": [
        {
          "output_type": "stream",
          "name": "stdout",
          "text": [
            "Original sentence: This is an example of removing stopwords from a sentence.\n",
            "Filtered sentence: example removing stopwords sentence .\n"
          ]
        },
        {
          "output_type": "stream",
          "name": "stderr",
          "text": [
            "[nltk_data] Downloading package punkt to /root/nltk_data...\n",
            "[nltk_data]   Package punkt is already up-to-date!\n",
            "[nltk_data] Downloading package stopwords to /root/nltk_data...\n",
            "[nltk_data]   Unzipping corpora/stopwords.zip.\n"
          ]
        }
      ]
    },
    {
      "cell_type": "markdown",
      "source": [
        "Que.4.How can you perform stemming on a word\u001c"
      ],
      "metadata": {
        "id": "Y5AduZb1bivh"
      }
    },
    {
      "cell_type": "code",
      "source": [
        "import nltk\n",
        "from nltk.stem import PorterStemmer\n",
        "\n",
        "# Download necessary NLTK resources\n",
        "nltk.download('punkt')\n",
        "\n",
        "# Initialize the PorterStemmer\n",
        "stemmer = PorterStemmer()\n",
        "\n",
        "# Sample word\n",
        "word = \"running\"\n",
        "\n",
        "# Perform stemming\n",
        "stemmed_word = stemmer.stem(word)\n",
        "\n",
        "# Print the result\n",
        "print(\"Original word:\", word)\n",
        "print(\"Stemmed word:\", stemmed_word)\n"
      ],
      "metadata": {
        "colab": {
          "base_uri": "https://localhost:8080/"
        },
        "id": "_sEN97VtblZT",
        "outputId": "1a58904f-0965-43be-9882-06b5c886c8ce"
      },
      "execution_count": 7,
      "outputs": [
        {
          "output_type": "stream",
          "name": "stdout",
          "text": [
            "Original word: running\n",
            "Stemmed word: run\n"
          ]
        },
        {
          "output_type": "stream",
          "name": "stderr",
          "text": [
            "[nltk_data] Downloading package punkt to /root/nltk_data...\n",
            "[nltk_data]   Package punkt is already up-to-date!\n"
          ]
        }
      ]
    },
    {
      "cell_type": "markdown",
      "source": [
        "Que.5.How can you perform lemmatization on a word\u001c"
      ],
      "metadata": {
        "id": "hSfuv1fibpSn"
      }
    },
    {
      "cell_type": "code",
      "source": [
        "import nltk\n",
        "from nltk.stem import WordNetLemmatizer\n",
        "from nltk.corpus import wordnet\n",
        "\n",
        "# Download necessary NLTK resources\n",
        "nltk.download('punkt')\n",
        "nltk.download('wordnet')\n",
        "\n",
        "# Initialize the WordNetLemmatizer\n",
        "lemmatizer = WordNetLemmatizer()\n",
        "\n",
        "# Sample words\n",
        "word1 = \"running\"\n",
        "word2 = \"better\"\n",
        "\n",
        "# Perform lemmatization (default is noun)\n",
        "lemmatized_word1 = lemmatizer.lemmatize(word1, pos='v')  # Use verb for 'running'\n",
        "lemmatized_word2 = lemmatizer.lemmatize(word2, pos='a')  # Use adjective for 'better'\n",
        "\n",
        "# Print the result\n",
        "print(\"Original word:\", word1, \"Lemmatized word:\", lemmatized_word1)\n",
        "print(\"Original word:\", word2, \"Lemmatized word:\", lemmatized_word2)\n"
      ],
      "metadata": {
        "colab": {
          "base_uri": "https://localhost:8080/"
        },
        "id": "KCXArzcQbt-2",
        "outputId": "507c5b24-6e91-4e91-a811-dd50b1cea0e2"
      },
      "execution_count": 8,
      "outputs": [
        {
          "output_type": "stream",
          "name": "stderr",
          "text": [
            "[nltk_data] Downloading package punkt to /root/nltk_data...\n",
            "[nltk_data]   Package punkt is already up-to-date!\n",
            "[nltk_data] Downloading package wordnet to /root/nltk_data...\n"
          ]
        },
        {
          "output_type": "stream",
          "name": "stdout",
          "text": [
            "Original word: running Lemmatized word: run\n",
            "Original word: better Lemmatized word: good\n"
          ]
        }
      ]
    },
    {
      "cell_type": "markdown",
      "source": [
        "Que.6.How can you normalize a text by converting it to lowercase and removing punctuation?"
      ],
      "metadata": {
        "id": "xMt_vK6Gbx1P"
      }
    },
    {
      "cell_type": "code",
      "source": [
        "import string\n",
        "\n",
        "def normalize_text(text):\n",
        "    # Convert the text to lowercase\n",
        "    text = text.lower()\n",
        "\n",
        "    # Remove punctuation\n",
        "    text = text.translate(str.maketrans('', '', string.punctuation))\n",
        "\n",
        "    return text\n",
        "\n",
        "# Sample text\n",
        "sample_text = \"Hello, World! This is an example text with Punctuation.\"\n",
        "\n",
        "# Normalize the text\n",
        "normalized_text = normalize_text(sample_text)\n",
        "\n",
        "# Print the normalized text\n",
        "print(\"Normalized text:\", normalized_text)\n"
      ],
      "metadata": {
        "colab": {
          "base_uri": "https://localhost:8080/"
        },
        "id": "6MicATzLb0ae",
        "outputId": "b347a603-50a9-4539-8631-236d4c1e1729"
      },
      "execution_count": 9,
      "outputs": [
        {
          "output_type": "stream",
          "name": "stdout",
          "text": [
            "Normalized text: hello world this is an example text with punctuation\n"
          ]
        }
      ]
    },
    {
      "cell_type": "markdown",
      "source": [
        "Que.7.: How can you create a co-occurrence matrix for words in a corpus?"
      ],
      "metadata": {
        "id": "1hmW16kwb4Z-"
      }
    },
    {
      "cell_type": "code",
      "source": [
        "import nltk\n",
        "from nltk.tokenize import word_tokenize\n",
        "import numpy as np\n",
        "import pandas as pd\n",
        "from collections import defaultdict\n",
        "\n",
        "# Sample corpus (you can replace this with your own corpus)\n",
        "corpus = [\n",
        "    \"I love programming in Python\",\n",
        "    \"Python is great for data science\",\n",
        "    \"Natural language processing is fun\",\n",
        "    \"I enjoy learning new programming languages\"\n",
        "]\n",
        "\n",
        "# Step 1: Tokenize the corpus into words\n",
        "nltk.download('punkt')  # Download the punkt tokenizer\n",
        "tokenized_corpus = [word_tokenize(sentence.lower()) for sentence in corpus]\n",
        "\n",
        "# Step 2: Define the co-occurrence matrix\n",
        "window_size = 2  # Define the window size (how many words around the target word)\n",
        "word_to_index = {}  # A dictionary to map words to indices\n",
        "index_to_word = {}  # A dictionary to map indices to words\n",
        "co_occurrence_matrix = defaultdict(lambda: defaultdict(int))  # Default dictionary to store counts\n",
        "\n",
        "# Step 3: Create word-to-index mapping\n",
        "all_words = set(word for sentence in tokenized_corpus for word in sentence)\n",
        "for idx, word in enumerate(all_words):\n",
        "    word_to_index[word] = idx\n",
        "    index_to_word[idx] = word\n",
        "\n",
        "# Step 4: Build the co-occurrence matrix\n",
        "for sentence in tokenized_corpus:\n",
        "    for i, target_word in enumerate(sentence):\n",
        "        target_idx = word_to_index[target_word]\n",
        "        # Create a window around the target word\n",
        "        for j in range(i - window_size, i + window_size + 1):\n",
        "            if j != i and 0 <= j < len(sentence):  # Ensure we're not looking at the target word itself\n",
        "                context_word = sentence[j]\n",
        "                context_idx = word_to_index[context_word]\n",
        "                co_occurrence_matrix[target_idx][context_idx] += 1\n",
        "\n",
        "# Step 5: Convert co-occurrence matrix to a DataFrame for better visualization\n",
        "matrix = np.zeros((len(all_words), len(all_words)))\n",
        "\n",
        "for target_idx, context_dict in co_occurrence_matrix.items():\n",
        "    for context_idx, count in context_dict.items():\n",
        "        matrix[target_idx, context_idx] = count\n",
        "\n",
        "# Convert the matrix to a DataFrame for easier interpretation\n",
        "co_occurrence_df = pd.DataFrame(matrix, index=index_to_word.values(), columns=index_to_word.values())\n",
        "\n",
        "# Display the co-occurrence matrix\n",
        "print(co_occurrence_df)\n"
      ],
      "metadata": {
        "colab": {
          "base_uri": "https://localhost:8080/"
        },
        "id": "9ECzPfIJb9j4",
        "outputId": "92fddfe0-7b5e-43ce-dbe9-fc9e213eed09"
      },
      "execution_count": 10,
      "outputs": [
        {
          "output_type": "stream",
          "name": "stdout",
          "text": [
            "             python  love  great  learning  languages   in  science  data  \\\n",
            "python          0.0   0.0    1.0       0.0        0.0  1.0      0.0   0.0   \n",
            "love            0.0   0.0    0.0       0.0        0.0  1.0      0.0   0.0   \n",
            "great           1.0   0.0    0.0       0.0        0.0  0.0      0.0   1.0   \n",
            "learning        0.0   0.0    0.0       0.0        0.0  0.0      0.0   0.0   \n",
            "languages       0.0   0.0    0.0       0.0        0.0  0.0      0.0   0.0   \n",
            "in              1.0   1.0    0.0       0.0        0.0  0.0      0.0   0.0   \n",
            "science         0.0   0.0    0.0       0.0        0.0  0.0      0.0   1.0   \n",
            "data            0.0   0.0    1.0       0.0        0.0  0.0      1.0   0.0   \n",
            "natural         0.0   0.0    0.0       0.0        0.0  0.0      0.0   0.0   \n",
            "enjoy           0.0   0.0    0.0       1.0        0.0  0.0      0.0   0.0   \n",
            "fun             0.0   0.0    0.0       0.0        0.0  0.0      0.0   0.0   \n",
            "programming     1.0   1.0    0.0       1.0        1.0  1.0      0.0   0.0   \n",
            "processing      0.0   0.0    0.0       0.0        0.0  0.0      0.0   0.0   \n",
            "language        0.0   0.0    0.0       0.0        0.0  0.0      0.0   0.0   \n",
            "for             0.0   0.0    1.0       0.0        0.0  0.0      1.0   1.0   \n",
            "is              1.0   0.0    1.0       0.0        0.0  0.0      0.0   0.0   \n",
            "i               0.0   1.0    0.0       1.0        0.0  0.0      0.0   0.0   \n",
            "new             0.0   0.0    0.0       1.0        1.0  0.0      0.0   0.0   \n",
            "\n",
            "             natural  enjoy  fun  programming  processing  language  for   is  \\\n",
            "python           0.0    0.0  0.0          1.0         0.0       0.0  0.0  1.0   \n",
            "love             0.0    0.0  0.0          1.0         0.0       0.0  0.0  0.0   \n",
            "great            0.0    0.0  0.0          0.0         0.0       0.0  1.0  1.0   \n",
            "learning         0.0    1.0  0.0          1.0         0.0       0.0  0.0  0.0   \n",
            "languages        0.0    0.0  0.0          1.0         0.0       0.0  0.0  0.0   \n",
            "in               0.0    0.0  0.0          1.0         0.0       0.0  0.0  0.0   \n",
            "science          0.0    0.0  0.0          0.0         0.0       0.0  1.0  0.0   \n",
            "data             0.0    0.0  0.0          0.0         0.0       0.0  1.0  0.0   \n",
            "natural          0.0    0.0  0.0          0.0         1.0       1.0  0.0  0.0   \n",
            "enjoy            0.0    0.0  0.0          0.0         0.0       0.0  0.0  0.0   \n",
            "fun              0.0    0.0  0.0          0.0         1.0       0.0  0.0  1.0   \n",
            "programming      0.0    0.0  0.0          0.0         0.0       0.0  0.0  0.0   \n",
            "processing       1.0    0.0  1.0          0.0         0.0       1.0  0.0  1.0   \n",
            "language         1.0    0.0  0.0          0.0         1.0       0.0  0.0  1.0   \n",
            "for              0.0    0.0  0.0          0.0         0.0       0.0  0.0  1.0   \n",
            "is               0.0    0.0  1.0          0.0         1.0       1.0  1.0  0.0   \n",
            "i                0.0    1.0  0.0          1.0         0.0       0.0  0.0  0.0   \n",
            "new              0.0    1.0  0.0          1.0         0.0       0.0  0.0  0.0   \n",
            "\n",
            "               i  new  \n",
            "python       0.0  0.0  \n",
            "love         1.0  0.0  \n",
            "great        0.0  0.0  \n",
            "learning     1.0  1.0  \n",
            "languages    0.0  1.0  \n",
            "in           0.0  0.0  \n",
            "science      0.0  0.0  \n",
            "data         0.0  0.0  \n",
            "natural      0.0  0.0  \n",
            "enjoy        1.0  1.0  \n",
            "fun          0.0  0.0  \n",
            "programming  1.0  1.0  \n",
            "processing   0.0  0.0  \n",
            "language     0.0  0.0  \n",
            "for          0.0  0.0  \n",
            "is           0.0  0.0  \n",
            "i            0.0  0.0  \n",
            "new          0.0  0.0  \n"
          ]
        },
        {
          "output_type": "stream",
          "name": "stderr",
          "text": [
            "[nltk_data] Downloading package punkt to /root/nltk_data...\n",
            "[nltk_data]   Package punkt is already up-to-date!\n"
          ]
        }
      ]
    },
    {
      "cell_type": "markdown",
      "source": [
        "QUe.8.How can you apply a regular expression to extract all email addresses from a text\u001c"
      ],
      "metadata": {
        "id": "UcJeqEakcA9j"
      }
    },
    {
      "cell_type": "code",
      "source": [
        "import re\n",
        "\n",
        "# Sample text with email addresses\n",
        "text = \"\"\"\n",
        "Hello, you can reach out to us at support@example.com for any queries.\n",
        "For marketing inquiries, please contact marketing@company.org.\n",
        "If you need technical support, email tech_support@domain.net.\n",
        "\"\"\"\n",
        "\n",
        "# Regex pattern for matching email addresses\n",
        "email_pattern = r'[a-zA-Z0-9._%+-]+@[a-zA-Z0-9.-]+\\.[a-zA-Z]{2,}'\n",
        "\n",
        "# Extract all email addresses\n",
        "email_addresses = re.findall(email_pattern, text)\n",
        "\n",
        "# Print the extracted email addresses\n",
        "print(\"Extracted email addresses:\", email_addresses)\n"
      ],
      "metadata": {
        "colab": {
          "base_uri": "https://localhost:8080/"
        },
        "id": "KgrOdMvacDY1",
        "outputId": "b6fac4a8-41c5-44de-85fd-ec25492ff8b2"
      },
      "execution_count": 11,
      "outputs": [
        {
          "output_type": "stream",
          "name": "stdout",
          "text": [
            "Extracted email addresses: ['support@example.com', 'marketing@company.org', 'tech_support@domain.net']\n"
          ]
        }
      ]
    },
    {
      "cell_type": "markdown",
      "source": [
        "Que.9.How can you perform word embedding using Word2Vec\u001c"
      ],
      "metadata": {
        "id": "p0Jj2zWscIfw"
      }
    },
    {
      "cell_type": "code",
      "source": [
        "import gensim\n",
        "from gensim.models import Word2Vec\n",
        "from nltk.tokenize import word_tokenize\n",
        "import nltk\n",
        "nltk.download('punkt')\n",
        "\n",
        "# Sample corpus (You can replace this with a larger corpus)\n",
        "corpus = [\n",
        "    \"Natural language processing is a fascinating field.\",\n",
        "    \"Word embeddings are used to represent words as vectors.\",\n",
        "    \"Gensim is a popular library for topic modeling and word embeddings.\",\n",
        "    \"Word2Vec can learn distributed representations of words.\"\n",
        "]\n",
        "\n",
        "# Step 1: Tokenize the sentences into words\n",
        "tokenized_corpus = [word_tokenize(sentence.lower()) for sentence in corpus]\n",
        "\n",
        "# Step 2: Train the Word2Vec model\n",
        "model = Word2Vec(tokenized_corpus, vector_size=100, window=5, min_count=1, workers=4)\n",
        "\n",
        "# Step 3: Access the learned word embeddings\n",
        "word_embedding = model.wv['word']  # Get the embedding for the word 'word'\n",
        "print(\"Word embedding for 'word':\", word_embedding)\n",
        "\n",
        "# Step 4: Find most similar words to 'word'\n",
        "similar_words = model.wv.most_similar('word', topn=5)\n",
        "print(\"Most similar words to 'word':\", similar_words)\n"
      ],
      "metadata": {
        "colab": {
          "base_uri": "https://localhost:8080/"
        },
        "id": "KFL8Z5E7cL1F",
        "outputId": "c8cdf7b7-7e01-4927-aeef-87e527950477"
      },
      "execution_count": 12,
      "outputs": [
        {
          "output_type": "stream",
          "name": "stdout",
          "text": [
            "Word embedding for 'word': [-0.00713751  0.00124343 -0.0071764  -0.00224442  0.00372011  0.00583292\n",
            "  0.00119966  0.00210471 -0.00411062  0.00722387 -0.00630524  0.00464605\n",
            " -0.00821988  0.00203652 -0.00497774 -0.00424876 -0.00310557  0.00565403\n",
            "  0.00579677 -0.00497747  0.00077358 -0.00849554  0.00781029  0.00925664\n",
            " -0.00274389  0.00080062  0.00074581  0.00547876 -0.0086048   0.0005847\n",
            "  0.00686808  0.00223012  0.00112445 -0.00932369  0.00848031 -0.00626413\n",
            " -0.00299095  0.00349254 -0.00077388  0.00141119  0.00178184 -0.0068285\n",
            " -0.00972335  0.00904175  0.00619852 -0.00691149  0.00340222  0.00020475\n",
            "  0.00475312 -0.00711884  0.00402717  0.0043465   0.00995574 -0.00447458\n",
            " -0.00139096 -0.00731927 -0.00969522 -0.00907981 -0.00102273 -0.00650339\n",
            "  0.00484869 -0.00616645  0.00252093  0.00073989 -0.00339255 -0.0009769\n",
            "  0.00997936  0.00914645 -0.00446494  0.00908298 -0.00564232  0.00593249\n",
            " -0.003096    0.00343121  0.00301716  0.00689932 -0.00237205  0.00877738\n",
            "  0.00758838 -0.00954736 -0.00801054 -0.00763742  0.00292291 -0.00279456\n",
            " -0.00692913 -0.00812854  0.00831043  0.00198975 -0.00932794 -0.00479303\n",
            "  0.00313783 -0.00471241  0.00528069 -0.00423277  0.00264322 -0.00804672\n",
            "  0.00620967  0.00481949  0.00078661  0.00301607]\n",
            "Most similar words to 'word': [('to', 0.2528873085975647), ('can', 0.20088355243206024), ('is', 0.17020341753959656), ('used', 0.15015560388565063), ('embeddings', 0.1388288289308548)]\n"
          ]
        },
        {
          "output_type": "stream",
          "name": "stderr",
          "text": [
            "[nltk_data] Downloading package punkt to /root/nltk_data...\n",
            "[nltk_data]   Package punkt is already up-to-date!\n"
          ]
        }
      ]
    },
    {
      "cell_type": "markdown",
      "source": [
        "QUe.10 How can you use Doc2Vec to embed documents\u001c"
      ],
      "metadata": {
        "id": "_qFHuiIUcPpg"
      }
    },
    {
      "cell_type": "code",
      "source": [
        "import gensim\n",
        "from gensim.models.doc2vec import Doc2Vec, TaggedDocument\n",
        "from nltk.tokenize import word_tokenize\n",
        "import nltk\n",
        "nltk.download('punkt')\n",
        "\n",
        "# Sample corpus (replace with your own corpus)\n",
        "corpus = [\n",
        "    \"Natural language processing is a fascinating field.\",\n",
        "    \"Doc2Vec learns distributed representations for entire documents.\",\n",
        "    \"Document embeddings are useful for document similarity tasks.\",\n",
        "    \"Doc2Vec is an extension of Word2Vec to represent entire documents.\"\n",
        "]\n",
        "\n",
        "# Step 1: Tokenize the sentences into words\n",
        "tokenized_corpus = [word_tokenize(sentence.lower()) for sentence in corpus]\n",
        "\n",
        "# Step 2: Prepare the corpus for training (TaggedDocument is used in Doc2Vec)\n",
        "tagged_data = [TaggedDocument(words=sentence, tags=[str(i)]) for i, sentence in enumerate(tokenized_corpus)]\n",
        "\n",
        "# Step 3: Train the Doc2Vec model\n",
        "model = Doc2Vec(vector_size=100, window=5, min_count=1, workers=4, epochs=10)\n",
        "model.build_vocab(tagged_data)\n",
        "model.train(tagged_data, total_examples=model.corpus_count, epochs=model.epochs)\n",
        "\n",
        "# Step 4: Retrieve document embeddings\n",
        "# Get the vector representation of a document (for example, document with tag '0')\n",
        "doc_vector = model.dv['0']\n",
        "print(\"Embedding for document '0':\", doc_vector)\n",
        "\n",
        "# Step 5: Find the most similar documents to a given document (e.g., document '0')\n",
        "similar_docs = model.dv.most_similar('0', topn=3)\n",
        "print(\"Most similar documents to document '0':\", similar_docs)\n"
      ],
      "metadata": {
        "colab": {
          "base_uri": "https://localhost:8080/"
        },
        "id": "vZ0fzm-JcS6E",
        "outputId": "86a4f8ea-a7f4-4b5a-896a-1843a3475910"
      },
      "execution_count": 13,
      "outputs": [
        {
          "output_type": "stream",
          "name": "stderr",
          "text": [
            "[nltk_data] Downloading package punkt to /root/nltk_data...\n",
            "[nltk_data]   Package punkt is already up-to-date!\n"
          ]
        },
        {
          "output_type": "stream",
          "name": "stdout",
          "text": [
            "Embedding for document '0': [-5.2838610e-03 -6.0307551e-03 -9.9108526e-03  8.6105429e-03\n",
            "  3.5852639e-03  2.1631242e-04 -9.8803900e-03 -5.1368847e-03\n",
            " -9.7731659e-03  2.0026558e-03  2.8326474e-03  4.6358015e-03\n",
            " -4.3229503e-03 -3.1458074e-03 -3.0626236e-03 -8.7467507e-03\n",
            "  2.1945457e-03  9.2605092e-03 -9.5180348e-03 -3.5053820e-03\n",
            " -3.7756548e-03  2.6110657e-03 -5.6815119e-03  2.6584966e-03\n",
            "  5.8119069e-03 -8.1235971e-03 -8.4130531e-03 -9.9806841e-03\n",
            "  4.9451673e-03 -9.1790818e-03  5.8882921e-03  6.8255528e-03\n",
            " -6.4914110e-03 -4.5380443e-03 -1.2810311e-03  1.6793193e-03\n",
            " -1.5072981e-03 -8.5826498e-03 -3.6279168e-03  1.6935179e-03\n",
            " -2.0170931e-03 -7.2448552e-03  4.2011752e-03 -8.6069796e-03\n",
            "  2.6961495e-03 -4.6403082e-03  6.1094790e-04 -2.0263141e-03\n",
            "  5.4286420e-03 -8.0404524e-03 -2.1685201e-03 -9.1577924e-05\n",
            " -6.6843932e-03 -6.5544536e-03 -1.9399378e-03  8.8421507e-03\n",
            " -1.2738449e-03  3.5593335e-03 -5.7846601e-03  8.8502644e-03\n",
            "  2.9366489e-03  9.3604140e-03  4.4194120e-03 -4.2219246e-03\n",
            "  2.2294621e-03 -4.3980265e-03  5.7999832e-03  1.8390846e-03\n",
            " -2.3032175e-03 -5.8934358e-03 -8.0753900e-03 -8.3240710e-04\n",
            " -8.9847520e-03 -9.2385206e-03 -7.9065301e-03  2.1690151e-03\n",
            " -6.5031610e-03 -7.8386543e-03  2.1247773e-03  2.0592120e-03\n",
            "  8.3648944e-03  4.7092596e-03 -9.4576348e-03 -3.0746980e-04\n",
            "  7.8492444e-03  2.7137692e-03  2.6967900e-03 -4.9084150e-03\n",
            "  6.4858482e-03  1.6645903e-03 -7.6521044e-03  6.9033033e-03\n",
            " -9.8159611e-03 -8.1641721e-03 -4.8607793e-03  1.0007861e-02\n",
            "  3.1274739e-03 -2.0293489e-03  8.9788642e-03  2.3643703e-03]\n",
            "Most similar documents to document '0': [('1', 0.16587702929973602), ('2', 0.003216653596609831), ('3', -0.01020754873752594)]\n"
          ]
        }
      ]
    },
    {
      "cell_type": "markdown",
      "source": [
        "Que.111How can you perform part-of-speech tagging?"
      ],
      "metadata": {
        "id": "9jAb9BGqcfyL"
      }
    },
    {
      "source": [
        "import nltk\n",
        "from nltk.tokenize import word_tokenize\n",
        "\n",
        "# Download necessary NLTK data files\n",
        "nltk.download('punkt')  # for word tokenization\n",
        "nltk.download('averaged_perceptron_tagger_eng')  # Download the missing tagger data\n",
        "\n",
        "# Sample text\n",
        "text = \"NLTK is a leading platform for building Python programs to work with human language data.\"\n",
        "\n",
        "# Tokenize the text into words\n",
        "tokens = word_tokenize(text)\n",
        "\n",
        "# Perform POS tagging\n",
        "pos_tags = nltk.pos_tag(tokens)\n",
        "\n",
        "# Print the POS tags\n",
        "print(\"POS Tags using NLTK:\")\n",
        "for word, tag in pos_tags:\n",
        "    print(f\"{word}: {tag}\")"
      ],
      "cell_type": "code",
      "metadata": {
        "colab": {
          "base_uri": "https://localhost:8080/"
        },
        "id": "erMCI-GGdnL5",
        "outputId": "fe4eb720-6a52-4beb-c3ae-1e309d7e4cbb"
      },
      "execution_count": 15,
      "outputs": [
        {
          "output_type": "stream",
          "name": "stderr",
          "text": [
            "[nltk_data] Downloading package punkt to /root/nltk_data...\n",
            "[nltk_data]   Package punkt is already up-to-date!\n",
            "[nltk_data] Downloading package averaged_perceptron_tagger_eng to\n",
            "[nltk_data]     /root/nltk_data...\n",
            "[nltk_data]   Unzipping taggers/averaged_perceptron_tagger_eng.zip.\n"
          ]
        },
        {
          "output_type": "stream",
          "name": "stdout",
          "text": [
            "POS Tags using NLTK:\n",
            "NLTK: NNP\n",
            "is: VBZ\n",
            "a: DT\n",
            "leading: VBG\n",
            "platform: NN\n",
            "for: IN\n",
            "building: VBG\n",
            "Python: NNP\n",
            "programs: NNS\n",
            "to: TO\n",
            "work: VB\n",
            "with: IN\n",
            "human: JJ\n",
            "language: NN\n",
            "data: NNS\n",
            ".: .\n"
          ]
        }
      ]
    },
    {
      "cell_type": "markdown",
      "source": [
        "Que.12.How can you find the similarity between two sentences using cosine similarity?"
      ],
      "metadata": {
        "id": "-ICJZTmQdwEy"
      }
    },
    {
      "cell_type": "code",
      "source": [
        "from sklearn.feature_extraction.text import TfidfVectorizer\n",
        "from sklearn.metrics.pairwise import cosine_similarity\n",
        "\n",
        "# Sample sentences\n",
        "sentence1 = \"I love programming and machine learning.\"\n",
        "sentence2 = \"Machine learning and programming are great.\"\n",
        "\n",
        "# Initialize the TF-IDF vectorizer\n",
        "vectorizer = TfidfVectorizer()\n",
        "\n",
        "# Combine sentences into a list\n",
        "sentences = [sentence1, sentence2]\n",
        "\n",
        "# Fit and transform the sentences into TF-IDF vectors\n",
        "tfidf_matrix = vectorizer.fit_transform(sentences)\n",
        "\n",
        "# Compute cosine similarity between the two sentences\n",
        "cosine_sim = cosine_similarity(tfidf_matrix[0], tfidf_matrix[1])\n",
        "\n",
        "# Output the similarity score\n",
        "print(f\"Cosine Similarity between the sentences: {cosine_sim[0][0]}\")\n"
      ],
      "metadata": {
        "colab": {
          "base_uri": "https://localhost:8080/"
        },
        "id": "IoirdkPmd0vw",
        "outputId": "52f32fbd-ded1-45d4-a980-c49d0506b6ab"
      },
      "execution_count": 16,
      "outputs": [
        {
          "output_type": "stream",
          "name": "stdout",
          "text": [
            "Cosine Similarity between the sentences: 0.5803329846765686\n"
          ]
        }
      ]
    },
    {
      "cell_type": "markdown",
      "source": [
        "Que.13How can you extract named entities from a sentence?"
      ],
      "metadata": {
        "id": "zFz9erFxd5TZ"
      }
    },
    {
      "cell_type": "code",
      "source": [
        "import spacy\n",
        "\n",
        "# Load the pre-trained SpaCy model\n",
        "nlp = spacy.load(\"en_core_web_sm\")\n",
        "\n",
        "# Sample sentence\n",
        "sentence = \"Barack Obama was born in Hawaii on August 4, 1961.\"\n",
        "\n",
        "# Process the sentence using the SpaCy model\n",
        "doc = nlp(sentence)\n",
        "\n",
        "# Extract named entities\n",
        "for ent in doc.ents:\n",
        "    print(f\"Entity: {ent.text}, Label: {ent.label_}\")\n"
      ],
      "metadata": {
        "colab": {
          "base_uri": "https://localhost:8080/"
        },
        "id": "jIvTm_8OeFPs",
        "outputId": "05711d03-7102-4bc3-8e5c-3e3eaa7bfe3e"
      },
      "execution_count": 17,
      "outputs": [
        {
          "output_type": "stream",
          "name": "stdout",
          "text": [
            "Entity: Barack Obama, Label: PERSON\n",
            "Entity: Hawaii, Label: GPE\n",
            "Entity: August 4, 1961, Label: DATE\n"
          ]
        }
      ]
    },
    {
      "cell_type": "markdown",
      "source": [
        "Que.14. How can you split a large document into smaller chunks of text?"
      ],
      "metadata": {
        "id": "mX9_o__geKsl"
      }
    },
    {
      "cell_type": "code",
      "source": [
        "import spacy\n",
        "\n",
        "# Load pre-trained SpaCy model\n",
        "nlp = spacy.load(\"en_core_web_sm\")\n",
        "\n",
        "# Sample large document (as a string)\n",
        "document = \"\"\"This is the first sentence. This is the second sentence. And here is the third sentence.\"\"\"\n",
        "\n",
        "# Process the document\n",
        "doc = nlp(document)\n",
        "\n",
        "# Split the document into sentences\n",
        "sentences = [sent.text for sent in doc.sents]\n",
        "\n",
        "# Print each sentence\n",
        "for i, sentence in enumerate(sentences):\n",
        "    print(f\"Sentence {i + 1}:\")\n",
        "    print(sentence)\n",
        "    print(\"----\")\n"
      ],
      "metadata": {
        "colab": {
          "base_uri": "https://localhost:8080/"
        },
        "id": "MWRNMdAPeX3T",
        "outputId": "2debad0c-45b0-42ae-dc7b-2703b6f44ebb"
      },
      "execution_count": 18,
      "outputs": [
        {
          "output_type": "stream",
          "name": "stdout",
          "text": [
            "Sentence 1:\n",
            "This is the first sentence.\n",
            "----\n",
            "Sentence 2:\n",
            "This is the second sentence.\n",
            "----\n",
            "Sentence 3:\n",
            "And here is the third sentence.\n",
            "----\n"
          ]
        }
      ]
    },
    {
      "cell_type": "markdown",
      "source": [
        "QUe.15.How can you calculate the TF-IDF (Term Frequency - Inverse Document Frequency) for a set of documents?"
      ],
      "metadata": {
        "id": "Hlz2STQOeauW"
      }
    },
    {
      "cell_type": "code",
      "source": [
        "from sklearn.feature_extraction.text import TfidfVectorizer\n",
        "\n",
        "# Sample documents (corpus)\n",
        "documents = [\n",
        "    \"I love programming in Python\",\n",
        "    \"Python programming is fun\",\n",
        "    \"I enjoy coding in Python\"\n",
        "]\n",
        "\n",
        "# Initialize the TfidfVectorizer\n",
        "tfidf_vectorizer = TfidfVectorizer()\n",
        "\n",
        "# Fit and transform the documents to get the TF-IDF matrix\n",
        "tfidf_matrix = tfidf_vectorizer.fit_transform(documents)\n",
        "\n",
        "# Convert the TF-IDF matrix to a DataFrame for better readability\n",
        "import pandas as pd\n",
        "df_tfidf = pd.DataFrame(tfidf_matrix.toarray(), columns=tfidf_vectorizer.get_feature_names_out())\n",
        "\n",
        "# Print the TF-IDF matrix\n",
        "print(df_tfidf)\n"
      ],
      "metadata": {
        "colab": {
          "base_uri": "https://localhost:8080/"
        },
        "id": "5nvwvakiehhY",
        "outputId": "31dcf90c-b0d0-416c-ee30-6f05fc6a1f73"
      },
      "execution_count": 19,
      "outputs": [
        {
          "output_type": "stream",
          "name": "stdout",
          "text": [
            "     coding     enjoy       fun        in        is      love  programming  \\\n",
            "0  0.000000  0.000000  0.000000  0.480458  0.000000  0.631745     0.480458   \n",
            "1  0.000000  0.000000  0.584483  0.000000  0.584483  0.000000     0.444514   \n",
            "2  0.584483  0.584483  0.000000  0.444514  0.000000  0.000000     0.000000   \n",
            "\n",
            "     python  \n",
            "0  0.373119  \n",
            "1  0.345205  \n",
            "2  0.345205  \n"
          ]
        }
      ]
    },
    {
      "cell_type": "markdown",
      "source": [
        "Que.16.How can you apply tokenization, stopword removal, and stemming in one go\u001c"
      ],
      "metadata": {
        "id": "pI22pNcQelXa"
      }
    },
    {
      "cell_type": "code",
      "source": [
        "import nltk\n",
        "from nltk.corpus import stopwords\n",
        "from nltk.tokenize import word_tokenize\n",
        "from nltk.stem import PorterStemmer\n",
        "\n",
        "# Download necessary NLTK datasets (run this if not downloaded already)\n",
        "nltk.download('punkt')\n",
        "nltk.download('stopwords')\n",
        "\n",
        "def preprocess_text(text):\n",
        "    # Tokenize the text\n",
        "    tokens = word_tokenize(text)\n",
        "\n",
        "    # Get the list of stopwords\n",
        "    stop_words = set(stopwords.words('english'))\n",
        "\n",
        "    # Initialize the PorterStemmer\n",
        "    stemmer = PorterStemmer()\n",
        "\n",
        "    # Tokenize, remove stopwords, and apply stemming in one go\n",
        "    processed_tokens = [stemmer.stem(word) for word in tokens if word.lower() not in stop_words and word.isalnum()]\n",
        "\n",
        "    return processed_tokens\n",
        "\n",
        "# Example usage\n",
        "text = \"This is a simple example to demonstrate text preprocessing, including tokenization, stopword removal, and stemming.\"\n",
        "\n",
        "processed_text = preprocess_text(text)\n",
        "print(processed_text)\n"
      ],
      "metadata": {
        "colab": {
          "base_uri": "https://localhost:8080/"
        },
        "id": "FN8z9c0leqCM",
        "outputId": "343edcb8-1083-4fd4-eec9-be63c2367357"
      },
      "execution_count": 20,
      "outputs": [
        {
          "output_type": "stream",
          "name": "stdout",
          "text": [
            "['simpl', 'exampl', 'demonstr', 'text', 'preprocess', 'includ', 'token', 'stopword', 'remov', 'stem']\n"
          ]
        },
        {
          "output_type": "stream",
          "name": "stderr",
          "text": [
            "[nltk_data] Downloading package punkt to /root/nltk_data...\n",
            "[nltk_data]   Package punkt is already up-to-date!\n",
            "[nltk_data] Downloading package stopwords to /root/nltk_data...\n",
            "[nltk_data]   Package stopwords is already up-to-date!\n"
          ]
        }
      ]
    },
    {
      "cell_type": "markdown",
      "source": [
        "Que.17.How can you visualize the frequency distribution of words in a sentence?"
      ],
      "metadata": {
        "id": "Zvr2vVO7euol"
      }
    },
    {
      "cell_type": "code",
      "source": [
        "import nltk\n",
        "import matplotlib.pyplot as plt\n",
        "from nltk.tokenize import word_tokenize\n",
        "from nltk.probability import FreqDist\n",
        "\n",
        "# Download necessary NLTK datasets (run this if not downloaded already)\n",
        "nltk.download('punkt')\n",
        "\n",
        "# Sample text (can replace with your own sentence)\n",
        "text = \"This is a simple example. This example demonstrates how to visualize word frequency distribution.\"\n",
        "\n",
        "# Tokenize the text into words\n",
        "tokens = word_tokenize(text)\n",
        "\n",
        "# Generate the frequency distribution of words\n",
        "freq_dist = FreqDist(tokens)\n",
        "\n",
        "# Plot the frequency distribution\n",
        "freq_dist.plot(cumulative=False)\n",
        "plt.show()\n"
      ],
      "metadata": {
        "colab": {
          "base_uri": "https://localhost:8080/",
          "height": 567
        },
        "id": "cQslUeQ8ex7u",
        "outputId": "8e625953-6f84-4e5d-e251-f62c201de4cc"
      },
      "execution_count": 21,
      "outputs": [
        {
          "output_type": "stream",
          "name": "stderr",
          "text": [
            "[nltk_data] Downloading package punkt to /root/nltk_data...\n",
            "[nltk_data]   Package punkt is already up-to-date!\n"
          ]
        },
        {
          "output_type": "display_data",
          "data": {
            "text/plain": [
              "<Figure size 640x480 with 1 Axes>"
            ],
            "image/png": "[encoded data removed]"
          },
          "metadata": {}
        }
      ]
    }
  ]
}